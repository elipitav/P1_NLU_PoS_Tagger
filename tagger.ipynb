{
 "cells": [
  {
   "cell_type": "markdown",
   "metadata": {},
   "source": [
    "# POS Tagging with LSTM\n",
    "\n",
    "In this notebook, I will use a LSTM to predict the POS tags of words in a sentence. In order to do so we will use the `MyTagger` class. This class will be responsible for training the model and predicting the POS tags of a sentence. \n"
   ]
  },
  {
   "cell_type": "code",
   "execution_count": 1,
   "metadata": {},
   "outputs": [
    {
     "name": "stderr",
     "output_type": "stream",
     "text": [
      "2024-11-05 11:56:12.481950: I tensorflow/core/platform/cpu_feature_guard.cc:182] This TensorFlow binary is optimized to use available CPU instructions in performance-critical operations.\n",
      "To enable the following instructions: AVX2 FMA, in other operations, rebuild TensorFlow with the appropriate compiler flags.\n"
     ]
    }
   ],
   "source": [
    "from tagger import MyTagger"
   ]
  },
  {
   "cell_type": "markdown",
   "metadata": {},
   "source": [
    "## English POS Tags\n",
    "\n",
    "We will start with a firts model that will predict the POS tags of a sentence in English, using use the dataset from the [UD English EWT](https://github.com/UniversalDependencies/UD_English-EWT)."
   ]
  },
  {
   "cell_type": "markdown",
   "metadata": {},
   "source": [
    "### Initial set up"
   ]
  },
  {
   "cell_type": "markdown",
   "metadata": {},
   "source": [
    "#### Creating the tagger\n",
    "\n",
    "The `MyTagger` class will be initialized with the three files in CoNLL-U format that contain the training, validation and test data. In this way, we can have one instance of the class for each language."
   ]
  },
  {
   "cell_type": "code",
   "execution_count": 2,
   "metadata": {},
   "outputs": [],
   "source": [
    "eng_tagger = MyTagger(\n",
    "    train_filename = \"data/english/en_ewt-ud-train.conllu\",\n",
    "    val_filename = \"data/english/en_ewt-ud-dev.conllu\",\n",
    "    test_filename = \"data/english/en_ewt-ud-test.conllu\"\n",
    ")"
   ]
  },
  {
   "cell_type": "markdown",
   "metadata": {},
   "source": [
    "#### Max sentence length\n",
    "\n",
    "We need to make some decisions regarding the model's parameters. For example, we should define the maximum sentence length in the dataset and the size of the vocabulary. Below, we present some statistics about the dataset. It is important to note that this analysis is based solely on the training dataset, as we should not use the validation or test sets for this purpose. Using information from those sets to inform model design could lead to biased results.\n",
    "\n",
    "We should make a decission about the maximum length of the sentences. We observe that the average length of the sentences is aproximately 16 words and the standard deviation is 12.4. Also, we observe that there are not a lot of sentences with more than 100 words (only 0.04% of the sentences)."
   ]
  },
  {
   "cell_type": "code",
   "execution_count": 3,
   "metadata": {},
   "outputs": [
    {
     "name": "stdout",
     "output_type": "stream",
     "text": [
      "Max sentence length: 159\n",
      "Mean sentence length: 16.31\n",
      "Standard deviation of sentence length: 12.4\n"
     ]
    },
    {
     "data": {
      "image/png": "[encoded data removed]",
      "text/plain": [
       "<Figure size 640x480 with 1 Axes>"
      ]
     },
     "metadata": {},
     "output_type": "display_data"
    }
   ],
   "source": [
    "import numpy as np\n",
    "import matplotlib.pyplot as plt\n",
    "\n",
    "# Calculate the maximum length of the sentences\n",
    "sentence_num_words = [len(sentence.split()) for sentence in eng_tagger.X_train]\n",
    "max_len = max(sentence_num_words)\n",
    "print(f\"Max sentence length: {round(max_len, 2)}\")\n",
    "\n",
    "mean_len = np.mean(sentence_num_words)\n",
    "std_len = np.std(sentence_num_words)\n",
    "print(f\"Mean sentence length: {round(mean_len, 2)}\")\n",
    "print(f\"Standard deviation of sentence length: {round(std_len, 2)}\")\n",
    "\n",
    "# Build an histogram of the number of words in the sentences\n",
    "plt.hist(sentence_num_words, bins=50)\n",
    "plt.xlabel(\"Sentence length\")\n",
    "plt.ylabel(\"Frequency\")\n",
    "plt.title(\"Sentence length histogram\")\n",
    "plt.show()"
   ]
  },
  {
   "cell_type": "code",
   "execution_count": 4,
   "metadata": {},
   "outputs": [
    {
     "name": "stdout",
     "output_type": "stream",
     "text": [
      "Number of sentences over 100 words: 5\n",
      "Percentage of sentences over 100 words: 0.04%\n",
      "\n",
      "Sentence 6090 has more than 100 words (102). Sentence: \"That is what is about to happen with Judge Samuel Alito , in my opinion , because he has one tragic flaw - a very serious blind spot in his thinking - which makes him completely unacceptable for the position of Supreme Court Justice : He does not really agree with the system of \" Checks and Balances \" built into the Constitution , and he is ready to start tearing it down in order to follow the \" Unitary Executive Theory , \" which calls for vastly - increased Presidential Power at the expense of Congress and the Supreme Court .\"\n",
      "Sentence 6470 has more than 100 words (104). Sentence: \"\" I do not feel it has changed the US citizens which is what was needed , even now the majority want \" Gas \" despite the fact they are polluting the world more than any other country in the world and refuse to stop , perhaps this natural disaster , which let 's face it looks like a product of Global Warming , will change their views , why not pick things up with your hands and walk with your legs , other people in the world do it , \" Gas \" is not the be all and end all ! \"\"\n",
      "Sentence 6724 has more than 100 words (102). Sentence: \"<< \" I have told you , friend , \" said the curate , \" that this is done to divert our idle thoughts ; and as in well - ordered states games of CHESS , fives , and billiards are allowed for the diversion of those who do not care , or are not obliged , or are unable to work , so books of this kind are allowed to be printed , on the supposition that , what indeed is the truth , there can be nobody so ignorant as to take any of them for true stories ; >>\"\n",
      "Sentence 6779 has more than 100 words (159). Sentence: \"Antichrist John Lennon wanted to compete with Jesus Christ , and so he grew a beard and started to make a bogus role of Christ together with Yoko Ono at the Amsterdam Hilton hotel proclaiming \" Peace \" , being then when he was visited by the Canadian journalist who ridiculized and admonished him wanting to know about what Lennon meant when he wrote in the lyrics of \" The ballad of John and Yoko \" : \" the way things are going , they 're going to crucify me ... \" , The CURSE OF GOD upon John Lennon carried on with all type of miseries and distresses which made Lennon give the interview to the \" Rolling Stone \" magazine ( today condensed in the \" Lennon remembers \" book ) where he speaks about how bad thing were going for him blaming \" whatever is up there \" for it ( referring to God ) .\"\n",
      "Sentence 7506 has more than 100 words (135). Sentence: \"my name is Josalyn Leainne Creek and i 'm 19 years old and i graduated from high in May adn of this year and i love animals and i 'm great at working and i had drama in my last job which was mcallister 's deli and i ', a mormon and i hvae changed to be a better person that pwople are wanting to hirier and i 'm willing to work whenever you need me but i go to church on every sunday and i have a doctor 's appointment this thursday at 2;30 and i hope you h=guys hirier me because i work very hard and i do nt care about how much you guys pay and i 've been looking for a job ever since i have graduated and i hate drama\"\n"
     ]
    }
   ],
   "source": [
    "max_sentence_num_words = 100\n",
    "sentences_over_max_length = [i for i, num_words in enumerate(sentence_num_words) if num_words > max_sentence_num_words]\n",
    "print(f\"Number of sentences over {max_sentence_num_words} words: {len(sentences_over_max_length)}\")\n",
    "print(\n",
    "    f\"Percentage of sentences over {max_sentence_num_words} words: {len(sentences_over_max_length) / len(eng_tagger.X_train) * 100:.2f}%\\n\"\n",
    ")\n",
    "\n",
    "for i in sentences_over_max_length:\n",
    "    print(\n",
    "        f'Sentence {i} has more than {max_sentence_num_words} words ({sentence_num_words[i]}). Sentence: \"{eng_tagger.X_train[i]}\"'\n",
    ")"
   ]
  },
  {
   "cell_type": "markdown",
   "metadata": {},
   "source": [
    "As there are only few sentences with more than 100 words, we decide to set the maximum length of the sentences to 100. We will pad the sentences with zeros if they are shorter than 100 words and we will truncate them if they are longer than 100 words. To truncate them we have to options:\n",
    "\n",
    "- Truncate the sentences from the end of the sentence.\n",
    "- Locate the last punctuation mark before the token 100 and truncate the sentence from there.\n"
   ]
  },
  {
   "cell_type": "code",
   "execution_count": 5,
   "metadata": {},
   "outputs": [
    {
     "name": "stdout",
     "output_type": "stream",
     "text": [
      "Last punctuation mark in sentence 6090: 88\n",
      "Last punctuation mark in sentence 6470: 93\n",
      "Last punctuation mark in sentence 6724: 84\n",
      "Last punctuation mark in sentence 6779: 92\n",
      "Last punctuation mark in sentence 7506: -1\n"
     ]
    }
   ],
   "source": [
    "from utils import locate_last_punctuation_mark\n",
    "\n",
    "for i in sentences_over_max_length:\n",
    "    print(f\"Last punctuation mark in sentence {i}: {locate_last_punctuation_mark(eng_tagger.y_train[i], limit=100)}\")"
   ]
  },
  {
   "cell_type": "markdown",
   "metadata": {},
   "source": [
    "As not all the sentences that overlap the 100 words limit have a punctuation mark before the 100th token, we decide to truncate the sentences from the last punctuation mark before the 100th token, in case there is one. If there is no punctuation mark before the 100th token, we truncate the sentence from the 100th token.\n",
    "\n",
    "We must do this for the training, validation and test sets. This can be done by calling the `preprocess_data` method of the `MyTagger` class. By specifying `with_punctuation=True` and `max_sentence_num_words = 100` as arguments, the method will truncate the sentences from the last punctuation mark before the 100th token. If there is no punctuation mark before the 100th token, the sentence will be truncated from the 100th token. \n",
    "\n",
    "The preprocessing includes truncating the sentences and padding them with zeros after the truncation. The same will be done for the labels.\n"
   ]
  },
  {
   "cell_type": "code",
   "execution_count": 6,
   "metadata": {},
   "outputs": [],
   "source": [
    "eng_tagger.preprocess_data(max_sentence_num_words=100, with_punctuation=True)"
   ]
  },
  {
   "cell_type": "code",
   "execution_count": 7,
   "metadata": {},
   "outputs": [
    {
     "name": "stdout",
     "output_type": "stream",
     "text": [
      "Sentence 1: Al - Zaman : American forces killed Shaikh Abdullah al - Ani , the preacher at the mosque in the town of Qaim , near the Syrian border .\n",
      "Label 1: [12 13 12 13  1  8 16 12 12 12 13 12 13  6  8  2  6  8  2  6  8  2 12 13\n",
      "  2  6  1  8 13  0  0  0  0  0  0  0  0  0  0  0  0  0  0  0  0  0  0  0\n",
      "  0  0  0  0  0  0  0  0  0  0  0  0  0  0  0  0  0  0  0  0  0  0  0  0\n",
      "  0  0  0  0  0  0  0  0  0  0  0  0  0  0  0  0  0  0  0  0  0  0  0  0\n",
      "  0  0  0  0]\n"
     ]
    }
   ],
   "source": [
    "print(f\"Sentence 1: {eng_tagger.X_train[0]}\")\n",
    "print(f\"Label 1: {eng_tagger.y_train[0]}\")"
   ]
  },
  {
   "cell_type": "markdown",
   "metadata": {},
   "source": [
    "### Trying a first model"
   ]
  },
  {
   "cell_type": "markdown",
   "metadata": {},
   "source": [
    "We calculated the number of unique words in the training and test sets, which are 19,674 and 5,629, respectively. Half of the words of the test set are not present in the training set. This suggests that it may not be necessary to include all the words from the training set in the vocabulary, as this likely won't impact the model's performance. To determine the optimal vocabulary size, we also analyzed the frequency distribution of words in the training set. We found that only 9,868 words appear more than once in the training set, while the remaining 9,806 words appear only once. This suggests that we could set the vocabulary size to 10,000 without losing much information.\n"
   ]
  },
  {
   "cell_type": "code",
   "execution_count": 8,
   "metadata": {},
   "outputs": [
    {
     "name": "stdout",
     "output_type": "stream",
     "text": [
      "Number of unique tokens: 19671\n",
      "Number of unique tokens: 5629\n",
      "Number of tokens in train set that are also in test set: 3793\n"
     ]
    }
   ],
   "source": [
    "X_plain_train = {token for sentence in eng_tagger.X_train for token in sentence.split()}\n",
    "print(f\"Number of unique tokens: {len(X_plain_train)}\")\n",
    "\n",
    "X_plain_test = {token for sentence in eng_tagger.X_test for token in sentence.split()}\n",
    "print(f\"Number of unique tokens: {len(X_plain_test)}\")\n",
    "\n",
    "tokens_train_in_test = X_plain_train.intersection(X_plain_test)\n",
    "print(f\"Number of tokens in train set that are also in test set: {len(tokens_train_in_test)}\")"
   ]
  },
  {
   "cell_type": "code",
   "execution_count": 9,
   "metadata": {},
   "outputs": [
    {
     "name": "stdout",
     "output_type": "stream",
     "text": [
      "Number of words with more than 1 occurrence: 9868\n",
      "Number of words with more than 2 occurrences: 6727\n",
      "Number of words with more than 3 occurrences: 5142\n"
     ]
    }
   ],
   "source": [
    "from utils import calculate_word_frequency\n",
    "\n",
    "frequencies = calculate_word_frequency(eng_tagger.X_train)\n",
    "\n",
    "# We count the number of words with more than 1, 2 and 3 occurrences\n",
    "num_words_gt_1 = sum(1 for word, freq in frequencies.items() if freq > 1)\n",
    "num_words_gt_2 = sum(1 for word, freq in frequencies.items() if freq > 2)\n",
    "num_words_gt_3 = sum(1 for word, freq in frequencies.items() if freq > 3)\n",
    "\n",
    "print(f\"Number of words with more than 1 occurrence: {num_words_gt_1}\")\n",
    "print(f\"Number of words with more than 2 occurrences: {num_words_gt_2}\")\n",
    "print(f\"Number of words with more than 3 occurrences: {num_words_gt_3}\")"
   ]
  },
  {
   "cell_type": "markdown",
   "metadata": {},
   "source": [
    "In this way, we start by building a simple model with the following architecture:\n",
    "- `Vocabulary size`: 10,000\n",
    "- `Embedding size`: 50\n",
    "- `LSTM units`: 64\n",
    "- `Bidirectional`: False  "
   ]
  },
  {
   "cell_type": "code",
   "execution_count": 10,
   "metadata": {},
   "outputs": [
    {
     "name": "stdout",
     "output_type": "stream",
     "text": [
      "Model loaded from ./models/initial_model.keras\n",
      "Model: \"model\"\n",
      "_________________________________________________________________\n",
      " Layer (type)                Output Shape              Param #   \n",
      "=================================================================\n",
      " input_1 (InputLayer)        [(None, 1)]               0         \n",
      "                                                                 \n",
      " text_vectorization (TextVe  (None, 100)               0         \n",
      " ctorization)                                                    \n",
      "                                                                 \n",
      " embedding (Embedding)       (None, 100, 50)           500000    \n",
      "                                                                 \n",
      " lstm (LSTM)                 (None, 100, 64)           29440     \n",
      "                                                                 \n",
      " time_distributed (TimeDist  (None, 100, 18)           1170      \n",
      " ributed)                                                        \n",
      "                                                                 \n",
      "=================================================================\n",
      "Total params: 530610 (2.02 MB)\n",
      "Trainable params: 530610 (2.02 MB)\n",
      "Non-trainable params: 0 (0.00 Byte)\n",
      "_________________________________________________________________\n"
     ]
    }
   ],
   "source": [
    "# To create the model\n",
    "# eng_tagger.build_model(\n",
    "#     vocabulary_size = 10000, \n",
    "#     units = 64, \n",
    "#     output_dim = 50, \n",
    "#     bidirectional = False\n",
    "# )\n",
    "\n",
    "# To load the same model already trained\n",
    "eng_tagger.load_model(\"initial_model\")\n",
    "eng_tagger.model.summary()"
   ]
  },
  {
   "cell_type": "markdown",
   "metadata": {},
   "source": [
    "And we perform a first training with the following hyperparameters:\n",
    "- `Batch size`: 64\n",
    "- `Epochs`: 10\n",
    "- `Optimizer`: Adam"
   ]
  },
  {
   "cell_type": "code",
   "execution_count": 11,
   "metadata": {},
   "outputs": [
    {
     "name": "stdout",
     "output_type": "stream",
     "text": [
      "Epoch 1/11 - Loss: 1.9551, Accuracy: 0.4382, Val Loss: 0.9629, Val Accuracy: 0.7162\n",
      "Epoch 2/11 - Loss: 0.5628, Accuracy: 0.8457, Val Loss: 0.4646, Val Accuracy: 0.8711\n",
      "Epoch 3/11 - Loss: 0.3005, Accuracy: 0.9149, Val Loss: 0.3825, Val Accuracy: 0.8866\n",
      "Epoch 4/11 - Loss: 0.2332, Accuracy: 0.9280, Val Loss: 0.3596, Val Accuracy: 0.8914\n",
      "Epoch 5/11 - Loss: 0.2012, Accuracy: 0.9346, Val Loss: 0.3551, Val Accuracy: 0.8914\n",
      "Epoch 6/11 - Loss: 0.1805, Accuracy: 0.9405, Val Loss: 0.3479, Val Accuracy: 0.8932\n",
      "Epoch 7/11 - Loss: 0.1649, Accuracy: 0.9448, Val Loss: 0.3515, Val Accuracy: 0.8943\n",
      "Epoch 8/11 - Loss: 0.1519, Accuracy: 0.9492, Val Loss: 0.3496, Val Accuracy: 0.8949\n",
      "Epoch 9/11 - Loss: 0.1408, Accuracy: 0.9532, Val Loss: 0.3576, Val Accuracy: 0.8951\n",
      "Epoch 10/11 - Loss: 0.1314, Accuracy: 0.9565, Val Loss: 0.3711, Val Accuracy: 0.8914\n",
      "Epoch 11/11 - Loss: 0.1227, Accuracy: 0.9595, Val Loss: 0.3787, Val Accuracy: 0.8932\n"
     ]
    }
   ],
   "source": [
    "# To train the model\n",
    "# eng_tagger.train(\n",
    "#     batch_size = 64, \n",
    "#     optimizer = \"adam\",\n",
    "#     metrics=[\"accuracy\"]\n",
    "# )\n",
    "\n",
    "# To show the training history of the model already trained\n",
    "eng_tagger.show_training_log()"
   ]
  },
  {
   "cell_type": "markdown",
   "metadata": {},
   "source": [
    "We can represent the training process in a graph with the following method. In this way, we can see the evolution of the loss and accuracy in the training and validation sets. The results show that the model is overfitting, as the loss in the validation starts to increase after the fifth epoch, which is a sign of overfitting. Thanks to the early stopping, the saved model is the one with the best performance in the validation set."
   ]
  },
  {
   "cell_type": "code",
   "execution_count": 12,
   "metadata": {},
   "outputs": [
    {
     "data": {
      "image/png": "[encoded data removed]",
      "text/plain": [
       "<Figure size 1200x500 with 2 Axes>"
      ]
     },
     "metadata": {},
     "output_type": "display_data"
    }
   ],
   "source": [
    "eng_tagger.plot_training_history()"
   ]
  },
  {
   "cell_type": "markdown",
   "metadata": {},
   "source": [
    "We can, now, evaluate the model performance over the test set. The results show that the model has an accuracy of 0.8986, a result that could be better. Another possibility is to predict a new sentence and see the tags predicted by the model for each one of the words."
   ]
  },
  {
   "cell_type": "code",
   "execution_count": 13,
   "metadata": {},
   "outputs": [
    {
     "name": "stdout",
     "output_type": "stream",
     "text": [
      "65/65 [==============================] - 5s 18ms/step - loss: 0.3324 - accuracy: 0.8986\n",
      "1/1 [==============================] - 2s 2s/step\n",
      "Prediction for 'I am a sentence .':\n",
      "\tI -> PRON\n",
      "\tam -> AUX\n",
      "\ta -> DET\n",
      "\tsentence -> NOUN\n",
      "\t. -> PUNCT\n"
     ]
    }
   ],
   "source": [
    "eng_tagger.evaluate()\n",
    "predictions = eng_tagger.predict(\"I am a sentence .\")"
   ]
  },
  {
   "cell_type": "markdown",
   "metadata": {},
   "source": [
    "By analyzing the confussion matrix we can see that the model has some difficulties in predicting the tags of some words."
   ]
  },
  {
   "cell_type": "code",
   "execution_count": 14,
   "metadata": {},
   "outputs": [
    {
     "name": "stdout",
     "output_type": "stream",
     "text": [
      "65/65 [==============================] - 1s 23ms/step\n"
     ]
    },
    {
     "data": {
      "image/png": "[encoded data removed]",
      "text/plain": [
       "<Figure size 1000x1000 with 2 Axes>"
      ]
     },
     "metadata": {},
     "output_type": "display_data"
    }
   ],
   "source": [
    "eng_tagger.plot_confusion_matrix()"
   ]
  },
  {
   "cell_type": "markdown",
   "metadata": {},
   "source": [
    "Finally, we can save the model and the training results in a file. This way, we can load the model and the training results in the future without having to train the model again."
   ]
  },
  {
   "cell_type": "code",
   "execution_count": 8,
   "metadata": {},
   "outputs": [
    {
     "name": "stdout",
     "output_type": "stream",
     "text": [
      "Model saved in ./models/initial_model.keras\n",
      "Training history saved in ./models/initial_model_training_history.json\n"
     ]
    }
   ],
   "source": [
    "eng_tagger.save_model(model_filename = \"initial_model\")"
   ]
  },
  {
   "cell_type": "markdown",
   "metadata": {},
   "source": [
    "### Adding a bidirectional layer"
   ]
  },
  {
   "cell_type": "code",
   "execution_count": null,
   "metadata": {},
   "outputs": [
    {
     "name": "stdout",
     "output_type": "stream",
     "text": [
      "Model: \"model_1\"\n",
      "_________________________________________________________________\n",
      " Layer (type)                Output Shape              Param #   \n",
      "=================================================================\n",
      " input_2 (InputLayer)        [(None, 1)]               0         \n",
      "                                                                 \n",
      " text_vectorization_1 (Text  (None, 100)               0         \n",
      " Vectorization)                                                  \n",
      "                                                                 \n",
      " embedding_1 (Embedding)     (None, 100, 50)           500000    \n",
      "                                                                 \n",
      " bidirectional (Bidirection  (None, 100, 128)          58880     \n",
      " al)                                                             \n",
      "                                                                 \n",
      " time_distributed_1 (TimeDi  (None, 100, 18)           2322      \n",
      " stributed)                                                      \n",
      "                                                                 \n",
      "=================================================================\n",
      "Total params: 561202 (2.14 MB)\n",
      "Trainable params: 561202 (2.14 MB)\n",
      "Non-trainable params: 0 (0.00 Byte)\n",
      "_________________________________________________________________\n",
      "Epoch 1/30\n",
      "196/196 [==============================] - 32s 124ms/step - loss: 1.7743 - accuracy: 0.4802 - val_loss: 0.6722 - val_accuracy: 0.8194\n",
      "Epoch 2/30\n",
      "196/196 [==============================] - 21s 108ms/step - loss: 0.3790 - accuracy: 0.8980 - val_loss: 0.3512 - val_accuracy: 0.9000\n",
      "Epoch 3/30\n",
      "196/196 [==============================] - 21s 109ms/step - loss: 0.2055 - accuracy: 0.9411 - val_loss: 0.3024 - val_accuracy: 0.9069\n",
      "Epoch 4/30\n",
      "196/196 [==============================] - 22s 110ms/step - loss: 0.1561 - accuracy: 0.9535 - val_loss: 0.2866 - val_accuracy: 0.9138\n",
      "Epoch 5/30\n",
      "196/196 [==============================] - 21s 108ms/step - loss: 0.1297 - accuracy: 0.9607 - val_loss: 0.2840 - val_accuracy: 0.9146\n",
      "Epoch 6/30\n",
      "196/196 [==============================] - 21s 108ms/step - loss: 0.1115 - accuracy: 0.9662 - val_loss: 0.2810 - val_accuracy: 0.9164\n",
      "Epoch 7/30\n",
      "196/196 [==============================] - 21s 108ms/step - loss: 0.0971 - accuracy: 0.9708 - val_loss: 0.2918 - val_accuracy: 0.9143\n",
      "Epoch 8/30\n",
      "196/196 [==============================] - 21s 108ms/step - loss: 0.0843 - accuracy: 0.9751 - val_loss: 0.2968 - val_accuracy: 0.9146\n",
      "Epoch 9/30\n",
      "196/196 [==============================] - 21s 109ms/step - loss: 0.0739 - accuracy: 0.9788 - val_loss: 0.3149 - val_accuracy: 0.9144\n",
      "Epoch 10/30\n",
      "196/196 [==============================] - 21s 108ms/step - loss: 0.0649 - accuracy: 0.9816 - val_loss: 0.3176 - val_accuracy: 0.9152\n",
      "Epoch 11/30\n",
      "196/196 [==============================] - 21s 108ms/step - loss: 0.0573 - accuracy: 0.9842 - val_loss: 0.3323 - val_accuracy: 0.9136\n"
     ]
    },
    {
     "data": {
      "text/plain": [
       "<keras.src.callbacks.History at 0x12671bcd0>"
      ]
     },
     "execution_count": 9,
     "metadata": {},
     "output_type": "execute_result"
    }
   ],
   "source": [
    "eng_tagger.build_model(\n",
    "    vocabulary_size = 10000, \n",
    "    units = 64, \n",
    "    output_dim = 50, \n",
    "    bidirectional = True\n",
    ")\n",
    "\n",
    "eng_tagger.train( \n",
    "    batch_size = 64, \n",
    "    optimizer = \"adam\",\n",
    "    metrics=[\"accuracy\"]\n",
    ")"
   ]
  },
  {
   "cell_type": "code",
   "execution_count": 10,
   "metadata": {},
   "outputs": [
    {
     "data": {
      "image/png": "[encoded data removed]",
      "text/plain": [
       "<Figure size 1200x500 with 2 Axes>"
      ]
     },
     "metadata": {},
     "output_type": "display_data"
    },
    {
     "name": "stdout",
     "output_type": "stream",
     "text": [
      "65/65 [==============================] - 2s 32ms/step - loss: 0.2598 - accuracy: 0.9221\n"
     ]
    }
   ],
   "source": [
    "eng_tagger.plot_training_history()\n",
    "eng_tagger.evaluate()"
   ]
  },
  {
   "cell_type": "code",
   "execution_count": 11,
   "metadata": {},
   "outputs": [
    {
     "name": "stdout",
     "output_type": "stream",
     "text": [
      "Model saved in ./models/bidirectional_model.keras\n",
      "Training history saved in ./models/bidirectional_model_training_history.json\n"
     ]
    }
   ],
   "source": [
    "eng_tagger.save_model(model_filename = \"bidirectional_model\")"
   ]
  },
  {
   "cell_type": "code",
   "execution_count": 1,
   "metadata": {},
   "outputs": [
    {
     "data": {
      "application/vnd.plotly.v1+json": {
       "config": {
        "plotlyServerURL": "https://plot.ly"
       },
       "data": [
        {
         "line": {
          "color": "blue",
          "dash": "dash"
         },
         "mode": "lines",
         "name": "initial model - val_loss",
         "type": "scatter",
         "y": [
          0.9628639817237854,
          0.4645657241344452,
          0.38245201110839844,
          0.3596091568470001,
          0.355124294757843,
          0.3478887677192688,
          0.35148921608924866,
          0.3496397137641907,
          0.3576450049877167,
          0.37113121151924133,
          0.3786563575267792
         ]
        },
        {
         "line": {
          "color": "blue",
          "dash": "solid"
         },
         "mode": "lines",
         "name": "initial model - loss",
         "type": "scatter",
         "y": [
          1.955077052116394,
          0.5628032684326172,
          0.3004958927631378,
          0.2331819087266922,
          0.20116372406482697,
          0.1805131882429123,
          0.1648734211921692,
          0.15192490816116333,
          0.14081645011901855,
          0.13143837451934814,
          0.12272107601165771
         ]
        },
        {
         "line": {
          "color": "green",
          "dash": "dash"
         },
         "mode": "lines",
         "name": "bidirectional - val_loss",
         "type": "scatter",
         "y": [
          0.6721638441085815,
          0.35120102763175964,
          0.3024388551712036,
          0.2866140902042389,
          0.2839604616165161,
          0.2810109853744507,
          0.29183194041252136,
          0.29684513807296753,
          0.31485962867736816,
          0.31761765480041504,
          0.33230558037757874
         ]
        },
        {
         "line": {
          "color": "green",
          "dash": "solid"
         },
         "mode": "lines",
         "name": "bidirectional - loss",
         "type": "scatter",
         "y": [
          1.7743325233459473,
          0.37900620698928833,
          0.20549525320529938,
          0.1561209261417389,
          0.1296537071466446,
          0.11147718131542206,
          0.09709641337394714,
          0.08434990793466568,
          0.07386963814496994,
          0.06494136899709702,
          0.057327333837747574
         ]
        }
       ],
       "layout": {
        "template": {
         "data": {
          "bar": [
           {
            "error_x": {
             "color": "#2a3f5f"
            },
            "error_y": {
             "color": "#2a3f5f"
            },
            "marker": {
             "line": {
              "color": "#E5ECF6",
              "width": 0.5
             },
             "pattern": {
              "fillmode": "overlay",
              "size": 10,
              "solidity": 0.2
             }
            },
            "type": "bar"
           }
          ],
          "barpolar": [
           {
            "marker": {
             "line": {
              "color": "#E5ECF6",
              "width": 0.5
             },
             "pattern": {
              "fillmode": "overlay",
              "size": 10,
              "solidity": 0.2
             }
            },
            "type": "barpolar"
           }
          ],
          "carpet": [
           {
            "aaxis": {
             "endlinecolor": "#2a3f5f",
             "gridcolor": "white",
             "linecolor": "white",
             "minorgridcolor": "white",
             "startlinecolor": "#2a3f5f"
            },
            "baxis": {
             "endlinecolor": "#2a3f5f",
             "gridcolor": "white",
             "linecolor": "white",
             "minorgridcolor": "white",
             "startlinecolor": "#2a3f5f"
            },
            "type": "carpet"
           }
          ],
          "choropleth": [
           {
            "colorbar": {
             "outlinewidth": 0,
             "ticks": ""
            },
            "type": "choropleth"
           }
          ],
          "contour": [
           {
            "colorbar": {
             "outlinewidth": 0,
             "ticks": ""
            },
            "colorscale": [
             [
              0,
              "#0d0887"
             ],
             [
              0.1111111111111111,
              "#46039f"
             ],
             [
              0.2222222222222222,
              "#7201a8"
             ],
             [
              0.3333333333333333,
              "#9c179e"
             ],
             [
              0.4444444444444444,
              "#bd3786"
             ],
             [
              0.5555555555555556,
              "#d8576b"
             ],
             [
              0.6666666666666666,
              "#ed7953"
             ],
             [
              0.7777777777777778,
              "#fb9f3a"
             ],
             [
              0.8888888888888888,
              "#fdca26"
             ],
             [
              1,
              "#f0f921"
             ]
            ],
            "type": "contour"
           }
          ],
          "contourcarpet": [
           {
            "colorbar": {
             "outlinewidth": 0,
             "ticks": ""
            },
            "type": "contourcarpet"
           }
          ],
          "heatmap": [
           {
            "colorbar": {
             "outlinewidth": 0,
             "ticks": ""
            },
            "colorscale": [
             [
              0,
              "#0d0887"
             ],
             [
              0.1111111111111111,
              "#46039f"
             ],
             [
              0.2222222222222222,
              "#7201a8"
             ],
             [
              0.3333333333333333,
              "#9c179e"
             ],
             [
              0.4444444444444444,
              "#bd3786"
             ],
             [
              0.5555555555555556,
              "#d8576b"
             ],
             [
              0.6666666666666666,
              "#ed7953"
             ],
             [
              0.7777777777777778,
              "#fb9f3a"
             ],
             [
              0.8888888888888888,
              "#fdca26"
             ],
             [
              1,
              "#f0f921"
             ]
            ],
            "type": "heatmap"
           }
          ],
          "heatmapgl": [
           {
            "colorbar": {
             "outlinewidth": 0,
             "ticks": ""
            },
            "colorscale": [
             [
              0,
              "#0d0887"
             ],
             [
              0.1111111111111111,
              "#46039f"
             ],
             [
              0.2222222222222222,
              "#7201a8"
             ],
             [
              0.3333333333333333,
              "#9c179e"
             ],
             [
              0.4444444444444444,
              "#bd3786"
             ],
             [
              0.5555555555555556,
              "#d8576b"
             ],
             [
              0.6666666666666666,
              "#ed7953"
             ],
             [
              0.7777777777777778,
              "#fb9f3a"
             ],
             [
              0.8888888888888888,
              "#fdca26"
             ],
             [
              1,
              "#f0f921"
             ]
            ],
            "type": "heatmapgl"
           }
          ],
          "histogram": [
           {
            "marker": {
             "pattern": {
              "fillmode": "overlay",
              "size": 10,
              "solidity": 0.2
             }
            },
            "type": "histogram"
           }
          ],
          "histogram2d": [
           {
            "colorbar": {
             "outlinewidth": 0,
             "ticks": ""
            },
            "colorscale": [
             [
              0,
              "#0d0887"
             ],
             [
              0.1111111111111111,
              "#46039f"
             ],
             [
              0.2222222222222222,
              "#7201a8"
             ],
             [
              0.3333333333333333,
              "#9c179e"
             ],
             [
              0.4444444444444444,
              "#bd3786"
             ],
             [
              0.5555555555555556,
              "#d8576b"
             ],
             [
              0.6666666666666666,
              "#ed7953"
             ],
             [
              0.7777777777777778,
              "#fb9f3a"
             ],
             [
              0.8888888888888888,
              "#fdca26"
             ],
             [
              1,
              "#f0f921"
             ]
            ],
            "type": "histogram2d"
           }
          ],
          "histogram2dcontour": [
           {
            "colorbar": {
             "outlinewidth": 0,
             "ticks": ""
            },
            "colorscale": [
             [
              0,
              "#0d0887"
             ],
             [
              0.1111111111111111,
              "#46039f"
             ],
             [
              0.2222222222222222,
              "#7201a8"
             ],
             [
              0.3333333333333333,
              "#9c179e"
             ],
             [
              0.4444444444444444,
              "#bd3786"
             ],
             [
              0.5555555555555556,
              "#d8576b"
             ],
             [
              0.6666666666666666,
              "#ed7953"
             ],
             [
              0.7777777777777778,
              "#fb9f3a"
             ],
             [
              0.8888888888888888,
              "#fdca26"
             ],
             [
              1,
              "#f0f921"
             ]
            ],
            "type": "histogram2dcontour"
           }
          ],
          "mesh3d": [
           {
            "colorbar": {
             "outlinewidth": 0,
             "ticks": ""
            },
            "type": "mesh3d"
           }
          ],
          "parcoords": [
           {
            "line": {
             "colorbar": {
              "outlinewidth": 0,
              "ticks": ""
             }
            },
            "type": "parcoords"
           }
          ],
          "pie": [
           {
            "automargin": true,
            "type": "pie"
           }
          ],
          "scatter": [
           {
            "fillpattern": {
             "fillmode": "overlay",
             "size": 10,
             "solidity": 0.2
            },
            "type": "scatter"
           }
          ],
          "scatter3d": [
           {
            "line": {
             "colorbar": {
              "outlinewidth": 0,
              "ticks": ""
             }
            },
            "marker": {
             "colorbar": {
              "outlinewidth": 0,
              "ticks": ""
             }
            },
            "type": "scatter3d"
           }
          ],
          "scattercarpet": [
           {
            "marker": {
             "colorbar": {
              "outlinewidth": 0,
              "ticks": ""
             }
            },
            "type": "scattercarpet"
           }
          ],
          "scattergeo": [
           {
            "marker": {
             "colorbar": {
              "outlinewidth": 0,
              "ticks": ""
             }
            },
            "type": "scattergeo"
           }
          ],
          "scattergl": [
           {
            "marker": {
             "colorbar": {
              "outlinewidth": 0,
              "ticks": ""
             }
            },
            "type": "scattergl"
           }
          ],
          "scattermapbox": [
           {
            "marker": {
             "colorbar": {
              "outlinewidth": 0,
              "ticks": ""
             }
            },
            "type": "scattermapbox"
           }
          ],
          "scatterpolar": [
           {
            "marker": {
             "colorbar": {
              "outlinewidth": 0,
              "ticks": ""
             }
            },
            "type": "scatterpolar"
           }
          ],
          "scatterpolargl": [
           {
            "marker": {
             "colorbar": {
              "outlinewidth": 0,
              "ticks": ""
             }
            },
            "type": "scatterpolargl"
           }
          ],
          "scatterternary": [
           {
            "marker": {
             "colorbar": {
              "outlinewidth": 0,
              "ticks": ""
             }
            },
            "type": "scatterternary"
           }
          ],
          "surface": [
           {
            "colorbar": {
             "outlinewidth": 0,
             "ticks": ""
            },
            "colorscale": [
             [
              0,
              "#0d0887"
             ],
             [
              0.1111111111111111,
              "#46039f"
             ],
             [
              0.2222222222222222,
              "#7201a8"
             ],
             [
              0.3333333333333333,
              "#9c179e"
             ],
             [
              0.4444444444444444,
              "#bd3786"
             ],
             [
              0.5555555555555556,
              "#d8576b"
             ],
             [
              0.6666666666666666,
              "#ed7953"
             ],
             [
              0.7777777777777778,
              "#fb9f3a"
             ],
             [
              0.8888888888888888,
              "#fdca26"
             ],
             [
              1,
              "#f0f921"
             ]
            ],
            "type": "surface"
           }
          ],
          "table": [
           {
            "cells": {
             "fill": {
              "color": "#EBF0F8"
             },
             "line": {
              "color": "white"
             }
            },
            "header": {
             "fill": {
              "color": "#C8D4E3"
             },
             "line": {
              "color": "white"
             }
            },
            "type": "table"
           }
          ]
         },
         "layout": {
          "annotationdefaults": {
           "arrowcolor": "#2a3f5f",
           "arrowhead": 0,
           "arrowwidth": 1
          },
          "autotypenumbers": "strict",
          "coloraxis": {
           "colorbar": {
            "outlinewidth": 0,
            "ticks": ""
           }
          },
          "colorscale": {
           "diverging": [
            [
             0,
             "#8e0152"
            ],
            [
             0.1,
             "#c51b7d"
            ],
            [
             0.2,
             "#de77ae"
            ],
            [
             0.3,
             "#f1b6da"
            ],
            [
             0.4,
             "#fde0ef"
            ],
            [
             0.5,
             "#f7f7f7"
            ],
            [
             0.6,
             "#e6f5d0"
            ],
            [
             0.7,
             "#b8e186"
            ],
            [
             0.8,
             "#7fbc41"
            ],
            [
             0.9,
             "#4d9221"
            ],
            [
             1,
             "#276419"
            ]
           ],
           "sequential": [
            [
             0,
             "#0d0887"
            ],
            [
             0.1111111111111111,
             "#46039f"
            ],
            [
             0.2222222222222222,
             "#7201a8"
            ],
            [
             0.3333333333333333,
             "#9c179e"
            ],
            [
             0.4444444444444444,
             "#bd3786"
            ],
            [
             0.5555555555555556,
             "#d8576b"
            ],
            [
             0.6666666666666666,
             "#ed7953"
            ],
            [
             0.7777777777777778,
             "#fb9f3a"
            ],
            [
             0.8888888888888888,
             "#fdca26"
            ],
            [
             1,
             "#f0f921"
            ]
           ],
           "sequentialminus": [
            [
             0,
             "#0d0887"
            ],
            [
             0.1111111111111111,
             "#46039f"
            ],
            [
             0.2222222222222222,
             "#7201a8"
            ],
            [
             0.3333333333333333,
             "#9c179e"
            ],
            [
             0.4444444444444444,
             "#bd3786"
            ],
            [
             0.5555555555555556,
             "#d8576b"
            ],
            [
             0.6666666666666666,
             "#ed7953"
            ],
            [
             0.7777777777777778,
             "#fb9f3a"
            ],
            [
             0.8888888888888888,
             "#fdca26"
            ],
            [
             1,
             "#f0f921"
            ]
           ]
          },
          "colorway": [
           "#636efa",
           "#EF553B",
           "#00cc96",
           "#ab63fa",
           "#FFA15A",
           "#19d3f3",
           "#FF6692",
           "#B6E880",
           "#FF97FF",
           "#FECB52"
          ],
          "font": {
           "color": "#2a3f5f"
          },
          "geo": {
           "bgcolor": "white",
           "lakecolor": "white",
           "landcolor": "#E5ECF6",
           "showlakes": true,
           "showland": true,
           "subunitcolor": "white"
          },
          "hoverlabel": {
           "align": "left"
          },
          "hovermode": "closest",
          "mapbox": {
           "style": "light"
          },
          "paper_bgcolor": "white",
          "plot_bgcolor": "#E5ECF6",
          "polar": {
           "angularaxis": {
            "gridcolor": "white",
            "linecolor": "white",
            "ticks": ""
           },
           "bgcolor": "#E5ECF6",
           "radialaxis": {
            "gridcolor": "white",
            "linecolor": "white",
            "ticks": ""
           }
          },
          "scene": {
           "xaxis": {
            "backgroundcolor": "#E5ECF6",
            "gridcolor": "white",
            "gridwidth": 2,
            "linecolor": "white",
            "showbackground": true,
            "ticks": "",
            "zerolinecolor": "white"
           },
           "yaxis": {
            "backgroundcolor": "#E5ECF6",
            "gridcolor": "white",
            "gridwidth": 2,
            "linecolor": "white",
            "showbackground": true,
            "ticks": "",
            "zerolinecolor": "white"
           },
           "zaxis": {
            "backgroundcolor": "#E5ECF6",
            "gridcolor": "white",
            "gridwidth": 2,
            "linecolor": "white",
            "showbackground": true,
            "ticks": "",
            "zerolinecolor": "white"
           }
          },
          "shapedefaults": {
           "line": {
            "color": "#2a3f5f"
           }
          },
          "ternary": {
           "aaxis": {
            "gridcolor": "white",
            "linecolor": "white",
            "ticks": ""
           },
           "baxis": {
            "gridcolor": "white",
            "linecolor": "white",
            "ticks": ""
           },
           "bgcolor": "#E5ECF6",
           "caxis": {
            "gridcolor": "white",
            "linecolor": "white",
            "ticks": ""
           }
          },
          "title": {
           "x": 0.05
          },
          "xaxis": {
           "automargin": true,
           "gridcolor": "white",
           "linecolor": "white",
           "ticks": "",
           "title": {
            "standoff": 15
           },
           "zerolinecolor": "white",
           "zerolinewidth": 2
          },
          "yaxis": {
           "automargin": true,
           "gridcolor": "white",
           "linecolor": "white",
           "ticks": "",
           "title": {
            "standoff": 15
           },
           "zerolinecolor": "white",
           "zerolinewidth": 2
          }
         }
        },
        "title": {
         "text": "Adding bidirectional layer"
        }
       }
      }
     },
     "metadata": {},
     "output_type": "display_data"
    }
   ],
   "source": [
    "from utils import add_curve\n",
    "fig = add_curve(json_file = \"models/initial_model_training_history.json\", name = \"initial model\", color = \"blue\", title = \"Adding bidirectional layer\")\n",
    "fig = add_curve(json_file = \"models/bidirectional_model_training_history.json\", name = \"bidirectional\", color = \"green\", fig = fig)\n",
    "fig.show()"
   ]
  },
  {
   "cell_type": "markdown",
   "metadata": {},
   "source": [
    "|                       | **Acccuracy** | **Loss** |\n",
    "|:---------------------:|:-------------:|:--------:|\n",
    "|    _Initial model_    |     0.8986    |  0.3324  |\n",
    "| _Bidirectional model_ |     0.9221    |  0.2598  |"
   ]
  },
  {
   "cell_type": "markdown",
   "metadata": {},
   "source": [
    "### Number of LSTM units"
   ]
  },
  {
   "cell_type": "code",
   "execution_count": null,
   "metadata": {},
   "outputs": [
    {
     "name": "stdout",
     "output_type": "stream",
     "text": [
      "Model: \"model_4\"\n",
      "_________________________________________________________________\n",
      " Layer (type)                Output Shape              Param #   \n",
      "=================================================================\n",
      " input_5 (InputLayer)        [(None, 1)]               0         \n",
      "                                                                 \n",
      " text_vectorization_4 (Text  (None, 100)               0         \n",
      " Vectorization)                                                  \n",
      "                                                                 \n",
      " embedding_4 (Embedding)     (None, 100, 40)           400000    \n",
      "                                                                 \n",
      " bidirectional_3 (Bidirecti  (None, 100, 64)           18688     \n",
      " onal)                                                           \n",
      "                                                                 \n",
      " time_distributed_4 (TimeDi  (None, 100, 18)           1170      \n",
      " stributed)                                                      \n",
      "                                                                 \n",
      "=================================================================\n",
      "Total params: 419858 (1.60 MB)\n",
      "Trainable params: 419858 (1.60 MB)\n",
      "Non-trainable params: 0 (0.00 Byte)\n",
      "_________________________________________________________________\n",
      "Epoch 1/30\n"
     ]
    },
    {
     "ename": "KeyboardInterrupt",
     "evalue": "",
     "output_type": "error",
     "traceback": [
      "\u001b[0;31m---------------------------------------------------------------------------\u001b[0m",
      "\u001b[0;31mKeyboardInterrupt\u001b[0m                         Traceback (most recent call last)",
      "Cell \u001b[0;32mIn[18], line 8\u001b[0m\n\u001b[1;32m      1\u001b[0m eng_tagger\u001b[38;5;241m.\u001b[39mbuild_model(\n\u001b[1;32m      2\u001b[0m     vocabulary_size \u001b[38;5;241m=\u001b[39m \u001b[38;5;241m10000\u001b[39m, \n\u001b[1;32m      3\u001b[0m     units \u001b[38;5;241m=\u001b[39m \u001b[38;5;241m32\u001b[39m, \n\u001b[1;32m      4\u001b[0m     output_dim \u001b[38;5;241m=\u001b[39m \u001b[38;5;241m40\u001b[39m, \n\u001b[1;32m      5\u001b[0m     bidirectional \u001b[38;5;241m=\u001b[39m \u001b[38;5;28;01mTrue\u001b[39;00m\n\u001b[1;32m      6\u001b[0m )\n\u001b[0;32m----> 8\u001b[0m \u001b[43meng_tagger\u001b[49m\u001b[38;5;241;43m.\u001b[39;49m\u001b[43mtrain\u001b[49m\u001b[43m(\u001b[49m\n\u001b[1;32m      9\u001b[0m \u001b[43m    \u001b[49m\u001b[43mbatch_size\u001b[49m\u001b[43m \u001b[49m\u001b[38;5;241;43m=\u001b[39;49m\u001b[43m \u001b[49m\u001b[38;5;241;43m64\u001b[39;49m\u001b[43m,\u001b[49m\u001b[43m \u001b[49m\n\u001b[1;32m     10\u001b[0m \u001b[43m    \u001b[49m\u001b[43moptimizer\u001b[49m\u001b[43m \u001b[49m\u001b[38;5;241;43m=\u001b[39;49m\u001b[43m \u001b[49m\u001b[38;5;124;43m\"\u001b[39;49m\u001b[38;5;124;43madam\u001b[39;49m\u001b[38;5;124;43m\"\u001b[39;49m\u001b[43m,\u001b[49m\n\u001b[1;32m     11\u001b[0m \u001b[43m    \u001b[49m\u001b[43mloss\u001b[49m\u001b[38;5;241;43m=\u001b[39;49m\u001b[38;5;124;43m\"\u001b[39;49m\u001b[38;5;124;43msparse_categorical_crossentropy\u001b[39;49m\u001b[38;5;124;43m\"\u001b[39;49m\u001b[43m,\u001b[49m\u001b[43m \u001b[49m\n\u001b[1;32m     12\u001b[0m \u001b[43m    \u001b[49m\u001b[43mmetrics\u001b[49m\u001b[38;5;241;43m=\u001b[39;49m\u001b[43m[\u001b[49m\u001b[38;5;124;43m\"\u001b[39;49m\u001b[38;5;124;43maccuracy\u001b[39;49m\u001b[38;5;124;43m\"\u001b[39;49m\u001b[43m]\u001b[49m\n\u001b[1;32m     13\u001b[0m \u001b[43m)\u001b[49m\n",
      "File \u001b[0;32m~/Documents/Documentos/USC/Master/Q1/NLU/Lab/P1_NLU_PoS_Tagger/tagger.py:123\u001b[0m, in \u001b[0;36mMyTagger.train\u001b[0;34m(self, optimizer, loss, metrics, batch_size, reset_weights, patience, max_epochs)\u001b[0m\n\u001b[1;32m    115\u001b[0m \u001b[38;5;28mself\u001b[39m\u001b[38;5;241m.\u001b[39mmodel\u001b[38;5;241m.\u001b[39mcompile(optimizer \u001b[38;5;241m=\u001b[39m optimizer, loss \u001b[38;5;241m=\u001b[39m loss, metrics \u001b[38;5;241m=\u001b[39m metrics)\n\u001b[1;32m    117\u001b[0m early_stopping \u001b[38;5;241m=\u001b[39m tf\u001b[38;5;241m.\u001b[39mkeras\u001b[38;5;241m.\u001b[39mcallbacks\u001b[38;5;241m.\u001b[39mEarlyStopping(\n\u001b[1;32m    118\u001b[0m     monitor\u001b[38;5;241m=\u001b[39m\u001b[38;5;124m'\u001b[39m\u001b[38;5;124mval_loss\u001b[39m\u001b[38;5;124m'\u001b[39m,\n\u001b[1;32m    119\u001b[0m     patience\u001b[38;5;241m=\u001b[39mpatience,     \n\u001b[1;32m    120\u001b[0m     restore_best_weights\u001b[38;5;241m=\u001b[39m\u001b[38;5;28;01mTrue\u001b[39;00m\n\u001b[1;32m    121\u001b[0m )\n\u001b[0;32m--> 123\u001b[0m \u001b[38;5;28mself\u001b[39m\u001b[38;5;241m.\u001b[39mhistory \u001b[38;5;241m=\u001b[39m \u001b[38;5;28;43mself\u001b[39;49m\u001b[38;5;241;43m.\u001b[39;49m\u001b[43mmodel\u001b[49m\u001b[38;5;241;43m.\u001b[39;49m\u001b[43mfit\u001b[49m\u001b[43m(\u001b[49m\n\u001b[1;32m    124\u001b[0m \u001b[43m    \u001b[49m\u001b[43mnp\u001b[49m\u001b[38;5;241;43m.\u001b[39;49m\u001b[43marray\u001b[49m\u001b[43m(\u001b[49m\u001b[38;5;28;43mself\u001b[39;49m\u001b[38;5;241;43m.\u001b[39;49m\u001b[43mX_train\u001b[49m\u001b[43m)\u001b[49m\u001b[43m,\u001b[49m\u001b[43m \u001b[49m\u001b[38;5;28;43mself\u001b[39;49m\u001b[38;5;241;43m.\u001b[39;49m\u001b[43my_train\u001b[49m\u001b[43m,\u001b[49m\u001b[43m \u001b[49m\u001b[43mbatch_size\u001b[49m\u001b[38;5;241;43m=\u001b[39;49m\u001b[43mbatch_size\u001b[49m\u001b[43m,\u001b[49m\u001b[43m \u001b[49m\u001b[43mepochs\u001b[49m\u001b[38;5;241;43m=\u001b[39;49m\u001b[43mmax_epochs\u001b[49m\u001b[43m,\u001b[49m\u001b[43m \u001b[49m\u001b[43mvalidation_data\u001b[49m\u001b[38;5;241;43m=\u001b[39;49m\u001b[43m(\u001b[49m\u001b[43mnp\u001b[49m\u001b[38;5;241;43m.\u001b[39;49m\u001b[43marray\u001b[49m\u001b[43m(\u001b[49m\u001b[38;5;28;43mself\u001b[39;49m\u001b[38;5;241;43m.\u001b[39;49m\u001b[43mX_val\u001b[49m\u001b[43m)\u001b[49m\u001b[43m,\u001b[49m\u001b[43m \u001b[49m\u001b[38;5;28;43mself\u001b[39;49m\u001b[38;5;241;43m.\u001b[39;49m\u001b[43my_val\u001b[49m\u001b[43m)\u001b[49m\u001b[43m,\u001b[49m\u001b[43m \u001b[49m\u001b[43mverbose\u001b[49m\u001b[38;5;241;43m=\u001b[39;49m\u001b[38;5;28;43;01mTrue\u001b[39;49;00m\u001b[43m,\u001b[49m\u001b[43m \u001b[49m\u001b[43mcallbacks\u001b[49m\u001b[43m \u001b[49m\u001b[38;5;241;43m=\u001b[39;49m\u001b[43m \u001b[49m\u001b[43m[\u001b[49m\u001b[43mearly_stopping\u001b[49m\u001b[43m]\u001b[49m\n\u001b[1;32m    125\u001b[0m \u001b[43m\u001b[49m\u001b[43m)\u001b[49m\n\u001b[1;32m    127\u001b[0m \u001b[38;5;28;01mreturn\u001b[39;00m \u001b[38;5;28mself\u001b[39m\u001b[38;5;241m.\u001b[39mhistory\n",
      "File \u001b[0;32m~/miniconda3/envs/nlu/lib/python3.11/site-packages/keras/src/utils/traceback_utils.py:65\u001b[0m, in \u001b[0;36mfilter_traceback.<locals>.error_handler\u001b[0;34m(*args, **kwargs)\u001b[0m\n\u001b[1;32m     63\u001b[0m filtered_tb \u001b[38;5;241m=\u001b[39m \u001b[38;5;28;01mNone\u001b[39;00m\n\u001b[1;32m     64\u001b[0m \u001b[38;5;28;01mtry\u001b[39;00m:\n\u001b[0;32m---> 65\u001b[0m     \u001b[38;5;28;01mreturn\u001b[39;00m \u001b[43mfn\u001b[49m\u001b[43m(\u001b[49m\u001b[38;5;241;43m*\u001b[39;49m\u001b[43margs\u001b[49m\u001b[43m,\u001b[49m\u001b[43m \u001b[49m\u001b[38;5;241;43m*\u001b[39;49m\u001b[38;5;241;43m*\u001b[39;49m\u001b[43mkwargs\u001b[49m\u001b[43m)\u001b[49m\n\u001b[1;32m     66\u001b[0m \u001b[38;5;28;01mexcept\u001b[39;00m \u001b[38;5;167;01mException\u001b[39;00m \u001b[38;5;28;01mas\u001b[39;00m e:\n\u001b[1;32m     67\u001b[0m     filtered_tb \u001b[38;5;241m=\u001b[39m _process_traceback_frames(e\u001b[38;5;241m.\u001b[39m__traceback__)\n",
      "File \u001b[0;32m~/miniconda3/envs/nlu/lib/python3.11/site-packages/keras/src/engine/training.py:1807\u001b[0m, in \u001b[0;36mModel.fit\u001b[0;34m(self, x, y, batch_size, epochs, verbose, callbacks, validation_split, validation_data, shuffle, class_weight, sample_weight, initial_epoch, steps_per_epoch, validation_steps, validation_batch_size, validation_freq, max_queue_size, workers, use_multiprocessing)\u001b[0m\n\u001b[1;32m   1799\u001b[0m \u001b[38;5;28;01mwith\u001b[39;00m tf\u001b[38;5;241m.\u001b[39mprofiler\u001b[38;5;241m.\u001b[39mexperimental\u001b[38;5;241m.\u001b[39mTrace(\n\u001b[1;32m   1800\u001b[0m     \u001b[38;5;124m\"\u001b[39m\u001b[38;5;124mtrain\u001b[39m\u001b[38;5;124m\"\u001b[39m,\n\u001b[1;32m   1801\u001b[0m     epoch_num\u001b[38;5;241m=\u001b[39mepoch,\n\u001b[0;32m   (...)\u001b[0m\n\u001b[1;32m   1804\u001b[0m     _r\u001b[38;5;241m=\u001b[39m\u001b[38;5;241m1\u001b[39m,\n\u001b[1;32m   1805\u001b[0m ):\n\u001b[1;32m   1806\u001b[0m     callbacks\u001b[38;5;241m.\u001b[39mon_train_batch_begin(step)\n\u001b[0;32m-> 1807\u001b[0m     tmp_logs \u001b[38;5;241m=\u001b[39m \u001b[38;5;28;43mself\u001b[39;49m\u001b[38;5;241;43m.\u001b[39;49m\u001b[43mtrain_function\u001b[49m\u001b[43m(\u001b[49m\u001b[43miterator\u001b[49m\u001b[43m)\u001b[49m\n\u001b[1;32m   1808\u001b[0m     \u001b[38;5;28;01mif\u001b[39;00m data_handler\u001b[38;5;241m.\u001b[39mshould_sync:\n\u001b[1;32m   1809\u001b[0m         context\u001b[38;5;241m.\u001b[39masync_wait()\n",
      "File \u001b[0;32m~/miniconda3/envs/nlu/lib/python3.11/site-packages/tensorflow/python/util/traceback_utils.py:150\u001b[0m, in \u001b[0;36mfilter_traceback.<locals>.error_handler\u001b[0;34m(*args, **kwargs)\u001b[0m\n\u001b[1;32m    148\u001b[0m filtered_tb \u001b[38;5;241m=\u001b[39m \u001b[38;5;28;01mNone\u001b[39;00m\n\u001b[1;32m    149\u001b[0m \u001b[38;5;28;01mtry\u001b[39;00m:\n\u001b[0;32m--> 150\u001b[0m   \u001b[38;5;28;01mreturn\u001b[39;00m \u001b[43mfn\u001b[49m\u001b[43m(\u001b[49m\u001b[38;5;241;43m*\u001b[39;49m\u001b[43margs\u001b[49m\u001b[43m,\u001b[49m\u001b[43m \u001b[49m\u001b[38;5;241;43m*\u001b[39;49m\u001b[38;5;241;43m*\u001b[39;49m\u001b[43mkwargs\u001b[49m\u001b[43m)\u001b[49m\n\u001b[1;32m    151\u001b[0m \u001b[38;5;28;01mexcept\u001b[39;00m \u001b[38;5;167;01mException\u001b[39;00m \u001b[38;5;28;01mas\u001b[39;00m e:\n\u001b[1;32m    152\u001b[0m   filtered_tb \u001b[38;5;241m=\u001b[39m _process_traceback_frames(e\u001b[38;5;241m.\u001b[39m__traceback__)\n",
      "File \u001b[0;32m~/miniconda3/envs/nlu/lib/python3.11/site-packages/tensorflow/python/eager/polymorphic_function/polymorphic_function.py:832\u001b[0m, in \u001b[0;36mFunction.__call__\u001b[0;34m(self, *args, **kwds)\u001b[0m\n\u001b[1;32m    829\u001b[0m compiler \u001b[38;5;241m=\u001b[39m \u001b[38;5;124m\"\u001b[39m\u001b[38;5;124mxla\u001b[39m\u001b[38;5;124m\"\u001b[39m \u001b[38;5;28;01mif\u001b[39;00m \u001b[38;5;28mself\u001b[39m\u001b[38;5;241m.\u001b[39m_jit_compile \u001b[38;5;28;01melse\u001b[39;00m \u001b[38;5;124m\"\u001b[39m\u001b[38;5;124mnonXla\u001b[39m\u001b[38;5;124m\"\u001b[39m\n\u001b[1;32m    831\u001b[0m \u001b[38;5;28;01mwith\u001b[39;00m OptionalXlaContext(\u001b[38;5;28mself\u001b[39m\u001b[38;5;241m.\u001b[39m_jit_compile):\n\u001b[0;32m--> 832\u001b[0m   result \u001b[38;5;241m=\u001b[39m \u001b[38;5;28;43mself\u001b[39;49m\u001b[38;5;241;43m.\u001b[39;49m\u001b[43m_call\u001b[49m\u001b[43m(\u001b[49m\u001b[38;5;241;43m*\u001b[39;49m\u001b[43margs\u001b[49m\u001b[43m,\u001b[49m\u001b[43m \u001b[49m\u001b[38;5;241;43m*\u001b[39;49m\u001b[38;5;241;43m*\u001b[39;49m\u001b[43mkwds\u001b[49m\u001b[43m)\u001b[49m\n\u001b[1;32m    834\u001b[0m new_tracing_count \u001b[38;5;241m=\u001b[39m \u001b[38;5;28mself\u001b[39m\u001b[38;5;241m.\u001b[39mexperimental_get_tracing_count()\n\u001b[1;32m    835\u001b[0m without_tracing \u001b[38;5;241m=\u001b[39m (tracing_count \u001b[38;5;241m==\u001b[39m new_tracing_count)\n",
      "File \u001b[0;32m~/miniconda3/envs/nlu/lib/python3.11/site-packages/tensorflow/python/eager/polymorphic_function/polymorphic_function.py:905\u001b[0m, in \u001b[0;36mFunction._call\u001b[0;34m(self, *args, **kwds)\u001b[0m\n\u001b[1;32m    901\u001b[0m     \u001b[38;5;28;01mpass\u001b[39;00m  \u001b[38;5;66;03m# Fall through to cond-based initialization.\u001b[39;00m\n\u001b[1;32m    902\u001b[0m   \u001b[38;5;28;01melse\u001b[39;00m:\n\u001b[1;32m    903\u001b[0m     \u001b[38;5;66;03m# Lifting succeeded, so variables are initialized and we can run the\u001b[39;00m\n\u001b[1;32m    904\u001b[0m     \u001b[38;5;66;03m# no_variable_creation function.\u001b[39;00m\n\u001b[0;32m--> 905\u001b[0m     \u001b[38;5;28;01mreturn\u001b[39;00m \u001b[43mtracing_compilation\u001b[49m\u001b[38;5;241;43m.\u001b[39;49m\u001b[43mcall_function\u001b[49m\u001b[43m(\u001b[49m\n\u001b[1;32m    906\u001b[0m \u001b[43m        \u001b[49m\u001b[43margs\u001b[49m\u001b[43m,\u001b[49m\u001b[43m \u001b[49m\u001b[43mkwds\u001b[49m\u001b[43m,\u001b[49m\u001b[43m \u001b[49m\u001b[38;5;28;43mself\u001b[39;49m\u001b[38;5;241;43m.\u001b[39;49m\u001b[43m_no_variable_creation_config\u001b[49m\n\u001b[1;32m    907\u001b[0m \u001b[43m    \u001b[49m\u001b[43m)\u001b[49m\n\u001b[1;32m    908\u001b[0m \u001b[38;5;28;01melse\u001b[39;00m:\n\u001b[1;32m    909\u001b[0m   bound_args \u001b[38;5;241m=\u001b[39m \u001b[38;5;28mself\u001b[39m\u001b[38;5;241m.\u001b[39m_concrete_variable_creation_fn\u001b[38;5;241m.\u001b[39mfunction_type\u001b[38;5;241m.\u001b[39mbind(\n\u001b[1;32m    910\u001b[0m       \u001b[38;5;241m*\u001b[39margs, \u001b[38;5;241m*\u001b[39m\u001b[38;5;241m*\u001b[39mkwds\n\u001b[1;32m    911\u001b[0m   )\n",
      "File \u001b[0;32m~/miniconda3/envs/nlu/lib/python3.11/site-packages/tensorflow/python/eager/polymorphic_function/tracing_compilation.py:139\u001b[0m, in \u001b[0;36mcall_function\u001b[0;34m(args, kwargs, tracing_options)\u001b[0m\n\u001b[1;32m    137\u001b[0m bound_args \u001b[38;5;241m=\u001b[39m function\u001b[38;5;241m.\u001b[39mfunction_type\u001b[38;5;241m.\u001b[39mbind(\u001b[38;5;241m*\u001b[39margs, \u001b[38;5;241m*\u001b[39m\u001b[38;5;241m*\u001b[39mkwargs)\n\u001b[1;32m    138\u001b[0m flat_inputs \u001b[38;5;241m=\u001b[39m function\u001b[38;5;241m.\u001b[39mfunction_type\u001b[38;5;241m.\u001b[39munpack_inputs(bound_args)\n\u001b[0;32m--> 139\u001b[0m \u001b[38;5;28;01mreturn\u001b[39;00m \u001b[43mfunction\u001b[49m\u001b[38;5;241;43m.\u001b[39;49m\u001b[43m_call_flat\u001b[49m\u001b[43m(\u001b[49m\u001b[43m  \u001b[49m\u001b[38;5;66;43;03m# pylint: disable=protected-access\u001b[39;49;00m\n\u001b[1;32m    140\u001b[0m \u001b[43m    \u001b[49m\u001b[43mflat_inputs\u001b[49m\u001b[43m,\u001b[49m\u001b[43m \u001b[49m\u001b[43mcaptured_inputs\u001b[49m\u001b[38;5;241;43m=\u001b[39;49m\u001b[43mfunction\u001b[49m\u001b[38;5;241;43m.\u001b[39;49m\u001b[43mcaptured_inputs\u001b[49m\n\u001b[1;32m    141\u001b[0m \u001b[43m\u001b[49m\u001b[43m)\u001b[49m\n",
      "File \u001b[0;32m~/miniconda3/envs/nlu/lib/python3.11/site-packages/tensorflow/python/eager/polymorphic_function/concrete_function.py:1323\u001b[0m, in \u001b[0;36mConcreteFunction._call_flat\u001b[0;34m(self, tensor_inputs, captured_inputs)\u001b[0m\n\u001b[1;32m   1319\u001b[0m possible_gradient_type \u001b[38;5;241m=\u001b[39m gradients_util\u001b[38;5;241m.\u001b[39mPossibleTapeGradientTypes(args)\n\u001b[1;32m   1320\u001b[0m \u001b[38;5;28;01mif\u001b[39;00m (possible_gradient_type \u001b[38;5;241m==\u001b[39m gradients_util\u001b[38;5;241m.\u001b[39mPOSSIBLE_GRADIENT_TYPES_NONE\n\u001b[1;32m   1321\u001b[0m     \u001b[38;5;129;01mand\u001b[39;00m executing_eagerly):\n\u001b[1;32m   1322\u001b[0m   \u001b[38;5;66;03m# No tape is watching; skip to running the function.\u001b[39;00m\n\u001b[0;32m-> 1323\u001b[0m   \u001b[38;5;28;01mreturn\u001b[39;00m \u001b[38;5;28;43mself\u001b[39;49m\u001b[38;5;241;43m.\u001b[39;49m\u001b[43m_inference_function\u001b[49m\u001b[38;5;241;43m.\u001b[39;49m\u001b[43mcall_preflattened\u001b[49m\u001b[43m(\u001b[49m\u001b[43margs\u001b[49m\u001b[43m)\u001b[49m\n\u001b[1;32m   1324\u001b[0m forward_backward \u001b[38;5;241m=\u001b[39m \u001b[38;5;28mself\u001b[39m\u001b[38;5;241m.\u001b[39m_select_forward_and_backward_functions(\n\u001b[1;32m   1325\u001b[0m     args,\n\u001b[1;32m   1326\u001b[0m     possible_gradient_type,\n\u001b[1;32m   1327\u001b[0m     executing_eagerly)\n\u001b[1;32m   1328\u001b[0m forward_function, args_with_tangents \u001b[38;5;241m=\u001b[39m forward_backward\u001b[38;5;241m.\u001b[39mforward()\n",
      "File \u001b[0;32m~/miniconda3/envs/nlu/lib/python3.11/site-packages/tensorflow/python/eager/polymorphic_function/atomic_function.py:216\u001b[0m, in \u001b[0;36mAtomicFunction.call_preflattened\u001b[0;34m(self, args)\u001b[0m\n\u001b[1;32m    214\u001b[0m \u001b[38;5;28;01mdef\u001b[39;00m \u001b[38;5;21mcall_preflattened\u001b[39m(\u001b[38;5;28mself\u001b[39m, args: Sequence[core\u001b[38;5;241m.\u001b[39mTensor]) \u001b[38;5;241m-\u001b[39m\u001b[38;5;241m>\u001b[39m Any:\n\u001b[1;32m    215\u001b[0m \u001b[38;5;250m  \u001b[39m\u001b[38;5;124;03m\"\"\"Calls with flattened tensor inputs and returns the structured output.\"\"\"\u001b[39;00m\n\u001b[0;32m--> 216\u001b[0m   flat_outputs \u001b[38;5;241m=\u001b[39m \u001b[38;5;28;43mself\u001b[39;49m\u001b[38;5;241;43m.\u001b[39;49m\u001b[43mcall_flat\u001b[49m\u001b[43m(\u001b[49m\u001b[38;5;241;43m*\u001b[39;49m\u001b[43margs\u001b[49m\u001b[43m)\u001b[49m\n\u001b[1;32m    217\u001b[0m   \u001b[38;5;28;01mreturn\u001b[39;00m \u001b[38;5;28mself\u001b[39m\u001b[38;5;241m.\u001b[39mfunction_type\u001b[38;5;241m.\u001b[39mpack_output(flat_outputs)\n",
      "File \u001b[0;32m~/miniconda3/envs/nlu/lib/python3.11/site-packages/tensorflow/python/eager/polymorphic_function/atomic_function.py:251\u001b[0m, in \u001b[0;36mAtomicFunction.call_flat\u001b[0;34m(self, *args)\u001b[0m\n\u001b[1;32m    249\u001b[0m \u001b[38;5;28;01mwith\u001b[39;00m record\u001b[38;5;241m.\u001b[39mstop_recording():\n\u001b[1;32m    250\u001b[0m   \u001b[38;5;28;01mif\u001b[39;00m \u001b[38;5;28mself\u001b[39m\u001b[38;5;241m.\u001b[39m_bound_context\u001b[38;5;241m.\u001b[39mexecuting_eagerly():\n\u001b[0;32m--> 251\u001b[0m     outputs \u001b[38;5;241m=\u001b[39m \u001b[38;5;28;43mself\u001b[39;49m\u001b[38;5;241;43m.\u001b[39;49m\u001b[43m_bound_context\u001b[49m\u001b[38;5;241;43m.\u001b[39;49m\u001b[43mcall_function\u001b[49m\u001b[43m(\u001b[49m\n\u001b[1;32m    252\u001b[0m \u001b[43m        \u001b[49m\u001b[38;5;28;43mself\u001b[39;49m\u001b[38;5;241;43m.\u001b[39;49m\u001b[43mname\u001b[49m\u001b[43m,\u001b[49m\n\u001b[1;32m    253\u001b[0m \u001b[43m        \u001b[49m\u001b[38;5;28;43mlist\u001b[39;49m\u001b[43m(\u001b[49m\u001b[43margs\u001b[49m\u001b[43m)\u001b[49m\u001b[43m,\u001b[49m\n\u001b[1;32m    254\u001b[0m \u001b[43m        \u001b[49m\u001b[38;5;28;43mlen\u001b[39;49m\u001b[43m(\u001b[49m\u001b[38;5;28;43mself\u001b[39;49m\u001b[38;5;241;43m.\u001b[39;49m\u001b[43mfunction_type\u001b[49m\u001b[38;5;241;43m.\u001b[39;49m\u001b[43mflat_outputs\u001b[49m\u001b[43m)\u001b[49m\u001b[43m,\u001b[49m\n\u001b[1;32m    255\u001b[0m \u001b[43m    \u001b[49m\u001b[43m)\u001b[49m\n\u001b[1;32m    256\u001b[0m   \u001b[38;5;28;01melse\u001b[39;00m:\n\u001b[1;32m    257\u001b[0m     outputs \u001b[38;5;241m=\u001b[39m make_call_op_in_graph(\n\u001b[1;32m    258\u001b[0m         \u001b[38;5;28mself\u001b[39m,\n\u001b[1;32m    259\u001b[0m         \u001b[38;5;28mlist\u001b[39m(args),\n\u001b[1;32m    260\u001b[0m         \u001b[38;5;28mself\u001b[39m\u001b[38;5;241m.\u001b[39m_bound_context\u001b[38;5;241m.\u001b[39mfunction_call_options\u001b[38;5;241m.\u001b[39mas_attrs(),\n\u001b[1;32m    261\u001b[0m     )\n",
      "File \u001b[0;32m~/miniconda3/envs/nlu/lib/python3.11/site-packages/tensorflow/python/eager/context.py:1486\u001b[0m, in \u001b[0;36mContext.call_function\u001b[0;34m(self, name, tensor_inputs, num_outputs)\u001b[0m\n\u001b[1;32m   1484\u001b[0m cancellation_context \u001b[38;5;241m=\u001b[39m cancellation\u001b[38;5;241m.\u001b[39mcontext()\n\u001b[1;32m   1485\u001b[0m \u001b[38;5;28;01mif\u001b[39;00m cancellation_context \u001b[38;5;129;01mis\u001b[39;00m \u001b[38;5;28;01mNone\u001b[39;00m:\n\u001b[0;32m-> 1486\u001b[0m   outputs \u001b[38;5;241m=\u001b[39m \u001b[43mexecute\u001b[49m\u001b[38;5;241;43m.\u001b[39;49m\u001b[43mexecute\u001b[49m\u001b[43m(\u001b[49m\n\u001b[1;32m   1487\u001b[0m \u001b[43m      \u001b[49m\u001b[43mname\u001b[49m\u001b[38;5;241;43m.\u001b[39;49m\u001b[43mdecode\u001b[49m\u001b[43m(\u001b[49m\u001b[38;5;124;43m\"\u001b[39;49m\u001b[38;5;124;43mutf-8\u001b[39;49m\u001b[38;5;124;43m\"\u001b[39;49m\u001b[43m)\u001b[49m\u001b[43m,\u001b[49m\n\u001b[1;32m   1488\u001b[0m \u001b[43m      \u001b[49m\u001b[43mnum_outputs\u001b[49m\u001b[38;5;241;43m=\u001b[39;49m\u001b[43mnum_outputs\u001b[49m\u001b[43m,\u001b[49m\n\u001b[1;32m   1489\u001b[0m \u001b[43m      \u001b[49m\u001b[43minputs\u001b[49m\u001b[38;5;241;43m=\u001b[39;49m\u001b[43mtensor_inputs\u001b[49m\u001b[43m,\u001b[49m\n\u001b[1;32m   1490\u001b[0m \u001b[43m      \u001b[49m\u001b[43mattrs\u001b[49m\u001b[38;5;241;43m=\u001b[39;49m\u001b[43mattrs\u001b[49m\u001b[43m,\u001b[49m\n\u001b[1;32m   1491\u001b[0m \u001b[43m      \u001b[49m\u001b[43mctx\u001b[49m\u001b[38;5;241;43m=\u001b[39;49m\u001b[38;5;28;43mself\u001b[39;49m\u001b[43m,\u001b[49m\n\u001b[1;32m   1492\u001b[0m \u001b[43m  \u001b[49m\u001b[43m)\u001b[49m\n\u001b[1;32m   1493\u001b[0m \u001b[38;5;28;01melse\u001b[39;00m:\n\u001b[1;32m   1494\u001b[0m   outputs \u001b[38;5;241m=\u001b[39m execute\u001b[38;5;241m.\u001b[39mexecute_with_cancellation(\n\u001b[1;32m   1495\u001b[0m       name\u001b[38;5;241m.\u001b[39mdecode(\u001b[38;5;124m\"\u001b[39m\u001b[38;5;124mutf-8\u001b[39m\u001b[38;5;124m\"\u001b[39m),\n\u001b[1;32m   1496\u001b[0m       num_outputs\u001b[38;5;241m=\u001b[39mnum_outputs,\n\u001b[0;32m   (...)\u001b[0m\n\u001b[1;32m   1500\u001b[0m       cancellation_manager\u001b[38;5;241m=\u001b[39mcancellation_context,\n\u001b[1;32m   1501\u001b[0m   )\n",
      "File \u001b[0;32m~/miniconda3/envs/nlu/lib/python3.11/site-packages/tensorflow/python/eager/execute.py:53\u001b[0m, in \u001b[0;36mquick_execute\u001b[0;34m(op_name, num_outputs, inputs, attrs, ctx, name)\u001b[0m\n\u001b[1;32m     51\u001b[0m \u001b[38;5;28;01mtry\u001b[39;00m:\n\u001b[1;32m     52\u001b[0m   ctx\u001b[38;5;241m.\u001b[39mensure_initialized()\n\u001b[0;32m---> 53\u001b[0m   tensors \u001b[38;5;241m=\u001b[39m \u001b[43mpywrap_tfe\u001b[49m\u001b[38;5;241;43m.\u001b[39;49m\u001b[43mTFE_Py_Execute\u001b[49m\u001b[43m(\u001b[49m\u001b[43mctx\u001b[49m\u001b[38;5;241;43m.\u001b[39;49m\u001b[43m_handle\u001b[49m\u001b[43m,\u001b[49m\u001b[43m \u001b[49m\u001b[43mdevice_name\u001b[49m\u001b[43m,\u001b[49m\u001b[43m \u001b[49m\u001b[43mop_name\u001b[49m\u001b[43m,\u001b[49m\n\u001b[1;32m     54\u001b[0m \u001b[43m                                      \u001b[49m\u001b[43minputs\u001b[49m\u001b[43m,\u001b[49m\u001b[43m \u001b[49m\u001b[43mattrs\u001b[49m\u001b[43m,\u001b[49m\u001b[43m \u001b[49m\u001b[43mnum_outputs\u001b[49m\u001b[43m)\u001b[49m\n\u001b[1;32m     55\u001b[0m \u001b[38;5;28;01mexcept\u001b[39;00m core\u001b[38;5;241m.\u001b[39m_NotOkStatusException \u001b[38;5;28;01mas\u001b[39;00m e:\n\u001b[1;32m     56\u001b[0m   \u001b[38;5;28;01mif\u001b[39;00m name \u001b[38;5;129;01mis\u001b[39;00m \u001b[38;5;129;01mnot\u001b[39;00m \u001b[38;5;28;01mNone\u001b[39;00m:\n",
      "\u001b[0;31mKeyboardInterrupt\u001b[0m: "
     ]
    }
   ],
   "source": [
    "eng_tagger.build_model(\n",
    "    vocabulary_size = 10000, \n",
    "    units = 32, \n",
    "    output_dim = 50, \n",
    "    bidirectional = True\n",
    ")\n",
    "\n",
    "eng_tagger.train(\n",
    "    batch_size = 64, \n",
    "    optimizer = \"adam\",\n",
    "    metrics=[\"accuracy\"]\n",
    ")"
   ]
  },
  {
   "cell_type": "code",
   "execution_count": 13,
   "metadata": {},
   "outputs": [
    {
     "data": {
      "image/png": "[encoded data removed]",
      "text/plain": [
       "<Figure size 1200x500 with 2 Axes>"
      ]
     },
     "metadata": {},
     "output_type": "display_data"
    },
    {
     "name": "stdout",
     "output_type": "stream",
     "text": [
      "65/65 [==============================] - 2s 25ms/step - loss: 0.2736 - accuracy: 0.9191\n"
     ]
    }
   ],
   "source": [
    "eng_tagger.plot_training_history()\n",
    "eng_tagger.evaluate()"
   ]
  },
  {
   "cell_type": "code",
   "execution_count": 15,
   "metadata": {},
   "outputs": [
    {
     "name": "stdout",
     "output_type": "stream",
     "text": [
      "Model saved in ./models/units32.keras\n",
      "Training history saved in ./models/units32_training_history.json\n"
     ]
    }
   ],
   "source": [
    "eng_tagger.save_model(model_filename = \"units32\")"
   ]
  },
  {
   "cell_type": "code",
   "execution_count": null,
   "metadata": {},
   "outputs": [
    {
     "name": "stdout",
     "output_type": "stream",
     "text": [
      "Model: \"model_5\"\n",
      "_________________________________________________________________\n",
      " Layer (type)                Output Shape              Param #   \n",
      "=================================================================\n",
      " input_6 (InputLayer)        [(None, 1)]               0         \n",
      "                                                                 \n",
      " text_vectorization_5 (Text  (None, 100)               0         \n",
      " Vectorization)                                                  \n",
      "                                                                 \n",
      " embedding_5 (Embedding)     (None, 100, 50)           500000    \n",
      "                                                                 \n",
      " bidirectional_4 (Bidirecti  (None, 100, 32)           8576      \n",
      " onal)                                                           \n",
      "                                                                 \n",
      " time_distributed_5 (TimeDi  (None, 100, 18)           594       \n",
      " stributed)                                                      \n",
      "                                                                 \n",
      "=================================================================\n",
      "Total params: 509170 (1.94 MB)\n",
      "Trainable params: 509170 (1.94 MB)\n",
      "Non-trainable params: 0 (0.00 Byte)\n",
      "_________________________________________________________________\n",
      "Epoch 1/30\n",
      "196/196 [==============================] - 36s 122ms/step - loss: 2.1687 - accuracy: 0.3757 - val_loss: 1.2302 - val_accuracy: 0.7008\n",
      "Epoch 2/30\n",
      "196/196 [==============================] - 17s 85ms/step - loss: 0.7187 - accuracy: 0.8355 - val_loss: 0.5205 - val_accuracy: 0.8707\n",
      "Epoch 3/30\n",
      "196/196 [==============================] - 14s 69ms/step - loss: 0.3489 - accuracy: 0.9179 - val_loss: 0.3926 - val_accuracy: 0.8906\n",
      "Epoch 4/30\n",
      "196/196 [==============================] - 14s 69ms/step - loss: 0.2468 - accuracy: 0.9358 - val_loss: 0.3492 - val_accuracy: 0.8989\n",
      "Epoch 5/30\n",
      "196/196 [==============================] - 13s 69ms/step - loss: 0.2015 - accuracy: 0.9444 - val_loss: 0.3266 - val_accuracy: 0.9067\n",
      "Epoch 6/30\n",
      "196/196 [==============================] - 14s 70ms/step - loss: 0.1748 - accuracy: 0.9503 - val_loss: 0.3189 - val_accuracy: 0.9055\n",
      "Epoch 7/30\n",
      "196/196 [==============================] - 14s 69ms/step - loss: 0.1563 - accuracy: 0.9550 - val_loss: 0.3085 - val_accuracy: 0.9094\n",
      "Epoch 8/30\n",
      "196/196 [==============================] - 14s 71ms/step - loss: 0.1409 - accuracy: 0.9591 - val_loss: 0.3048 - val_accuracy: 0.9111\n",
      "Epoch 9/30\n",
      "196/196 [==============================] - 13s 69ms/step - loss: 0.1283 - accuracy: 0.9634 - val_loss: 0.3046 - val_accuracy: 0.9111\n",
      "Epoch 10/30\n",
      "196/196 [==============================] - 14s 70ms/step - loss: 0.1169 - accuracy: 0.9667 - val_loss: 0.3038 - val_accuracy: 0.9126\n",
      "Epoch 11/30\n",
      "196/196 [==============================] - 14s 70ms/step - loss: 0.1066 - accuracy: 0.9699 - val_loss: 0.3022 - val_accuracy: 0.9151\n",
      "Epoch 12/30\n",
      "196/196 [==============================] - 13s 69ms/step - loss: 0.0986 - accuracy: 0.9725 - val_loss: 0.3044 - val_accuracy: 0.9133\n",
      "Epoch 13/30\n",
      "196/196 [==============================] - 14s 71ms/step - loss: 0.0910 - accuracy: 0.9751 - val_loss: 0.3089 - val_accuracy: 0.9130\n",
      "Epoch 14/30\n",
      "196/196 [==============================] - 14s 72ms/step - loss: 0.0836 - accuracy: 0.9773 - val_loss: 0.3146 - val_accuracy: 0.9126\n",
      "Epoch 15/30\n",
      "196/196 [==============================] - 14s 70ms/step - loss: 0.0776 - accuracy: 0.9793 - val_loss: 0.3145 - val_accuracy: 0.9138\n",
      "Epoch 16/30\n",
      "196/196 [==============================] - 14s 70ms/step - loss: 0.0719 - accuracy: 0.9811 - val_loss: 0.3226 - val_accuracy: 0.9130\n"
     ]
    },
    {
     "data": {
      "text/plain": [
       "<keras.src.callbacks.History at 0x1284c95d0>"
      ]
     },
     "execution_count": 19,
     "metadata": {},
     "output_type": "execute_result"
    }
   ],
   "source": [
    "eng_tagger.build_model(\n",
    "    vocabulary_size = 10000, \n",
    "    units = 16, \n",
    "    output_dim = 50, \n",
    "    bidirectional = True\n",
    ")\n",
    "\n",
    "eng_tagger.train( \n",
    "    batch_size = 64, \n",
    "    optimizer = \"adam\",\n",
    "    metrics=[\"accuracy\"]\n",
    ")"
   ]
  },
  {
   "cell_type": "code",
   "execution_count": 20,
   "metadata": {},
   "outputs": [
    {
     "data": {
      "image/png": "[encoded data removed]",
      "text/plain": [
       "<Figure size 1200x500 with 2 Axes>"
      ]
     },
     "metadata": {},
     "output_type": "display_data"
    },
    {
     "name": "stdout",
     "output_type": "stream",
     "text": [
      "65/65 [==============================] - 2s 27ms/step - loss: 0.2821 - accuracy: 0.9168\n"
     ]
    }
   ],
   "source": [
    "eng_tagger.plot_training_history()\n",
    "eng_tagger.evaluate()"
   ]
  },
  {
   "cell_type": "code",
   "execution_count": 21,
   "metadata": {},
   "outputs": [
    {
     "name": "stdout",
     "output_type": "stream",
     "text": [
      "Model saved in ./models/units16.keras\n",
      "Training history saved in ./models/units16_training_history.json\n"
     ]
    }
   ],
   "source": [
    "eng_tagger.save_model(model_filename = \"units16\")"
   ]
  },
  {
   "cell_type": "code",
   "execution_count": null,
   "metadata": {},
   "outputs": [
    {
     "name": "stdout",
     "output_type": "stream",
     "text": [
      "Model: \"model_6\"\n",
      "_________________________________________________________________\n",
      " Layer (type)                Output Shape              Param #   \n",
      "=================================================================\n",
      " input_7 (InputLayer)        [(None, 1)]               0         \n",
      "                                                                 \n",
      " text_vectorization_6 (Text  (None, 100)               0         \n",
      " Vectorization)                                                  \n",
      "                                                                 \n",
      " embedding_6 (Embedding)     (None, 100, 50)           500000    \n",
      "                                                                 \n",
      " bidirectional_5 (Bidirecti  (None, 100, 256)          183296    \n",
      " onal)                                                           \n",
      "                                                                 \n",
      " time_distributed_6 (TimeDi  (None, 100, 18)           4626      \n",
      " stributed)                                                      \n",
      "                                                                 \n",
      "=================================================================\n",
      "Total params: 687922 (2.62 MB)\n",
      "Trainable params: 687922 (2.62 MB)\n",
      "Non-trainable params: 0 (0.00 Byte)\n",
      "_________________________________________________________________\n",
      "Epoch 1/30\n",
      "196/196 [==============================] - 59s 240ms/step - loss: 1.5887 - accuracy: 0.5295 - val_loss: 0.5641 - val_accuracy: 0.8467\n",
      "Epoch 2/30\n",
      "196/196 [==============================] - 43s 221ms/step - loss: 0.3340 - accuracy: 0.9090 - val_loss: 0.3425 - val_accuracy: 0.9028\n",
      "Epoch 3/30\n",
      "196/196 [==============================] - 44s 224ms/step - loss: 0.1945 - accuracy: 0.9441 - val_loss: 0.3085 - val_accuracy: 0.9088\n",
      "Epoch 4/30\n",
      "196/196 [==============================] - 42s 213ms/step - loss: 0.1510 - accuracy: 0.9546 - val_loss: 0.2866 - val_accuracy: 0.9157\n",
      "Epoch 5/30\n",
      "196/196 [==============================] - 42s 217ms/step - loss: 0.1261 - accuracy: 0.9613 - val_loss: 0.2826 - val_accuracy: 0.9170\n",
      "Epoch 6/30\n",
      "196/196 [==============================] - 42s 215ms/step - loss: 0.1073 - accuracy: 0.9672 - val_loss: 0.2801 - val_accuracy: 0.9200\n",
      "Epoch 7/30\n",
      "196/196 [==============================] - 44s 225ms/step - loss: 0.0921 - accuracy: 0.9721 - val_loss: 0.2919 - val_accuracy: 0.9177\n",
      "Epoch 8/30\n",
      "196/196 [==============================] - 44s 221ms/step - loss: 0.0796 - accuracy: 0.9762 - val_loss: 0.2982 - val_accuracy: 0.9175\n",
      "Epoch 9/30\n",
      "196/196 [==============================] - 43s 217ms/step - loss: 0.0677 - accuracy: 0.9806 - val_loss: 0.3073 - val_accuracy: 0.9189\n",
      "Epoch 10/30\n",
      "196/196 [==============================] - 42s 215ms/step - loss: 0.0593 - accuracy: 0.9831 - val_loss: 0.3234 - val_accuracy: 0.9173\n",
      "Epoch 11/30\n",
      "196/196 [==============================] - 42s 216ms/step - loss: 0.0499 - accuracy: 0.9863 - val_loss: 0.3423 - val_accuracy: 0.9158\n"
     ]
    },
    {
     "data": {
      "text/plain": [
       "<keras.src.callbacks.History at 0x12f265f10>"
      ]
     },
     "execution_count": 22,
     "metadata": {},
     "output_type": "execute_result"
    }
   ],
   "source": [
    "eng_tagger.build_model(\n",
    "    vocabulary_size = 10000, \n",
    "    units = 128, \n",
    "    output_dim = 50, \n",
    "    bidirectional = True\n",
    ")\n",
    "\n",
    "eng_tagger.train(\n",
    "    batch_size = 64, \n",
    "    optimizer = \"adam\", \n",
    "    metrics=[\"accuracy\"]\n",
    ")"
   ]
  },
  {
   "cell_type": "code",
   "execution_count": 23,
   "metadata": {},
   "outputs": [
    {
     "data": {
      "image/png": "[encoded data removed]",
      "text/plain": [
       "<Figure size 1200x500 with 2 Axes>"
      ]
     },
     "metadata": {},
     "output_type": "display_data"
    },
    {
     "name": "stdout",
     "output_type": "stream",
     "text": [
      "65/65 [==============================] - 4s 67ms/step - loss: 0.2569 - accuracy: 0.9221\n"
     ]
    }
   ],
   "source": [
    "eng_tagger.plot_training_history()\n",
    "eng_tagger.evaluate()"
   ]
  },
  {
   "cell_type": "code",
   "execution_count": 24,
   "metadata": {},
   "outputs": [
    {
     "name": "stdout",
     "output_type": "stream",
     "text": [
      "Model saved in ./models/units128.keras\n",
      "Training history saved in ./models/units128_training_history.json\n"
     ]
    }
   ],
   "source": [
    "eng_tagger.save_model(model_filename = \"units128\")"
   ]
  },
  {
   "cell_type": "code",
   "execution_count": null,
   "metadata": {},
   "outputs": [
    {
     "data": {
      "application/vnd.plotly.v1+json": {
       "config": {
        "plotlyServerURL": "https://plot.ly"
       },
       "data": [
        {
         "line": {
          "color": "blue",
          "dash": "dash"
         },
         "mode": "lines",
         "name": "16 units - val_loss",
         "type": "scatter",
         "y": [
          1.230153203010559,
          0.5204600691795349,
          0.39258283376693726,
          0.3491903245449066,
          0.3265977203845978,
          0.3188720941543579,
          0.3084658980369568,
          0.30484920740127563,
          0.3045700490474701,
          0.3037671446800232,
          0.30217480659484863,
          0.30442535877227783,
          0.3088521957397461,
          0.31458693742752075,
          0.3145248293876648,
          0.32255908846855164
         ]
        },
        {
         "line": {
          "color": "blue",
          "dash": "solid"
         },
         "mode": "lines",
         "name": "16 units - loss",
         "type": "scatter",
         "y": [
          2.1686599254608154,
          0.7186861038208008,
          0.3489088714122772,
          0.24684952199459076,
          0.20145703852176666,
          0.17477163672447205,
          0.15626060962677002,
          0.14088591933250427,
          0.12827979028224945,
          0.11687574535608292,
          0.10661040246486664,
          0.09858746081590652,
          0.09096253663301468,
          0.08362141251564026,
          0.07755865901708603,
          0.07186169177293777
         ]
        },
        {
         "line": {
          "color": "red",
          "dash": "dash"
         },
         "mode": "lines",
         "name": "32 units - val_loss",
         "type": "scatter",
         "y": [
          0.8581207990646362,
          0.3979964256286621,
          0.32653602957725525,
          0.3055057227611542,
          0.29706183075904846,
          0.29106876254081726,
          0.2932354211807251,
          0.29508358240127563,
          0.29485663771629333,
          0.30477890372276306,
          0.31638777256011963
         ]
        },
        {
         "line": {
          "color": "red",
          "dash": "solid"
         },
         "mode": "lines",
         "name": "32 units - loss",
         "type": "scatter",
         "y": [
          1.946098804473877,
          0.47932302951812744,
          0.24550537765026093,
          0.18439516425132751,
          0.15397657454013824,
          0.13365957140922546,
          0.11757007241249084,
          0.10433118045330048,
          0.0927296057343483,
          0.08281548321247101,
          0.0743236169219017
         ]
        },
        {
         "line": {
          "color": "green",
          "dash": "dash"
         },
         "mode": "lines",
         "name": "64 units - val_loss",
         "type": "scatter",
         "y": [
          0.6721638441085815,
          0.35120102763175964,
          0.3024388551712036,
          0.2866140902042389,
          0.2839604616165161,
          0.2810109853744507,
          0.29183194041252136,
          0.29684513807296753,
          0.31485962867736816,
          0.31761765480041504,
          0.33230558037757874
         ]
        },
        {
         "line": {
          "color": "green",
          "dash": "solid"
         },
         "mode": "lines",
         "name": "64 units - loss",
         "type": "scatter",
         "y": [
          1.7743325233459473,
          0.37900620698928833,
          0.20549525320529938,
          0.1561209261417389,
          0.1296537071466446,
          0.11147718131542206,
          0.09709641337394714,
          0.08434990793466568,
          0.07386963814496994,
          0.06494136899709702,
          0.057327333837747574
         ]
        },
        {
         "line": {
          "color": "orange",
          "dash": "dash"
         },
         "mode": "lines",
         "name": "128 units - val_loss",
         "type": "scatter",
         "y": [
          0.5640555620193481,
          0.3424833416938782,
          0.30845439434051514,
          0.28660139441490173,
          0.2826201617717743,
          0.28008994460105896,
          0.2919241786003113,
          0.2982347309589386,
          0.3072640895843506,
          0.3233961760997772,
          0.3422863781452179
         ]
        },
        {
         "line": {
          "color": "orange",
          "dash": "solid"
         },
         "mode": "lines",
         "name": "128 units - loss",
         "type": "scatter",
         "y": [
          1.5887339115142822,
          0.333999902009964,
          0.19452430307865143,
          0.15095865726470947,
          0.12611359357833862,
          0.10726775974035263,
          0.09205881506204605,
          0.07964732497930527,
          0.0676545575261116,
          0.05934614688158035,
          0.049885015934705734
         ]
        }
       ],
       "layout": {
        "template": {
         "data": {
          "bar": [
           {
            "error_x": {
             "color": "#2a3f5f"
            },
            "error_y": {
             "color": "#2a3f5f"
            },
            "marker": {
             "line": {
              "color": "#E5ECF6",
              "width": 0.5
             },
             "pattern": {
              "fillmode": "overlay",
              "size": 10,
              "solidity": 0.2
             }
            },
            "type": "bar"
           }
          ],
          "barpolar": [
           {
            "marker": {
             "line": {
              "color": "#E5ECF6",
              "width": 0.5
             },
             "pattern": {
              "fillmode": "overlay",
              "size": 10,
              "solidity": 0.2
             }
            },
            "type": "barpolar"
           }
          ],
          "carpet": [
           {
            "aaxis": {
             "endlinecolor": "#2a3f5f",
             "gridcolor": "white",
             "linecolor": "white",
             "minorgridcolor": "white",
             "startlinecolor": "#2a3f5f"
            },
            "baxis": {
             "endlinecolor": "#2a3f5f",
             "gridcolor": "white",
             "linecolor": "white",
             "minorgridcolor": "white",
             "startlinecolor": "#2a3f5f"
            },
            "type": "carpet"
           }
          ],
          "choropleth": [
           {
            "colorbar": {
             "outlinewidth": 0,
             "ticks": ""
            },
            "type": "choropleth"
           }
          ],
          "contour": [
           {
            "colorbar": {
             "outlinewidth": 0,
             "ticks": ""
            },
            "colorscale": [
             [
              0,
              "#0d0887"
             ],
             [
              0.1111111111111111,
              "#46039f"
             ],
             [
              0.2222222222222222,
              "#7201a8"
             ],
             [
              0.3333333333333333,
              "#9c179e"
             ],
             [
              0.4444444444444444,
              "#bd3786"
             ],
             [
              0.5555555555555556,
              "#d8576b"
             ],
             [
              0.6666666666666666,
              "#ed7953"
             ],
             [
              0.7777777777777778,
              "#fb9f3a"
             ],
             [
              0.8888888888888888,
              "#fdca26"
             ],
             [
              1,
              "#f0f921"
             ]
            ],
            "type": "contour"
           }
          ],
          "contourcarpet": [
           {
            "colorbar": {
             "outlinewidth": 0,
             "ticks": ""
            },
            "type": "contourcarpet"
           }
          ],
          "heatmap": [
           {
            "colorbar": {
             "outlinewidth": 0,
             "ticks": ""
            },
            "colorscale": [
             [
              0,
              "#0d0887"
             ],
             [
              0.1111111111111111,
              "#46039f"
             ],
             [
              0.2222222222222222,
              "#7201a8"
             ],
             [
              0.3333333333333333,
              "#9c179e"
             ],
             [
              0.4444444444444444,
              "#bd3786"
             ],
             [
              0.5555555555555556,
              "#d8576b"
             ],
             [
              0.6666666666666666,
              "#ed7953"
             ],
             [
              0.7777777777777778,
              "#fb9f3a"
             ],
             [
              0.8888888888888888,
              "#fdca26"
             ],
             [
              1,
              "#f0f921"
             ]
            ],
            "type": "heatmap"
           }
          ],
          "heatmapgl": [
           {
            "colorbar": {
             "outlinewidth": 0,
             "ticks": ""
            },
            "colorscale": [
             [
              0,
              "#0d0887"
             ],
             [
              0.1111111111111111,
              "#46039f"
             ],
             [
              0.2222222222222222,
              "#7201a8"
             ],
             [
              0.3333333333333333,
              "#9c179e"
             ],
             [
              0.4444444444444444,
              "#bd3786"
             ],
             [
              0.5555555555555556,
              "#d8576b"
             ],
             [
              0.6666666666666666,
              "#ed7953"
             ],
             [
              0.7777777777777778,
              "#fb9f3a"
             ],
             [
              0.8888888888888888,
              "#fdca26"
             ],
             [
              1,
              "#f0f921"
             ]
            ],
            "type": "heatmapgl"
           }
          ],
          "histogram": [
           {
            "marker": {
             "pattern": {
              "fillmode": "overlay",
              "size": 10,
              "solidity": 0.2
             }
            },
            "type": "histogram"
           }
          ],
          "histogram2d": [
           {
            "colorbar": {
             "outlinewidth": 0,
             "ticks": ""
            },
            "colorscale": [
             [
              0,
              "#0d0887"
             ],
             [
              0.1111111111111111,
              "#46039f"
             ],
             [
              0.2222222222222222,
              "#7201a8"
             ],
             [
              0.3333333333333333,
              "#9c179e"
             ],
             [
              0.4444444444444444,
              "#bd3786"
             ],
             [
              0.5555555555555556,
              "#d8576b"
             ],
             [
              0.6666666666666666,
              "#ed7953"
             ],
             [
              0.7777777777777778,
              "#fb9f3a"
             ],
             [
              0.8888888888888888,
              "#fdca26"
             ],
             [
              1,
              "#f0f921"
             ]
            ],
            "type": "histogram2d"
           }
          ],
          "histogram2dcontour": [
           {
            "colorbar": {
             "outlinewidth": 0,
             "ticks": ""
            },
            "colorscale": [
             [
              0,
              "#0d0887"
             ],
             [
              0.1111111111111111,
              "#46039f"
             ],
             [
              0.2222222222222222,
              "#7201a8"
             ],
             [
              0.3333333333333333,
              "#9c179e"
             ],
             [
              0.4444444444444444,
              "#bd3786"
             ],
             [
              0.5555555555555556,
              "#d8576b"
             ],
             [
              0.6666666666666666,
              "#ed7953"
             ],
             [
              0.7777777777777778,
              "#fb9f3a"
             ],
             [
              0.8888888888888888,
              "#fdca26"
             ],
             [
              1,
              "#f0f921"
             ]
            ],
            "type": "histogram2dcontour"
           }
          ],
          "mesh3d": [
           {
            "colorbar": {
             "outlinewidth": 0,
             "ticks": ""
            },
            "type": "mesh3d"
           }
          ],
          "parcoords": [
           {
            "line": {
             "colorbar": {
              "outlinewidth": 0,
              "ticks": ""
             }
            },
            "type": "parcoords"
           }
          ],
          "pie": [
           {
            "automargin": true,
            "type": "pie"
           }
          ],
          "scatter": [
           {
            "fillpattern": {
             "fillmode": "overlay",
             "size": 10,
             "solidity": 0.2
            },
            "type": "scatter"
           }
          ],
          "scatter3d": [
           {
            "line": {
             "colorbar": {
              "outlinewidth": 0,
              "ticks": ""
             }
            },
            "marker": {
             "colorbar": {
              "outlinewidth": 0,
              "ticks": ""
             }
            },
            "type": "scatter3d"
           }
          ],
          "scattercarpet": [
           {
            "marker": {
             "colorbar": {
              "outlinewidth": 0,
              "ticks": ""
             }
            },
            "type": "scattercarpet"
           }
          ],
          "scattergeo": [
           {
            "marker": {
             "colorbar": {
              "outlinewidth": 0,
              "ticks": ""
             }
            },
            "type": "scattergeo"
           }
          ],
          "scattergl": [
           {
            "marker": {
             "colorbar": {
              "outlinewidth": 0,
              "ticks": ""
             }
            },
            "type": "scattergl"
           }
          ],
          "scattermapbox": [
           {
            "marker": {
             "colorbar": {
              "outlinewidth": 0,
              "ticks": ""
             }
            },
            "type": "scattermapbox"
           }
          ],
          "scatterpolar": [
           {
            "marker": {
             "colorbar": {
              "outlinewidth": 0,
              "ticks": ""
             }
            },
            "type": "scatterpolar"
           }
          ],
          "scatterpolargl": [
           {
            "marker": {
             "colorbar": {
              "outlinewidth": 0,
              "ticks": ""
             }
            },
            "type": "scatterpolargl"
           }
          ],
          "scatterternary": [
           {
            "marker": {
             "colorbar": {
              "outlinewidth": 0,
              "ticks": ""
             }
            },
            "type": "scatterternary"
           }
          ],
          "surface": [
           {
            "colorbar": {
             "outlinewidth": 0,
             "ticks": ""
            },
            "colorscale": [
             [
              0,
              "#0d0887"
             ],
             [
              0.1111111111111111,
              "#46039f"
             ],
             [
              0.2222222222222222,
              "#7201a8"
             ],
             [
              0.3333333333333333,
              "#9c179e"
             ],
             [
              0.4444444444444444,
              "#bd3786"
             ],
             [
              0.5555555555555556,
              "#d8576b"
             ],
             [
              0.6666666666666666,
              "#ed7953"
             ],
             [
              0.7777777777777778,
              "#fb9f3a"
             ],
             [
              0.8888888888888888,
              "#fdca26"
             ],
             [
              1,
              "#f0f921"
             ]
            ],
            "type": "surface"
           }
          ],
          "table": [
           {
            "cells": {
             "fill": {
              "color": "#EBF0F8"
             },
             "line": {
              "color": "white"
             }
            },
            "header": {
             "fill": {
              "color": "#C8D4E3"
             },
             "line": {
              "color": "white"
             }
            },
            "type": "table"
           }
          ]
         },
         "layout": {
          "annotationdefaults": {
           "arrowcolor": "#2a3f5f",
           "arrowhead": 0,
           "arrowwidth": 1
          },
          "autotypenumbers": "strict",
          "coloraxis": {
           "colorbar": {
            "outlinewidth": 0,
            "ticks": ""
           }
          },
          "colorscale": {
           "diverging": [
            [
             0,
             "#8e0152"
            ],
            [
             0.1,
             "#c51b7d"
            ],
            [
             0.2,
             "#de77ae"
            ],
            [
             0.3,
             "#f1b6da"
            ],
            [
             0.4,
             "#fde0ef"
            ],
            [
             0.5,
             "#f7f7f7"
            ],
            [
             0.6,
             "#e6f5d0"
            ],
            [
             0.7,
             "#b8e186"
            ],
            [
             0.8,
             "#7fbc41"
            ],
            [
             0.9,
             "#4d9221"
            ],
            [
             1,
             "#276419"
            ]
           ],
           "sequential": [
            [
             0,
             "#0d0887"
            ],
            [
             0.1111111111111111,
             "#46039f"
            ],
            [
             0.2222222222222222,
             "#7201a8"
            ],
            [
             0.3333333333333333,
             "#9c179e"
            ],
            [
             0.4444444444444444,
             "#bd3786"
            ],
            [
             0.5555555555555556,
             "#d8576b"
            ],
            [
             0.6666666666666666,
             "#ed7953"
            ],
            [
             0.7777777777777778,
             "#fb9f3a"
            ],
            [
             0.8888888888888888,
             "#fdca26"
            ],
            [
             1,
             "#f0f921"
            ]
           ],
           "sequentialminus": [
            [
             0,
             "#0d0887"
            ],
            [
             0.1111111111111111,
             "#46039f"
            ],
            [
             0.2222222222222222,
             "#7201a8"
            ],
            [
             0.3333333333333333,
             "#9c179e"
            ],
            [
             0.4444444444444444,
             "#bd3786"
            ],
            [
             0.5555555555555556,
             "#d8576b"
            ],
            [
             0.6666666666666666,
             "#ed7953"
            ],
            [
             0.7777777777777778,
             "#fb9f3a"
            ],
            [
             0.8888888888888888,
             "#fdca26"
            ],
            [
             1,
             "#f0f921"
            ]
           ]
          },
          "colorway": [
           "#636efa",
           "#EF553B",
           "#00cc96",
           "#ab63fa",
           "#FFA15A",
           "#19d3f3",
           "#FF6692",
           "#B6E880",
           "#FF97FF",
           "#FECB52"
          ],
          "font": {
           "color": "#2a3f5f"
          },
          "geo": {
           "bgcolor": "white",
           "lakecolor": "white",
           "landcolor": "#E5ECF6",
           "showlakes": true,
           "showland": true,
           "subunitcolor": "white"
          },
          "hoverlabel": {
           "align": "left"
          },
          "hovermode": "closest",
          "mapbox": {
           "style": "light"
          },
          "paper_bgcolor": "white",
          "plot_bgcolor": "#E5ECF6",
          "polar": {
           "angularaxis": {
            "gridcolor": "white",
            "linecolor": "white",
            "ticks": ""
           },
           "bgcolor": "#E5ECF6",
           "radialaxis": {
            "gridcolor": "white",
            "linecolor": "white",
            "ticks": ""
           }
          },
          "scene": {
           "xaxis": {
            "backgroundcolor": "#E5ECF6",
            "gridcolor": "white",
            "gridwidth": 2,
            "linecolor": "white",
            "showbackground": true,
            "ticks": "",
            "zerolinecolor": "white"
           },
           "yaxis": {
            "backgroundcolor": "#E5ECF6",
            "gridcolor": "white",
            "gridwidth": 2,
            "linecolor": "white",
            "showbackground": true,
            "ticks": "",
            "zerolinecolor": "white"
           },
           "zaxis": {
            "backgroundcolor": "#E5ECF6",
            "gridcolor": "white",
            "gridwidth": 2,
            "linecolor": "white",
            "showbackground": true,
            "ticks": "",
            "zerolinecolor": "white"
           }
          },
          "shapedefaults": {
           "line": {
            "color": "#2a3f5f"
           }
          },
          "ternary": {
           "aaxis": {
            "gridcolor": "white",
            "linecolor": "white",
            "ticks": ""
           },
           "baxis": {
            "gridcolor": "white",
            "linecolor": "white",
            "ticks": ""
           },
           "bgcolor": "#E5ECF6",
           "caxis": {
            "gridcolor": "white",
            "linecolor": "white",
            "ticks": ""
           }
          },
          "title": {
           "x": 0.05
          },
          "xaxis": {
           "automargin": true,
           "gridcolor": "white",
           "linecolor": "white",
           "ticks": "",
           "title": {
            "standoff": 15
           },
           "zerolinecolor": "white",
           "zerolinewidth": 2
          },
          "yaxis": {
           "automargin": true,
           "gridcolor": "white",
           "linecolor": "white",
           "ticks": "",
           "title": {
            "standoff": 15
           },
           "zerolinecolor": "white",
           "zerolinewidth": 2
          }
         }
        },
        "title": {
         "text": "Number of units"
        }
       }
      }
     },
     "metadata": {},
     "output_type": "display_data"
    }
   ],
   "source": [
    "fig = add_curve(json_file = \"models/units16_training_history.json\", name = \"16 units\", color = \"blue\", title = \"Number of units\")\n",
    "fig = add_curve(json_file = \"models/units32_training_history.json\", name = \"32 units\", color = \"red\", fig = fig)\n",
    "fig = add_curve(json_file = \"models/bidirectional_model_training_history.json\", name = \"64 units\", color = \"green\", fig = fig)\n",
    "fig = add_curve(json_file = \"models/units128_training_history.json\", name = \"128 units\", color = \"orange\", fig = fig)\n",
    "fig.show()"
   ]
  },
  {
   "cell_type": "markdown",
   "metadata": {},
   "source": [
    "| **Units** | **Acccuracy** | **Loss** |\n",
    "|:---------:|:-------------:|:--------:|\n",
    "|     16    |     0.9168    |  0.2821  |\n",
    "|     32    |     0.9191    |  0.2736  |\n",
    "|     64    |     0.9221    |  0.2598  |\n",
    "|    128    |     0.9221    |  0.2569  |"
   ]
  },
  {
   "cell_type": "markdown",
   "metadata": {},
   "source": [
    "### Embedding size"
   ]
  },
  {
   "cell_type": "code",
   "execution_count": null,
   "metadata": {},
   "outputs": [
    {
     "name": "stdout",
     "output_type": "stream",
     "text": [
      "Model: \"model_7\"\n",
      "_________________________________________________________________\n",
      " Layer (type)                Output Shape              Param #   \n",
      "=================================================================\n",
      " input_8 (InputLayer)        [(None, 1)]               0         \n",
      "                                                                 \n",
      " text_vectorization_7 (Text  (None, 100)               0         \n",
      " Vectorization)                                                  \n",
      "                                                                 \n",
      " embedding_7 (Embedding)     (None, 100, 100)          1000000   \n",
      "                                                                 \n",
      " bidirectional_6 (Bidirecti  (None, 100, 128)          84480     \n",
      " onal)                                                           \n",
      "                                                                 \n",
      " time_distributed_7 (TimeDi  (None, 100, 18)           2322      \n",
      " stributed)                                                      \n",
      "                                                                 \n",
      "=================================================================\n",
      "Total params: 1086802 (4.15 MB)\n",
      "Trainable params: 1086802 (4.15 MB)\n",
      "Non-trainable params: 0 (0.00 Byte)\n",
      "_________________________________________________________________\n",
      "Epoch 1/30\n",
      "196/196 [==============================] - 46s 177ms/step - loss: 1.5046 - accuracy: 0.5728 - val_loss: 0.4821 - val_accuracy: 0.8697\n",
      "Epoch 2/30\n",
      "196/196 [==============================] - 27s 138ms/step - loss: 0.2815 - accuracy: 0.9233 - val_loss: 0.3161 - val_accuracy: 0.9057\n",
      "Epoch 3/30\n",
      "196/196 [==============================] - 27s 138ms/step - loss: 0.1770 - accuracy: 0.9483 - val_loss: 0.2862 - val_accuracy: 0.9140\n",
      "Epoch 4/30\n",
      "196/196 [==============================] - 28s 143ms/step - loss: 0.1405 - accuracy: 0.9579 - val_loss: 0.2785 - val_accuracy: 0.9166\n",
      "Epoch 5/30\n",
      "196/196 [==============================] - 28s 142ms/step - loss: 0.1166 - accuracy: 0.9649 - val_loss: 0.2954 - val_accuracy: 0.9133\n",
      "Epoch 6/30\n",
      "196/196 [==============================] - 29s 150ms/step - loss: 0.0988 - accuracy: 0.9705 - val_loss: 0.2765 - val_accuracy: 0.9186\n",
      "Epoch 7/30\n",
      "196/196 [==============================] - 27s 138ms/step - loss: 0.0828 - accuracy: 0.9760 - val_loss: 0.2849 - val_accuracy: 0.9172\n",
      "Epoch 8/30\n",
      "196/196 [==============================] - 27s 138ms/step - loss: 0.0704 - accuracy: 0.9799 - val_loss: 0.2913 - val_accuracy: 0.9183\n",
      "Epoch 9/30\n",
      "196/196 [==============================] - 27s 139ms/step - loss: 0.0601 - accuracy: 0.9834 - val_loss: 0.3017 - val_accuracy: 0.9184\n",
      "Epoch 10/30\n",
      "196/196 [==============================] - 28s 144ms/step - loss: 0.0509 - accuracy: 0.9864 - val_loss: 0.3166 - val_accuracy: 0.9166\n",
      "Epoch 11/30\n",
      "196/196 [==============================] - 27s 140ms/step - loss: 0.0430 - accuracy: 0.9889 - val_loss: 0.3343 - val_accuracy: 0.9179\n"
     ]
    },
    {
     "data": {
      "text/plain": [
       "<keras.src.callbacks.History at 0x12a7ff390>"
      ]
     },
     "execution_count": 25,
     "metadata": {},
     "output_type": "execute_result"
    }
   ],
   "source": [
    "eng_tagger.build_model(\n",
    "    vocabulary_size = 10000, \n",
    "    units = 64, \n",
    "    output_dim = 100, \n",
    "    bidirectional = True\n",
    ")\n",
    "\n",
    "eng_tagger.train(\n",
    "    batch_size = 64, \n",
    "    optimizer = \"adam\", \n",
    "    metrics=[\"accuracy\"]\n",
    ")"
   ]
  },
  {
   "cell_type": "code",
   "execution_count": 26,
   "metadata": {},
   "outputs": [
    {
     "data": {
      "image/png": "[encoded data removed]",
      "text/plain": [
       "<Figure size 1200x500 with 2 Axes>"
      ]
     },
     "metadata": {},
     "output_type": "display_data"
    },
    {
     "name": "stdout",
     "output_type": "stream",
     "text": [
      "65/65 [==============================] - 1s 22ms/step - loss: 0.2576 - accuracy: 0.9218\n"
     ]
    }
   ],
   "source": [
    "eng_tagger.plot_training_history()\n",
    "eng_tagger.evaluate()"
   ]
  },
  {
   "cell_type": "code",
   "execution_count": 27,
   "metadata": {},
   "outputs": [
    {
     "name": "stdout",
     "output_type": "stream",
     "text": [
      "Model saved in ./models/embed100.keras\n",
      "Training history saved in ./models/embed100_training_history.json\n"
     ]
    }
   ],
   "source": [
    "eng_tagger.save_model(model_filename = \"embed100\")"
   ]
  },
  {
   "cell_type": "code",
   "execution_count": null,
   "metadata": {},
   "outputs": [
    {
     "name": "stdout",
     "output_type": "stream",
     "text": [
      "Model: \"model_8\"\n",
      "_________________________________________________________________\n",
      " Layer (type)                Output Shape              Param #   \n",
      "=================================================================\n",
      " input_9 (InputLayer)        [(None, 1)]               0         \n",
      "                                                                 \n",
      " text_vectorization_8 (Text  (None, 100)               0         \n",
      " Vectorization)                                                  \n",
      "                                                                 \n",
      " embedding_8 (Embedding)     (None, 100, 200)          2000000   \n",
      "                                                                 \n",
      " bidirectional_7 (Bidirecti  (None, 100, 128)          135680    \n",
      " onal)                                                           \n",
      "                                                                 \n",
      " time_distributed_8 (TimeDi  (None, 100, 18)           2322      \n",
      " stributed)                                                      \n",
      "                                                                 \n",
      "=================================================================\n",
      "Total params: 2138002 (8.16 MB)\n",
      "Trainable params: 2138002 (8.16 MB)\n",
      "Non-trainable params: 0 (0.00 Byte)\n",
      "_________________________________________________________________\n",
      "Epoch 1/30\n",
      "196/196 [==============================] - 50s 211ms/step - loss: 1.3251 - accuracy: 0.6212 - val_loss: 0.4101 - val_accuracy: 0.8844\n",
      "Epoch 2/30\n",
      "196/196 [==============================] - 37s 189ms/step - loss: 0.2362 - accuracy: 0.9334 - val_loss: 0.3082 - val_accuracy: 0.9081\n",
      "Epoch 3/30\n",
      "196/196 [==============================] - 38s 194ms/step - loss: 0.1534 - accuracy: 0.9536 - val_loss: 0.2847 - val_accuracy: 0.9151\n",
      "Epoch 4/30\n",
      "196/196 [==============================] - 37s 189ms/step - loss: 0.1212 - accuracy: 0.9628 - val_loss: 0.2761 - val_accuracy: 0.9175\n",
      "Epoch 5/30\n",
      "196/196 [==============================] - 44s 222ms/step - loss: 0.0985 - accuracy: 0.9701 - val_loss: 0.2809 - val_accuracy: 0.9192\n",
      "Epoch 6/30\n",
      "196/196 [==============================] - 52s 262ms/step - loss: 0.0814 - accuracy: 0.9756 - val_loss: 0.2949 - val_accuracy: 0.9178\n",
      "Epoch 7/30\n",
      "196/196 [==============================] - 48s 247ms/step - loss: 0.0670 - accuracy: 0.9806 - val_loss: 0.3043 - val_accuracy: 0.9180\n",
      "Epoch 8/30\n",
      "196/196 [==============================] - 39s 197ms/step - loss: 0.0554 - accuracy: 0.9844 - val_loss: 0.3272 - val_accuracy: 0.9171\n",
      "Epoch 9/30\n",
      "196/196 [==============================] - 37s 189ms/step - loss: 0.0459 - accuracy: 0.9877 - val_loss: 0.3251 - val_accuracy: 0.9182\n"
     ]
    },
    {
     "data": {
      "text/plain": [
       "<keras.src.callbacks.History at 0x123a9f5d0>"
      ]
     },
     "execution_count": 28,
     "metadata": {},
     "output_type": "execute_result"
    }
   ],
   "source": [
    "eng_tagger.build_model(\n",
    "    vocabulary_size = 10000, \n",
    "    units = 64, \n",
    "    output_dim = 200, \n",
    "    bidirectional = True\n",
    ")\n",
    "\n",
    "eng_tagger.train(\n",
    "    batch_size = 64, \n",
    "    optimizer = \"adam\", \n",
    "    metrics=[\"accuracy\"]\n",
    ")"
   ]
  },
  {
   "cell_type": "code",
   "execution_count": 29,
   "metadata": {},
   "outputs": [
    {
     "data": {
      "image/png": "[encoded data removed]",
      "text/plain": [
       "<Figure size 1200x500 with 2 Axes>"
      ]
     },
     "metadata": {},
     "output_type": "display_data"
    },
    {
     "name": "stdout",
     "output_type": "stream",
     "text": [
      "65/65 [==============================] - 3s 39ms/step - loss: 0.2566 - accuracy: 0.9205\n"
     ]
    }
   ],
   "source": [
    "eng_tagger.plot_training_history()\n",
    "eng_tagger.evaluate()"
   ]
  },
  {
   "cell_type": "code",
   "execution_count": 30,
   "metadata": {},
   "outputs": [
    {
     "name": "stdout",
     "output_type": "stream",
     "text": [
      "Model saved in ./models/embed200.keras\n",
      "Training history saved in ./models/embed200_training_history.json\n"
     ]
    }
   ],
   "source": [
    "eng_tagger.save_model(model_filename = \"embed200\")"
   ]
  },
  {
   "cell_type": "code",
   "execution_count": null,
   "metadata": {},
   "outputs": [
    {
     "data": {
      "application/vnd.plotly.v1+json": {
       "config": {
        "plotlyServerURL": "https://plot.ly"
       },
       "data": [
        {
         "line": {
          "color": "green",
          "dash": "dash"
         },
         "mode": "lines",
         "name": "Dimension 50 - val_loss",
         "type": "scatter",
         "y": [
          0.6721638441085815,
          0.35120102763175964,
          0.3024388551712036,
          0.2866140902042389,
          0.2839604616165161,
          0.2810109853744507,
          0.29183194041252136,
          0.29684513807296753,
          0.31485962867736816,
          0.31761765480041504,
          0.33230558037757874
         ]
        },
        {
         "line": {
          "color": "green",
          "dash": "solid"
         },
         "mode": "lines",
         "name": "Dimension 50 - loss",
         "type": "scatter",
         "y": [
          1.7743325233459473,
          0.37900620698928833,
          0.20549525320529938,
          0.1561209261417389,
          0.1296537071466446,
          0.11147718131542206,
          0.09709641337394714,
          0.08434990793466568,
          0.07386963814496994,
          0.06494136899709702,
          0.057327333837747574
         ]
        },
        {
         "line": {
          "color": "orange",
          "dash": "dash"
         },
         "mode": "lines",
         "name": "Dimension 100 - val_loss",
         "type": "scatter",
         "y": [
          0.4820951819419861,
          0.31608888506889343,
          0.2861924469470978,
          0.27852922677993774,
          0.29537346959114075,
          0.2765049636363983,
          0.28490737080574036,
          0.2912812829017639,
          0.30165019631385803,
          0.3165794014930725,
          0.33433347940444946
         ]
        },
        {
         "line": {
          "color": "orange",
          "dash": "solid"
         },
         "mode": "lines",
         "name": "Dimension 100 - loss",
         "type": "scatter",
         "y": [
          1.5045597553253174,
          0.2815256118774414,
          0.1769711673259735,
          0.14048367738723755,
          0.11659545451402664,
          0.09875255078077316,
          0.0828339159488678,
          0.07037031650543213,
          0.060068052262067795,
          0.05092121660709381,
          0.04300186038017273
         ]
        },
        {
         "line": {
          "color": "blue",
          "dash": "dash"
         },
         "mode": "lines",
         "name": "Dimension 200 - val_loss",
         "type": "scatter",
         "y": [
          0.41014188528060913,
          0.308231383562088,
          0.2846895754337311,
          0.27614226937294006,
          0.2809179425239563,
          0.29486727714538574,
          0.30432364344596863,
          0.32716119289398193,
          0.3251451849937439
         ]
        },
        {
         "line": {
          "color": "blue",
          "dash": "solid"
         },
         "mode": "lines",
         "name": "Dimension 200 - loss",
         "type": "scatter",
         "y": [
          1.3250666856765747,
          0.2361632138490677,
          0.15340225398540497,
          0.12120533734560013,
          0.09846550226211548,
          0.08138146996498108,
          0.06702502816915512,
          0.055407680571079254,
          0.04590809717774391
         ]
        }
       ],
       "layout": {
        "template": {
         "data": {
          "bar": [
           {
            "error_x": {
             "color": "#2a3f5f"
            },
            "error_y": {
             "color": "#2a3f5f"
            },
            "marker": {
             "line": {
              "color": "#E5ECF6",
              "width": 0.5
             },
             "pattern": {
              "fillmode": "overlay",
              "size": 10,
              "solidity": 0.2
             }
            },
            "type": "bar"
           }
          ],
          "barpolar": [
           {
            "marker": {
             "line": {
              "color": "#E5ECF6",
              "width": 0.5
             },
             "pattern": {
              "fillmode": "overlay",
              "size": 10,
              "solidity": 0.2
             }
            },
            "type": "barpolar"
           }
          ],
          "carpet": [
           {
            "aaxis": {
             "endlinecolor": "#2a3f5f",
             "gridcolor": "white",
             "linecolor": "white",
             "minorgridcolor": "white",
             "startlinecolor": "#2a3f5f"
            },
            "baxis": {
             "endlinecolor": "#2a3f5f",
             "gridcolor": "white",
             "linecolor": "white",
             "minorgridcolor": "white",
             "startlinecolor": "#2a3f5f"
            },
            "type": "carpet"
           }
          ],
          "choropleth": [
           {
            "colorbar": {
             "outlinewidth": 0,
             "ticks": ""
            },
            "type": "choropleth"
           }
          ],
          "contour": [
           {
            "colorbar": {
             "outlinewidth": 0,
             "ticks": ""
            },
            "colorscale": [
             [
              0,
              "#0d0887"
             ],
             [
              0.1111111111111111,
              "#46039f"
             ],
             [
              0.2222222222222222,
              "#7201a8"
             ],
             [
              0.3333333333333333,
              "#9c179e"
             ],
             [
              0.4444444444444444,
              "#bd3786"
             ],
             [
              0.5555555555555556,
              "#d8576b"
             ],
             [
              0.6666666666666666,
              "#ed7953"
             ],
             [
              0.7777777777777778,
              "#fb9f3a"
             ],
             [
              0.8888888888888888,
              "#fdca26"
             ],
             [
              1,
              "#f0f921"
             ]
            ],
            "type": "contour"
           }
          ],
          "contourcarpet": [
           {
            "colorbar": {
             "outlinewidth": 0,
             "ticks": ""
            },
            "type": "contourcarpet"
           }
          ],
          "heatmap": [
           {
            "colorbar": {
             "outlinewidth": 0,
             "ticks": ""
            },
            "colorscale": [
             [
              0,
              "#0d0887"
             ],
             [
              0.1111111111111111,
              "#46039f"
             ],
             [
              0.2222222222222222,
              "#7201a8"
             ],
             [
              0.3333333333333333,
              "#9c179e"
             ],
             [
              0.4444444444444444,
              "#bd3786"
             ],
             [
              0.5555555555555556,
              "#d8576b"
             ],
             [
              0.6666666666666666,
              "#ed7953"
             ],
             [
              0.7777777777777778,
              "#fb9f3a"
             ],
             [
              0.8888888888888888,
              "#fdca26"
             ],
             [
              1,
              "#f0f921"
             ]
            ],
            "type": "heatmap"
           }
          ],
          "heatmapgl": [
           {
            "colorbar": {
             "outlinewidth": 0,
             "ticks": ""
            },
            "colorscale": [
             [
              0,
              "#0d0887"
             ],
             [
              0.1111111111111111,
              "#46039f"
             ],
             [
              0.2222222222222222,
              "#7201a8"
             ],
             [
              0.3333333333333333,
              "#9c179e"
             ],
             [
              0.4444444444444444,
              "#bd3786"
             ],
             [
              0.5555555555555556,
              "#d8576b"
             ],
             [
              0.6666666666666666,
              "#ed7953"
             ],
             [
              0.7777777777777778,
              "#fb9f3a"
             ],
             [
              0.8888888888888888,
              "#fdca26"
             ],
             [
              1,
              "#f0f921"
             ]
            ],
            "type": "heatmapgl"
           }
          ],
          "histogram": [
           {
            "marker": {
             "pattern": {
              "fillmode": "overlay",
              "size": 10,
              "solidity": 0.2
             }
            },
            "type": "histogram"
           }
          ],
          "histogram2d": [
           {
            "colorbar": {
             "outlinewidth": 0,
             "ticks": ""
            },
            "colorscale": [
             [
              0,
              "#0d0887"
             ],
             [
              0.1111111111111111,
              "#46039f"
             ],
             [
              0.2222222222222222,
              "#7201a8"
             ],
             [
              0.3333333333333333,
              "#9c179e"
             ],
             [
              0.4444444444444444,
              "#bd3786"
             ],
             [
              0.5555555555555556,
              "#d8576b"
             ],
             [
              0.6666666666666666,
              "#ed7953"
             ],
             [
              0.7777777777777778,
              "#fb9f3a"
             ],
             [
              0.8888888888888888,
              "#fdca26"
             ],
             [
              1,
              "#f0f921"
             ]
            ],
            "type": "histogram2d"
           }
          ],
          "histogram2dcontour": [
           {
            "colorbar": {
             "outlinewidth": 0,
             "ticks": ""
            },
            "colorscale": [
             [
              0,
              "#0d0887"
             ],
             [
              0.1111111111111111,
              "#46039f"
             ],
             [
              0.2222222222222222,
              "#7201a8"
             ],
             [
              0.3333333333333333,
              "#9c179e"
             ],
             [
              0.4444444444444444,
              "#bd3786"
             ],
             [
              0.5555555555555556,
              "#d8576b"
             ],
             [
              0.6666666666666666,
              "#ed7953"
             ],
             [
              0.7777777777777778,
              "#fb9f3a"
             ],
             [
              0.8888888888888888,
              "#fdca26"
             ],
             [
              1,
              "#f0f921"
             ]
            ],
            "type": "histogram2dcontour"
           }
          ],
          "mesh3d": [
           {
            "colorbar": {
             "outlinewidth": 0,
             "ticks": ""
            },
            "type": "mesh3d"
           }
          ],
          "parcoords": [
           {
            "line": {
             "colorbar": {
              "outlinewidth": 0,
              "ticks": ""
             }
            },
            "type": "parcoords"
           }
          ],
          "pie": [
           {
            "automargin": true,
            "type": "pie"
           }
          ],
          "scatter": [
           {
            "fillpattern": {
             "fillmode": "overlay",
             "size": 10,
             "solidity": 0.2
            },
            "type": "scatter"
           }
          ],
          "scatter3d": [
           {
            "line": {
             "colorbar": {
              "outlinewidth": 0,
              "ticks": ""
             }
            },
            "marker": {
             "colorbar": {
              "outlinewidth": 0,
              "ticks": ""
             }
            },
            "type": "scatter3d"
           }
          ],
          "scattercarpet": [
           {
            "marker": {
             "colorbar": {
              "outlinewidth": 0,
              "ticks": ""
             }
            },
            "type": "scattercarpet"
           }
          ],
          "scattergeo": [
           {
            "marker": {
             "colorbar": {
              "outlinewidth": 0,
              "ticks": ""
             }
            },
            "type": "scattergeo"
           }
          ],
          "scattergl": [
           {
            "marker": {
             "colorbar": {
              "outlinewidth": 0,
              "ticks": ""
             }
            },
            "type": "scattergl"
           }
          ],
          "scattermapbox": [
           {
            "marker": {
             "colorbar": {
              "outlinewidth": 0,
              "ticks": ""
             }
            },
            "type": "scattermapbox"
           }
          ],
          "scatterpolar": [
           {
            "marker": {
             "colorbar": {
              "outlinewidth": 0,
              "ticks": ""
             }
            },
            "type": "scatterpolar"
           }
          ],
          "scatterpolargl": [
           {
            "marker": {
             "colorbar": {
              "outlinewidth": 0,
              "ticks": ""
             }
            },
            "type": "scatterpolargl"
           }
          ],
          "scatterternary": [
           {
            "marker": {
             "colorbar": {
              "outlinewidth": 0,
              "ticks": ""
             }
            },
            "type": "scatterternary"
           }
          ],
          "surface": [
           {
            "colorbar": {
             "outlinewidth": 0,
             "ticks": ""
            },
            "colorscale": [
             [
              0,
              "#0d0887"
             ],
             [
              0.1111111111111111,
              "#46039f"
             ],
             [
              0.2222222222222222,
              "#7201a8"
             ],
             [
              0.3333333333333333,
              "#9c179e"
             ],
             [
              0.4444444444444444,
              "#bd3786"
             ],
             [
              0.5555555555555556,
              "#d8576b"
             ],
             [
              0.6666666666666666,
              "#ed7953"
             ],
             [
              0.7777777777777778,
              "#fb9f3a"
             ],
             [
              0.8888888888888888,
              "#fdca26"
             ],
             [
              1,
              "#f0f921"
             ]
            ],
            "type": "surface"
           }
          ],
          "table": [
           {
            "cells": {
             "fill": {
              "color": "#EBF0F8"
             },
             "line": {
              "color": "white"
             }
            },
            "header": {
             "fill": {
              "color": "#C8D4E3"
             },
             "line": {
              "color": "white"
             }
            },
            "type": "table"
           }
          ]
         },
         "layout": {
          "annotationdefaults": {
           "arrowcolor": "#2a3f5f",
           "arrowhead": 0,
           "arrowwidth": 1
          },
          "autotypenumbers": "strict",
          "coloraxis": {
           "colorbar": {
            "outlinewidth": 0,
            "ticks": ""
           }
          },
          "colorscale": {
           "diverging": [
            [
             0,
             "#8e0152"
            ],
            [
             0.1,
             "#c51b7d"
            ],
            [
             0.2,
             "#de77ae"
            ],
            [
             0.3,
             "#f1b6da"
            ],
            [
             0.4,
             "#fde0ef"
            ],
            [
             0.5,
             "#f7f7f7"
            ],
            [
             0.6,
             "#e6f5d0"
            ],
            [
             0.7,
             "#b8e186"
            ],
            [
             0.8,
             "#7fbc41"
            ],
            [
             0.9,
             "#4d9221"
            ],
            [
             1,
             "#276419"
            ]
           ],
           "sequential": [
            [
             0,
             "#0d0887"
            ],
            [
             0.1111111111111111,
             "#46039f"
            ],
            [
             0.2222222222222222,
             "#7201a8"
            ],
            [
             0.3333333333333333,
             "#9c179e"
            ],
            [
             0.4444444444444444,
             "#bd3786"
            ],
            [
             0.5555555555555556,
             "#d8576b"
            ],
            [
             0.6666666666666666,
             "#ed7953"
            ],
            [
             0.7777777777777778,
             "#fb9f3a"
            ],
            [
             0.8888888888888888,
             "#fdca26"
            ],
            [
             1,
             "#f0f921"
            ]
           ],
           "sequentialminus": [
            [
             0,
             "#0d0887"
            ],
            [
             0.1111111111111111,
             "#46039f"
            ],
            [
             0.2222222222222222,
             "#7201a8"
            ],
            [
             0.3333333333333333,
             "#9c179e"
            ],
            [
             0.4444444444444444,
             "#bd3786"
            ],
            [
             0.5555555555555556,
             "#d8576b"
            ],
            [
             0.6666666666666666,
             "#ed7953"
            ],
            [
             0.7777777777777778,
             "#fb9f3a"
            ],
            [
             0.8888888888888888,
             "#fdca26"
            ],
            [
             1,
             "#f0f921"
            ]
           ]
          },
          "colorway": [
           "#636efa",
           "#EF553B",
           "#00cc96",
           "#ab63fa",
           "#FFA15A",
           "#19d3f3",
           "#FF6692",
           "#B6E880",
           "#FF97FF",
           "#FECB52"
          ],
          "font": {
           "color": "#2a3f5f"
          },
          "geo": {
           "bgcolor": "white",
           "lakecolor": "white",
           "landcolor": "#E5ECF6",
           "showlakes": true,
           "showland": true,
           "subunitcolor": "white"
          },
          "hoverlabel": {
           "align": "left"
          },
          "hovermode": "closest",
          "mapbox": {
           "style": "light"
          },
          "paper_bgcolor": "white",
          "plot_bgcolor": "#E5ECF6",
          "polar": {
           "angularaxis": {
            "gridcolor": "white",
            "linecolor": "white",
            "ticks": ""
           },
           "bgcolor": "#E5ECF6",
           "radialaxis": {
            "gridcolor": "white",
            "linecolor": "white",
            "ticks": ""
           }
          },
          "scene": {
           "xaxis": {
            "backgroundcolor": "#E5ECF6",
            "gridcolor": "white",
            "gridwidth": 2,
            "linecolor": "white",
            "showbackground": true,
            "ticks": "",
            "zerolinecolor": "white"
           },
           "yaxis": {
            "backgroundcolor": "#E5ECF6",
            "gridcolor": "white",
            "gridwidth": 2,
            "linecolor": "white",
            "showbackground": true,
            "ticks": "",
            "zerolinecolor": "white"
           },
           "zaxis": {
            "backgroundcolor": "#E5ECF6",
            "gridcolor": "white",
            "gridwidth": 2,
            "linecolor": "white",
            "showbackground": true,
            "ticks": "",
            "zerolinecolor": "white"
           }
          },
          "shapedefaults": {
           "line": {
            "color": "#2a3f5f"
           }
          },
          "ternary": {
           "aaxis": {
            "gridcolor": "white",
            "linecolor": "white",
            "ticks": ""
           },
           "baxis": {
            "gridcolor": "white",
            "linecolor": "white",
            "ticks": ""
           },
           "bgcolor": "#E5ECF6",
           "caxis": {
            "gridcolor": "white",
            "linecolor": "white",
            "ticks": ""
           }
          },
          "title": {
           "x": 0.05
          },
          "xaxis": {
           "automargin": true,
           "gridcolor": "white",
           "linecolor": "white",
           "ticks": "",
           "title": {
            "standoff": 15
           },
           "zerolinecolor": "white",
           "zerolinewidth": 2
          },
          "yaxis": {
           "automargin": true,
           "gridcolor": "white",
           "linecolor": "white",
           "ticks": "",
           "title": {
            "standoff": 15
           },
           "zerolinecolor": "white",
           "zerolinewidth": 2
          }
         }
        },
        "title": {
         "text": "Embedding dimension"
        }
       }
      }
     },
     "metadata": {},
     "output_type": "display_data"
    }
   ],
   "source": [
    "\n",
    "fig = add_curve(json_file = \"models/bidirectional_model_training_history.json\", name = \"Dimension 50\", color = \"green\", title = \"Embedding dimension\")\n",
    "fig = add_curve(json_file = \"models/embed100_training_history.json\", name = \"Dimension 100\", color = \"orange\", fig = fig)\n",
    "fig = add_curve(json_file = \"models/embed200_training_history.json\", name = \"Dimension 200\", color = \"blue\", fig = fig)\n",
    "fig.show()"
   ]
  },
  {
   "cell_type": "markdown",
   "metadata": {},
   "source": [
    "| **Embedding dimension** | **Acccuracy** | **Loss** |\n",
    "|:-----------------------:|:-------------:|:--------:|\n",
    "|            50           |     0.9221    |  0.2598  |\n",
    "|           100           |     0.9218    |  0.2576  |\n",
    "|           200           |     0.9205    |  0.2566  |"
   ]
  },
  {
   "cell_type": "markdown",
   "metadata": {},
   "source": [
    "### Batch size"
   ]
  },
  {
   "cell_type": "code",
   "execution_count": null,
   "metadata": {},
   "outputs": [
    {
     "name": "stdout",
     "output_type": "stream",
     "text": [
      "Model: \"model_9\"\n",
      "_________________________________________________________________\n",
      " Layer (type)                Output Shape              Param #   \n",
      "=================================================================\n",
      " input_10 (InputLayer)       [(None, 1)]               0         \n",
      "                                                                 \n",
      " text_vectorization_9 (Text  (None, 100)               0         \n",
      " Vectorization)                                                  \n",
      "                                                                 \n",
      " embedding_9 (Embedding)     (None, 100, 50)           500000    \n",
      "                                                                 \n",
      " bidirectional_8 (Bidirecti  (None, 100, 128)          58880     \n",
      " onal)                                                           \n",
      "                                                                 \n",
      " time_distributed_9 (TimeDi  (None, 100, 18)           2322      \n",
      " stributed)                                                      \n",
      "                                                                 \n",
      "=================================================================\n",
      "Total params: 561202 (2.14 MB)\n",
      "Trainable params: 561202 (2.14 MB)\n",
      "Non-trainable params: 0 (0.00 Byte)\n",
      "_________________________________________________________________\n",
      "Epoch 1/30\n",
      "98/98 [==============================] - 37s 289ms/step - loss: 2.4051 - accuracy: 0.2729 - val_loss: 1.7840 - val_accuracy: 0.5248\n",
      "Epoch 2/30\n",
      "98/98 [==============================] - 20s 205ms/step - loss: 0.9735 - accuracy: 0.7471 - val_loss: 0.5577 - val_accuracy: 0.8609\n",
      "Epoch 3/30\n",
      "98/98 [==============================] - 26s 263ms/step - loss: 0.3543 - accuracy: 0.9105 - val_loss: 0.3679 - val_accuracy: 0.8978\n",
      "Epoch 4/30\n",
      "98/98 [==============================] - 25s 257ms/step - loss: 0.2285 - accuracy: 0.9384 - val_loss: 0.3190 - val_accuracy: 0.9068\n",
      "Epoch 5/30\n",
      "98/98 [==============================] - 24s 242ms/step - loss: 0.1808 - accuracy: 0.9486 - val_loss: 0.3049 - val_accuracy: 0.9101\n",
      "Epoch 6/30\n",
      "98/98 [==============================] - 19s 190ms/step - loss: 0.1544 - accuracy: 0.9552 - val_loss: 0.2923 - val_accuracy: 0.9103\n",
      "Epoch 7/30\n",
      "98/98 [==============================] - 19s 190ms/step - loss: 0.1355 - accuracy: 0.9604 - val_loss: 0.2889 - val_accuracy: 0.9141\n",
      "Epoch 8/30\n",
      "98/98 [==============================] - 18s 185ms/step - loss: 0.1206 - accuracy: 0.9646 - val_loss: 0.2873 - val_accuracy: 0.9145\n",
      "Epoch 9/30\n",
      "98/98 [==============================] - 19s 192ms/step - loss: 0.1079 - accuracy: 0.9685 - val_loss: 0.2863 - val_accuracy: 0.9155\n",
      "Epoch 10/30\n",
      "98/98 [==============================] - 20s 206ms/step - loss: 0.0965 - accuracy: 0.9720 - val_loss: 0.2857 - val_accuracy: 0.9169\n",
      "Epoch 11/30\n",
      "98/98 [==============================] - 20s 200ms/step - loss: 0.0871 - accuracy: 0.9751 - val_loss: 0.2984 - val_accuracy: 0.9159\n",
      "Epoch 12/30\n",
      "98/98 [==============================] - 20s 209ms/step - loss: 0.0778 - accuracy: 0.9781 - val_loss: 0.2986 - val_accuracy: 0.9171\n",
      "Epoch 13/30\n",
      "98/98 [==============================] - 21s 210ms/step - loss: 0.0698 - accuracy: 0.9812 - val_loss: 0.3156 - val_accuracy: 0.9158\n",
      "Epoch 14/30\n",
      "98/98 [==============================] - 25s 256ms/step - loss: 0.0628 - accuracy: 0.9833 - val_loss: 0.3150 - val_accuracy: 0.9157\n",
      "Epoch 15/30\n",
      "98/98 [==============================] - 23s 238ms/step - loss: 0.0565 - accuracy: 0.9851 - val_loss: 0.3235 - val_accuracy: 0.9161\n"
     ]
    },
    {
     "data": {
      "text/plain": [
       "<keras.src.callbacks.History at 0x12696bf50>"
      ]
     },
     "execution_count": 31,
     "metadata": {},
     "output_type": "execute_result"
    }
   ],
   "source": [
    "eng_tagger.build_model(\n",
    "    vocabulary_size = 10000, \n",
    "    units = 64, \n",
    "    output_dim = 50, \n",
    "    bidirectional = True\n",
    ")\n",
    "\n",
    "eng_tagger.train(\n",
    "    batch_size = 128, \n",
    "    optimizer = \"adam\", \n",
    "    metrics=[\"accuracy\"]\n",
    ")"
   ]
  },
  {
   "cell_type": "code",
   "execution_count": 32,
   "metadata": {},
   "outputs": [
    {
     "data": {
      "image/png": "[encoded data removed]",
      "text/plain": [
       "<Figure size 1200x500 with 2 Axes>"
      ]
     },
     "metadata": {},
     "output_type": "display_data"
    },
    {
     "name": "stdout",
     "output_type": "stream",
     "text": [
      "65/65 [==============================] - 2s 25ms/step - loss: 0.2738 - accuracy: 0.9185\n"
     ]
    }
   ],
   "source": [
    "eng_tagger.plot_training_history()\n",
    "eng_tagger.evaluate()"
   ]
  },
  {
   "cell_type": "code",
   "execution_count": 33,
   "metadata": {},
   "outputs": [
    {
     "name": "stdout",
     "output_type": "stream",
     "text": [
      "Model saved in ./models/batch128.keras\n",
      "Training history saved in ./models/batch128_training_history.json\n"
     ]
    }
   ],
   "source": [
    "eng_tagger.save_model(model_filename = \"batch128\")"
   ]
  },
  {
   "cell_type": "code",
   "execution_count": null,
   "metadata": {},
   "outputs": [
    {
     "name": "stdout",
     "output_type": "stream",
     "text": [
      "Model: \"model_10\"\n",
      "_________________________________________________________________\n",
      " Layer (type)                Output Shape              Param #   \n",
      "=================================================================\n",
      " input_11 (InputLayer)       [(None, 1)]               0         \n",
      "                                                                 \n",
      " text_vectorization_10 (Tex  (None, 100)               0         \n",
      " tVectorization)                                                 \n",
      "                                                                 \n",
      " embedding_10 (Embedding)    (None, 100, 50)           500000    \n",
      "                                                                 \n",
      " bidirectional_9 (Bidirecti  (None, 100, 128)          58880     \n",
      " onal)                                                           \n",
      "                                                                 \n",
      " time_distributed_10 (TimeD  (None, 100, 18)           2322      \n",
      " istributed)                                                     \n",
      "                                                                 \n",
      "=================================================================\n",
      "Total params: 561202 (2.14 MB)\n",
      "Trainable params: 561202 (2.14 MB)\n",
      "Non-trainable params: 0 (0.00 Byte)\n",
      "_________________________________________________________________\n",
      "Epoch 1/30\n",
      "49/49 [==============================] - 39s 468ms/step - loss: 2.6417 - accuracy: 0.1886 - val_loss: 2.4284 - val_accuracy: 0.2492\n",
      "Epoch 2/30\n",
      "49/49 [==============================] - 19s 387ms/step - loss: 2.1310 - accuracy: 0.3627 - val_loss: 1.6667 - val_accuracy: 0.5727\n",
      "Epoch 3/30\n",
      "49/49 [==============================] - 20s 418ms/step - loss: 1.1016 - accuracy: 0.7324 - val_loss: 0.7444 - val_accuracy: 0.8143\n",
      "Epoch 4/30\n",
      "49/49 [==============================] - 19s 386ms/step - loss: 0.4937 - accuracy: 0.8875 - val_loss: 0.4597 - val_accuracy: 0.8817\n",
      "Epoch 5/30\n",
      "49/49 [==============================] - 18s 365ms/step - loss: 0.3081 - accuracy: 0.9252 - val_loss: 0.3747 - val_accuracy: 0.8960\n",
      "Epoch 6/30\n",
      "49/49 [==============================] - 18s 366ms/step - loss: 0.2351 - accuracy: 0.9399 - val_loss: 0.3406 - val_accuracy: 0.9027\n",
      "Epoch 7/30\n",
      "49/49 [==============================] - 25s 511ms/step - loss: 0.1963 - accuracy: 0.9470 - val_loss: 0.3211 - val_accuracy: 0.9068\n",
      "Epoch 8/30\n",
      "49/49 [==============================] - 28s 573ms/step - loss: 0.1718 - accuracy: 0.9516 - val_loss: 0.3098 - val_accuracy: 0.9085\n",
      "Epoch 9/30\n",
      "49/49 [==============================] - 19s 394ms/step - loss: 0.1535 - accuracy: 0.9561 - val_loss: 0.3011 - val_accuracy: 0.9109\n",
      "Epoch 10/30\n",
      "49/49 [==============================] - 18s 378ms/step - loss: 0.1392 - accuracy: 0.9597 - val_loss: 0.2944 - val_accuracy: 0.9120\n",
      "Epoch 11/30\n",
      "49/49 [==============================] - 18s 371ms/step - loss: 0.1269 - accuracy: 0.9635 - val_loss: 0.2887 - val_accuracy: 0.9148\n",
      "Epoch 12/30\n",
      "49/49 [==============================] - 19s 385ms/step - loss: 0.1171 - accuracy: 0.9664 - val_loss: 0.2916 - val_accuracy: 0.9140\n",
      "Epoch 13/30\n",
      "49/49 [==============================] - 18s 378ms/step - loss: 0.1074 - accuracy: 0.9694 - val_loss: 0.2915 - val_accuracy: 0.9144\n",
      "Epoch 14/30\n",
      "49/49 [==============================] - 18s 377ms/step - loss: 0.0987 - accuracy: 0.9722 - val_loss: 0.2946 - val_accuracy: 0.9146\n",
      "Epoch 15/30\n",
      "49/49 [==============================] - 19s 380ms/step - loss: 0.0911 - accuracy: 0.9746 - val_loss: 0.2911 - val_accuracy: 0.9163\n",
      "Epoch 16/30\n",
      "49/49 [==============================] - 19s 389ms/step - loss: 0.0845 - accuracy: 0.9770 - val_loss: 0.2968 - val_accuracy: 0.9144\n"
     ]
    },
    {
     "data": {
      "text/plain": [
       "<keras.src.callbacks.History at 0x12d541c90>"
      ]
     },
     "execution_count": 34,
     "metadata": {},
     "output_type": "execute_result"
    }
   ],
   "source": [
    "eng_tagger.build_model(\n",
    "    vocabulary_size = 10000, \n",
    "    units = 64, \n",
    "    output_dim = 50, \n",
    "    bidirectional = True\n",
    ")\n",
    "\n",
    "eng_tagger.train(\n",
    "    batch_size = 256, \n",
    "    optimizer = \"adam\", \n",
    "    metrics=[\"accuracy\"]\n",
    ")"
   ]
  },
  {
   "cell_type": "code",
   "execution_count": 35,
   "metadata": {},
   "outputs": [
    {
     "data": {
      "image/png": "[encoded data removed]",
      "text/plain": [
       "<Figure size 1200x500 with 2 Axes>"
      ]
     },
     "metadata": {},
     "output_type": "display_data"
    },
    {
     "name": "stdout",
     "output_type": "stream",
     "text": [
      "65/65 [==============================] - 2s 37ms/step - loss: 0.2744 - accuracy: 0.9200\n"
     ]
    }
   ],
   "source": [
    "eng_tagger.plot_training_history()\n",
    "eng_tagger.evaluate()"
   ]
  },
  {
   "cell_type": "code",
   "execution_count": 36,
   "metadata": {},
   "outputs": [
    {
     "name": "stdout",
     "output_type": "stream",
     "text": [
      "Model saved in ./models/batch256.keras\n",
      "Training history saved in ./models/batch256_training_history.json\n"
     ]
    }
   ],
   "source": [
    "eng_tagger.save_model(model_filename = \"batch256\")"
   ]
  },
  {
   "cell_type": "code",
   "execution_count": null,
   "metadata": {},
   "outputs": [
    {
     "name": "stdout",
     "output_type": "stream",
     "text": [
      "Model: \"model_11\"\n",
      "_________________________________________________________________\n",
      " Layer (type)                Output Shape              Param #   \n",
      "=================================================================\n",
      " input_12 (InputLayer)       [(None, 1)]               0         \n",
      "                                                                 \n",
      " text_vectorization_11 (Tex  (None, 100)               0         \n",
      " tVectorization)                                                 \n",
      "                                                                 \n",
      " embedding_11 (Embedding)    (None, 100, 50)           500000    \n",
      "                                                                 \n",
      " bidirectional_10 (Bidirect  (None, 100, 128)          58880     \n",
      " ional)                                                          \n",
      "                                                                 \n",
      " time_distributed_11 (TimeD  (None, 100, 18)           2322      \n",
      " istributed)                                                     \n",
      "                                                                 \n",
      "=================================================================\n",
      "Total params: 561202 (2.14 MB)\n",
      "Trainable params: 561202 (2.14 MB)\n",
      "Non-trainable params: 0 (0.00 Byte)\n",
      "_________________________________________________________________\n",
      "Epoch 1/30\n",
      "392/392 [==============================] - 55s 115ms/step - loss: 1.1765 - accuracy: 0.6581 - val_loss: 0.4097 - val_accuracy: 0.8858\n",
      "Epoch 2/30\n",
      "392/392 [==============================] - 43s 110ms/step - loss: 0.2403 - accuracy: 0.9318 - val_loss: 0.3075 - val_accuracy: 0.9095\n",
      "Epoch 3/30\n",
      "392/392 [==============================] - 41s 105ms/step - loss: 0.1618 - accuracy: 0.9511 - val_loss: 0.2824 - val_accuracy: 0.9163\n",
      "Epoch 4/30\n",
      "392/392 [==============================] - 34s 88ms/step - loss: 0.1311 - accuracy: 0.9596 - val_loss: 0.2788 - val_accuracy: 0.9162\n",
      "Epoch 5/30\n",
      "392/392 [==============================] - 33s 84ms/step - loss: 0.1101 - accuracy: 0.9662 - val_loss: 0.2916 - val_accuracy: 0.9160\n",
      "Epoch 6/30\n",
      "392/392 [==============================] - 34s 87ms/step - loss: 0.0927 - accuracy: 0.9719 - val_loss: 0.2872 - val_accuracy: 0.9175\n",
      "Epoch 7/30\n",
      "392/392 [==============================] - 33s 85ms/step - loss: 0.0789 - accuracy: 0.9766 - val_loss: 0.3039 - val_accuracy: 0.9161\n",
      "Epoch 8/30\n",
      "392/392 [==============================] - 35s 88ms/step - loss: 0.0663 - accuracy: 0.9807 - val_loss: 0.3212 - val_accuracy: 0.9159\n",
      "Epoch 9/30\n",
      "392/392 [==============================] - 36s 92ms/step - loss: 0.0565 - accuracy: 0.9841 - val_loss: 0.3294 - val_accuracy: 0.9160\n"
     ]
    },
    {
     "data": {
      "text/plain": [
       "<keras.src.callbacks.History at 0x12e5b9e50>"
      ]
     },
     "execution_count": 37,
     "metadata": {},
     "output_type": "execute_result"
    }
   ],
   "source": [
    "eng_tagger.build_model(\n",
    "    vocabulary_size = 10000, \n",
    "    units = 64, \n",
    "    output_dim = 50, \n",
    "    bidirectional = True\n",
    ")\n",
    "\n",
    "eng_tagger.train(\n",
    "    batch_size = 32, \n",
    "    optimizer = \"adam\", \n",
    "    metrics=[\"accuracy\"]\n",
    ")"
   ]
  },
  {
   "cell_type": "code",
   "execution_count": null,
   "metadata": {},
   "outputs": [
    {
     "name": "stdout",
     "output_type": "stream",
     "text": [
      "65/65 [==============================] - 11s 41ms/step - loss: 0.2629 - accuracy: 0.9187\n"
     ]
    }
   ],
   "source": [
    "eng_tagger.plot_training_history()\n",
    "eng_tagger.evaluate()"
   ]
  },
  {
   "cell_type": "code",
   "execution_count": 39,
   "metadata": {},
   "outputs": [
    {
     "name": "stdout",
     "output_type": "stream",
     "text": [
      "Model saved in ./models/batch32.keras\n",
      "Training history saved in ./models/batch32_training_history.json\n"
     ]
    }
   ],
   "source": [
    "eng_tagger.save_model(model_filename = \"batch32\")"
   ]
  },
  {
   "cell_type": "code",
   "execution_count": null,
   "metadata": {},
   "outputs": [
    {
     "data": {
      "application/vnd.plotly.v1+json": {
       "config": {
        "plotlyServerURL": "https://plot.ly"
       },
       "data": [
        {
         "line": {
          "color": "green",
          "dash": "dash"
         },
         "mode": "lines",
         "name": "Batch 64 - val_loss",
         "type": "scatter",
         "y": [
          0.6721638441085815,
          0.35120102763175964,
          0.3024388551712036,
          0.2866140902042389,
          0.2839604616165161,
          0.2810109853744507,
          0.29183194041252136,
          0.29684513807296753,
          0.31485962867736816,
          0.31761765480041504,
          0.33230558037757874
         ]
        },
        {
         "line": {
          "color": "green",
          "dash": "solid"
         },
         "mode": "lines",
         "name": "Batch 64 - loss",
         "type": "scatter",
         "y": [
          1.7743325233459473,
          0.37900620698928833,
          0.20549525320529938,
          0.1561209261417389,
          0.1296537071466446,
          0.11147718131542206,
          0.09709641337394714,
          0.08434990793466568,
          0.07386963814496994,
          0.06494136899709702,
          0.057327333837747574
         ]
        },
        {
         "line": {
          "color": "orange",
          "dash": "dash"
         },
         "mode": "lines",
         "name": "Batch 128 - val_loss",
         "type": "scatter",
         "y": [
          1.7839601039886475,
          0.5577152967453003,
          0.3679000735282898,
          0.31895801424980164,
          0.3048644959926605,
          0.2923116683959961,
          0.288906455039978,
          0.28725987672805786,
          0.2863464653491974,
          0.285715788602829,
          0.29835614562034607,
          0.2986367344856262,
          0.3156089186668396,
          0.31500375270843506,
          0.3234541118144989
         ]
        },
        {
         "line": {
          "color": "orange",
          "dash": "solid"
         },
         "mode": "lines",
         "name": "Batch 128 - loss",
         "type": "scatter",
         "y": [
          2.405086040496826,
          0.9735461473464966,
          0.35427361726760864,
          0.2284957319498062,
          0.18083977699279785,
          0.1544053703546524,
          0.1355256587266922,
          0.12062320113182068,
          0.10787928104400635,
          0.09654087573289871,
          0.08711936324834824,
          0.07784855365753174,
          0.06980442255735397,
          0.06281163543462753,
          0.05650903657078743
         ]
        },
        {
         "line": {
          "color": "blue",
          "dash": "dash"
         },
         "mode": "lines",
         "name": "Batch 256 - val_loss",
         "type": "scatter",
         "y": [
          2.428363800048828,
          1.6666914224624634,
          0.7444069385528564,
          0.45973652601242065,
          0.37469282746315,
          0.34063708782196045,
          0.32106533646583557,
          0.30979123711586,
          0.30112117528915405,
          0.29443657398223877,
          0.2887429893016815,
          0.29163601994514465,
          0.2914952337741852,
          0.29463186860084534,
          0.29108956456184387,
          0.2968347668647766
         ]
        },
        {
         "line": {
          "color": "blue",
          "dash": "solid"
         },
         "mode": "lines",
         "name": "Batch 256 - loss",
         "type": "scatter",
         "y": [
          2.641721487045288,
          2.1309831142425537,
          1.1015708446502686,
          0.49368616938591003,
          0.30814671516418457,
          0.23512420058250427,
          0.19628728926181793,
          0.17176227271556854,
          0.1535196751356125,
          0.13921424746513367,
          0.1269165575504303,
          0.11713074892759323,
          0.10743747651576996,
          0.09869155287742615,
          0.09114860743284225,
          0.08450038731098175
         ]
        },
        {
         "line": {
          "color": "red",
          "dash": "dash"
         },
         "mode": "lines",
         "name": "Batch 32 - val_loss",
         "type": "scatter",
         "y": [
          0.40969792008399963,
          0.30754104256629944,
          0.28235650062561035,
          0.2787613272666931,
          0.29160675406455994,
          0.28718918561935425,
          0.30393028259277344,
          0.3212018609046936,
          0.32941901683807373
         ]
        },
        {
         "line": {
          "color": "red",
          "dash": "solid"
         },
         "mode": "lines",
         "name": "Batch 32 - loss",
         "type": "scatter",
         "y": [
          1.1765308380126953,
          0.24028608202934265,
          0.16179445385932922,
          0.1310977190732956,
          0.1100592389702797,
          0.09272561967372894,
          0.0788855031132698,
          0.06633228808641434,
          0.05647822842001915
         ]
        }
       ],
       "layout": {
        "template": {
         "data": {
          "bar": [
           {
            "error_x": {
             "color": "#2a3f5f"
            },
            "error_y": {
             "color": "#2a3f5f"
            },
            "marker": {
             "line": {
              "color": "#E5ECF6",
              "width": 0.5
             },
             "pattern": {
              "fillmode": "overlay",
              "size": 10,
              "solidity": 0.2
             }
            },
            "type": "bar"
           }
          ],
          "barpolar": [
           {
            "marker": {
             "line": {
              "color": "#E5ECF6",
              "width": 0.5
             },
             "pattern": {
              "fillmode": "overlay",
              "size": 10,
              "solidity": 0.2
             }
            },
            "type": "barpolar"
           }
          ],
          "carpet": [
           {
            "aaxis": {
             "endlinecolor": "#2a3f5f",
             "gridcolor": "white",
             "linecolor": "white",
             "minorgridcolor": "white",
             "startlinecolor": "#2a3f5f"
            },
            "baxis": {
             "endlinecolor": "#2a3f5f",
             "gridcolor": "white",
             "linecolor": "white",
             "minorgridcolor": "white",
             "startlinecolor": "#2a3f5f"
            },
            "type": "carpet"
           }
          ],
          "choropleth": [
           {
            "colorbar": {
             "outlinewidth": 0,
             "ticks": ""
            },
            "type": "choropleth"
           }
          ],
          "contour": [
           {
            "colorbar": {
             "outlinewidth": 0,
             "ticks": ""
            },
            "colorscale": [
             [
              0,
              "#0d0887"
             ],
             [
              0.1111111111111111,
              "#46039f"
             ],
             [
              0.2222222222222222,
              "#7201a8"
             ],
             [
              0.3333333333333333,
              "#9c179e"
             ],
             [
              0.4444444444444444,
              "#bd3786"
             ],
             [
              0.5555555555555556,
              "#d8576b"
             ],
             [
              0.6666666666666666,
              "#ed7953"
             ],
             [
              0.7777777777777778,
              "#fb9f3a"
             ],
             [
              0.8888888888888888,
              "#fdca26"
             ],
             [
              1,
              "#f0f921"
             ]
            ],
            "type": "contour"
           }
          ],
          "contourcarpet": [
           {
            "colorbar": {
             "outlinewidth": 0,
             "ticks": ""
            },
            "type": "contourcarpet"
           }
          ],
          "heatmap": [
           {
            "colorbar": {
             "outlinewidth": 0,
             "ticks": ""
            },
            "colorscale": [
             [
              0,
              "#0d0887"
             ],
             [
              0.1111111111111111,
              "#46039f"
             ],
             [
              0.2222222222222222,
              "#7201a8"
             ],
             [
              0.3333333333333333,
              "#9c179e"
             ],
             [
              0.4444444444444444,
              "#bd3786"
             ],
             [
              0.5555555555555556,
              "#d8576b"
             ],
             [
              0.6666666666666666,
              "#ed7953"
             ],
             [
              0.7777777777777778,
              "#fb9f3a"
             ],
             [
              0.8888888888888888,
              "#fdca26"
             ],
             [
              1,
              "#f0f921"
             ]
            ],
            "type": "heatmap"
           }
          ],
          "heatmapgl": [
           {
            "colorbar": {
             "outlinewidth": 0,
             "ticks": ""
            },
            "colorscale": [
             [
              0,
              "#0d0887"
             ],
             [
              0.1111111111111111,
              "#46039f"
             ],
             [
              0.2222222222222222,
              "#7201a8"
             ],
             [
              0.3333333333333333,
              "#9c179e"
             ],
             [
              0.4444444444444444,
              "#bd3786"
             ],
             [
              0.5555555555555556,
              "#d8576b"
             ],
             [
              0.6666666666666666,
              "#ed7953"
             ],
             [
              0.7777777777777778,
              "#fb9f3a"
             ],
             [
              0.8888888888888888,
              "#fdca26"
             ],
             [
              1,
              "#f0f921"
             ]
            ],
            "type": "heatmapgl"
           }
          ],
          "histogram": [
           {
            "marker": {
             "pattern": {
              "fillmode": "overlay",
              "size": 10,
              "solidity": 0.2
             }
            },
            "type": "histogram"
           }
          ],
          "histogram2d": [
           {
            "colorbar": {
             "outlinewidth": 0,
             "ticks": ""
            },
            "colorscale": [
             [
              0,
              "#0d0887"
             ],
             [
              0.1111111111111111,
              "#46039f"
             ],
             [
              0.2222222222222222,
              "#7201a8"
             ],
             [
              0.3333333333333333,
              "#9c179e"
             ],
             [
              0.4444444444444444,
              "#bd3786"
             ],
             [
              0.5555555555555556,
              "#d8576b"
             ],
             [
              0.6666666666666666,
              "#ed7953"
             ],
             [
              0.7777777777777778,
              "#fb9f3a"
             ],
             [
              0.8888888888888888,
              "#fdca26"
             ],
             [
              1,
              "#f0f921"
             ]
            ],
            "type": "histogram2d"
           }
          ],
          "histogram2dcontour": [
           {
            "colorbar": {
             "outlinewidth": 0,
             "ticks": ""
            },
            "colorscale": [
             [
              0,
              "#0d0887"
             ],
             [
              0.1111111111111111,
              "#46039f"
             ],
             [
              0.2222222222222222,
              "#7201a8"
             ],
             [
              0.3333333333333333,
              "#9c179e"
             ],
             [
              0.4444444444444444,
              "#bd3786"
             ],
             [
              0.5555555555555556,
              "#d8576b"
             ],
             [
              0.6666666666666666,
              "#ed7953"
             ],
             [
              0.7777777777777778,
              "#fb9f3a"
             ],
             [
              0.8888888888888888,
              "#fdca26"
             ],
             [
              1,
              "#f0f921"
             ]
            ],
            "type": "histogram2dcontour"
           }
          ],
          "mesh3d": [
           {
            "colorbar": {
             "outlinewidth": 0,
             "ticks": ""
            },
            "type": "mesh3d"
           }
          ],
          "parcoords": [
           {
            "line": {
             "colorbar": {
              "outlinewidth": 0,
              "ticks": ""
             }
            },
            "type": "parcoords"
           }
          ],
          "pie": [
           {
            "automargin": true,
            "type": "pie"
           }
          ],
          "scatter": [
           {
            "fillpattern": {
             "fillmode": "overlay",
             "size": 10,
             "solidity": 0.2
            },
            "type": "scatter"
           }
          ],
          "scatter3d": [
           {
            "line": {
             "colorbar": {
              "outlinewidth": 0,
              "ticks": ""
             }
            },
            "marker": {
             "colorbar": {
              "outlinewidth": 0,
              "ticks": ""
             }
            },
            "type": "scatter3d"
           }
          ],
          "scattercarpet": [
           {
            "marker": {
             "colorbar": {
              "outlinewidth": 0,
              "ticks": ""
             }
            },
            "type": "scattercarpet"
           }
          ],
          "scattergeo": [
           {
            "marker": {
             "colorbar": {
              "outlinewidth": 0,
              "ticks": ""
             }
            },
            "type": "scattergeo"
           }
          ],
          "scattergl": [
           {
            "marker": {
             "colorbar": {
              "outlinewidth": 0,
              "ticks": ""
             }
            },
            "type": "scattergl"
           }
          ],
          "scattermapbox": [
           {
            "marker": {
             "colorbar": {
              "outlinewidth": 0,
              "ticks": ""
             }
            },
            "type": "scattermapbox"
           }
          ],
          "scatterpolar": [
           {
            "marker": {
             "colorbar": {
              "outlinewidth": 0,
              "ticks": ""
             }
            },
            "type": "scatterpolar"
           }
          ],
          "scatterpolargl": [
           {
            "marker": {
             "colorbar": {
              "outlinewidth": 0,
              "ticks": ""
             }
            },
            "type": "scatterpolargl"
           }
          ],
          "scatterternary": [
           {
            "marker": {
             "colorbar": {
              "outlinewidth": 0,
              "ticks": ""
             }
            },
            "type": "scatterternary"
           }
          ],
          "surface": [
           {
            "colorbar": {
             "outlinewidth": 0,
             "ticks": ""
            },
            "colorscale": [
             [
              0,
              "#0d0887"
             ],
             [
              0.1111111111111111,
              "#46039f"
             ],
             [
              0.2222222222222222,
              "#7201a8"
             ],
             [
              0.3333333333333333,
              "#9c179e"
             ],
             [
              0.4444444444444444,
              "#bd3786"
             ],
             [
              0.5555555555555556,
              "#d8576b"
             ],
             [
              0.6666666666666666,
              "#ed7953"
             ],
             [
              0.7777777777777778,
              "#fb9f3a"
             ],
             [
              0.8888888888888888,
              "#fdca26"
             ],
             [
              1,
              "#f0f921"
             ]
            ],
            "type": "surface"
           }
          ],
          "table": [
           {
            "cells": {
             "fill": {
              "color": "#EBF0F8"
             },
             "line": {
              "color": "white"
             }
            },
            "header": {
             "fill": {
              "color": "#C8D4E3"
             },
             "line": {
              "color": "white"
             }
            },
            "type": "table"
           }
          ]
         },
         "layout": {
          "annotationdefaults": {
           "arrowcolor": "#2a3f5f",
           "arrowhead": 0,
           "arrowwidth": 1
          },
          "autotypenumbers": "strict",
          "coloraxis": {
           "colorbar": {
            "outlinewidth": 0,
            "ticks": ""
           }
          },
          "colorscale": {
           "diverging": [
            [
             0,
             "#8e0152"
            ],
            [
             0.1,
             "#c51b7d"
            ],
            [
             0.2,
             "#de77ae"
            ],
            [
             0.3,
             "#f1b6da"
            ],
            [
             0.4,
             "#fde0ef"
            ],
            [
             0.5,
             "#f7f7f7"
            ],
            [
             0.6,
             "#e6f5d0"
            ],
            [
             0.7,
             "#b8e186"
            ],
            [
             0.8,
             "#7fbc41"
            ],
            [
             0.9,
             "#4d9221"
            ],
            [
             1,
             "#276419"
            ]
           ],
           "sequential": [
            [
             0,
             "#0d0887"
            ],
            [
             0.1111111111111111,
             "#46039f"
            ],
            [
             0.2222222222222222,
             "#7201a8"
            ],
            [
             0.3333333333333333,
             "#9c179e"
            ],
            [
             0.4444444444444444,
             "#bd3786"
            ],
            [
             0.5555555555555556,
             "#d8576b"
            ],
            [
             0.6666666666666666,
             "#ed7953"
            ],
            [
             0.7777777777777778,
             "#fb9f3a"
            ],
            [
             0.8888888888888888,
             "#fdca26"
            ],
            [
             1,
             "#f0f921"
            ]
           ],
           "sequentialminus": [
            [
             0,
             "#0d0887"
            ],
            [
             0.1111111111111111,
             "#46039f"
            ],
            [
             0.2222222222222222,
             "#7201a8"
            ],
            [
             0.3333333333333333,
             "#9c179e"
            ],
            [
             0.4444444444444444,
             "#bd3786"
            ],
            [
             0.5555555555555556,
             "#d8576b"
            ],
            [
             0.6666666666666666,
             "#ed7953"
            ],
            [
             0.7777777777777778,
             "#fb9f3a"
            ],
            [
             0.8888888888888888,
             "#fdca26"
            ],
            [
             1,
             "#f0f921"
            ]
           ]
          },
          "colorway": [
           "#636efa",
           "#EF553B",
           "#00cc96",
           "#ab63fa",
           "#FFA15A",
           "#19d3f3",
           "#FF6692",
           "#B6E880",
           "#FF97FF",
           "#FECB52"
          ],
          "font": {
           "color": "#2a3f5f"
          },
          "geo": {
           "bgcolor": "white",
           "lakecolor": "white",
           "landcolor": "#E5ECF6",
           "showlakes": true,
           "showland": true,
           "subunitcolor": "white"
          },
          "hoverlabel": {
           "align": "left"
          },
          "hovermode": "closest",
          "mapbox": {
           "style": "light"
          },
          "paper_bgcolor": "white",
          "plot_bgcolor": "#E5ECF6",
          "polar": {
           "angularaxis": {
            "gridcolor": "white",
            "linecolor": "white",
            "ticks": ""
           },
           "bgcolor": "#E5ECF6",
           "radialaxis": {
            "gridcolor": "white",
            "linecolor": "white",
            "ticks": ""
           }
          },
          "scene": {
           "xaxis": {
            "backgroundcolor": "#E5ECF6",
            "gridcolor": "white",
            "gridwidth": 2,
            "linecolor": "white",
            "showbackground": true,
            "ticks": "",
            "zerolinecolor": "white"
           },
           "yaxis": {
            "backgroundcolor": "#E5ECF6",
            "gridcolor": "white",
            "gridwidth": 2,
            "linecolor": "white",
            "showbackground": true,
            "ticks": "",
            "zerolinecolor": "white"
           },
           "zaxis": {
            "backgroundcolor": "#E5ECF6",
            "gridcolor": "white",
            "gridwidth": 2,
            "linecolor": "white",
            "showbackground": true,
            "ticks": "",
            "zerolinecolor": "white"
           }
          },
          "shapedefaults": {
           "line": {
            "color": "#2a3f5f"
           }
          },
          "ternary": {
           "aaxis": {
            "gridcolor": "white",
            "linecolor": "white",
            "ticks": ""
           },
           "baxis": {
            "gridcolor": "white",
            "linecolor": "white",
            "ticks": ""
           },
           "bgcolor": "#E5ECF6",
           "caxis": {
            "gridcolor": "white",
            "linecolor": "white",
            "ticks": ""
           }
          },
          "title": {
           "x": 0.05
          },
          "xaxis": {
           "automargin": true,
           "gridcolor": "white",
           "linecolor": "white",
           "ticks": "",
           "title": {
            "standoff": 15
           },
           "zerolinecolor": "white",
           "zerolinewidth": 2
          },
          "yaxis": {
           "automargin": true,
           "gridcolor": "white",
           "linecolor": "white",
           "ticks": "",
           "title": {
            "standoff": 15
           },
           "zerolinecolor": "white",
           "zerolinewidth": 2
          }
         }
        },
        "title": {
         "text": "Batch size"
        }
       }
      }
     },
     "metadata": {},
     "output_type": "display_data"
    }
   ],
   "source": [
    "\n",
    "fig = add_curve(json_file = \"models/bidirectional_model_training_history.json\", name = \"Batch 64\", color = \"green\", title = \"Batch size\")\n",
    "fig = add_curve(json_file = \"models/batch128_training_history.json\", name = \"Batch 128\", color = \"orange\", fig = fig)\n",
    "fig = add_curve(json_file = \"models/batch256_training_history.json\", name = \"Batch 256\", color = \"blue\", fig = fig)\n",
    "fig = add_curve(json_file = \"models/batch32_training_history.json\", name = \"Batch 32\", color = \"red\", fig = fig)\n",
    "fig.show()"
   ]
  },
  {
   "cell_type": "markdown",
   "metadata": {},
   "source": [
    "| **Batch size** | **Acccuracy** | **Loss** |\n",
    "|:--------------:|:-------------:|:--------:|\n",
    "|       32       |     0.9187    |  0.2629  |\n",
    "|       64       |     0.9218    |  0.2576  |\n",
    "|       128      |     0.9185    |  0.2738  |\n",
    "|       256      |     0.9200    |  0.2744  |"
   ]
  }
 ],
 "metadata": {
  "kernelspec": {
   "display_name": "nlu",
   "language": "python",
   "name": "python3"
  },
  "language_info": {
   "codemirror_mode": {
    "name": "ipython",
    "version": 3
   },
   "file_extension": ".py",
   "mimetype": "text/x-python",
   "name": "python",
   "nbconvert_exporter": "python",
   "pygments_lexer": "ipython3",
   "version": "3.11.10"
  }
 },
 "nbformat": 4,
 "nbformat_minor": 2
}
