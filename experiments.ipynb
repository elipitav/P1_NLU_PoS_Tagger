{
 "cells": [
  {
   "cell_type": "markdown",
   "metadata": {},
   "source": [
    "# Notebook para fozar\n"
   ]
  },
  {
   "cell_type": "code",
   "execution_count": 71,
   "metadata": {},
   "outputs": [
    {
     "data": {
      "text/plain": [
       "[TokenList<From, the, AP, comes, this, story, :, metadata={newdoc id: \"weblog-blogspot.com_nominations_20041117172713_ENG_20041117_172713\", sent_id: \"weblog-blogspot.com_nominations_20041117172713_ENG_20041117_172713-0001\", newpar id: \"weblog-blogspot.com_nominations_20041117172713_ENG_20041117_172713-p0001\", text: \"From the AP comes this story :\"}>, TokenList<President, Bush, on, Tuesday, nominated, two, individuals, to, replace, retiring, jurists, on, federal, courts, in, the, Washington, area, ., metadata={sent_id: \"weblog-blogspot.com_nominations_20041117172713_ENG_20041117_172713-0002\", newpar id: \"weblog-blogspot.com_nominations_20041117172713_ENG_20041117_172713-p0002\", text: \"President Bush on Tuesday nominated two individuals to replace retiring jurists on federal courts in the Washington area.\"}>]"
      ]
     },
     "execution_count": 71,
     "metadata": {},
     "output_type": "execute_result"
    }
   ],
   "source": [
    "from conllu import parse\n",
    "\n",
    "filename = \"data/english/en_ewt-ud-dev.conllu\"\n",
    "\n",
    "\n",
    "def get_fields(line):\n",
    "    words = line.split(\"\\t\")\n",
    "    if len(words) < 4:\n",
    "        return None\n",
    "    return words[1], words[3], line\n",
    "\n",
    "\n",
    "with open(filename, \"r\", encoding=\"utf-8\") as file:\n",
    "    sentences = parse(file.read())\n",
    "\n",
    "sentences[:2]"
   ]
  },
  {
   "cell_type": "code",
   "execution_count": 76,
   "metadata": {},
   "outputs": [
    {
     "name": "stdout",
     "output_type": "stream",
     "text": [
      "Sentences: ['From the AP comes this story :', 'President Bush on Tuesday nominated two individuals to replace retiring jurists on federal courts in the Washington area .', 'Bush nominated Jennifer M. Anderson for a 15 - year term as associate judge of the Superior Court of the District of Columbia , replacing Steffen W. Graae .', '***', 'Bush also nominated A. Noel Anketell Kramer for a 15 - year term as associate judge of the District of Columbia Court of Appeals , replacing John Montague Steadman .']\n",
      "Class labels: [['ADP', 'DET', 'PROPN', 'VERB', 'DET', 'NOUN', 'PUNCT'], ['PROPN', 'PROPN', 'ADP', 'PROPN', 'VERB', 'NUM', 'NOUN', 'PART', 'VERB', 'VERB', 'NOUN', 'ADP', 'ADJ', 'NOUN', 'ADP', 'DET', 'PROPN', 'NOUN', 'PUNCT'], ['PROPN', 'VERB', 'PROPN', 'PROPN', 'PROPN', 'ADP', 'DET', 'NUM', 'PUNCT', 'NOUN', 'NOUN', 'ADP', 'ADJ', 'NOUN', 'ADP', 'DET', 'ADJ', 'PROPN', 'ADP', 'DET', 'PROPN', 'ADP', 'PROPN', 'PUNCT', 'VERB', 'PROPN', 'PROPN', 'PROPN', 'PUNCT'], ['PUNCT'], ['PROPN', 'ADV', 'VERB', 'PROPN', 'PROPN', 'PROPN', 'PROPN', 'ADP', 'DET', 'NUM', 'PUNCT', 'NOUN', 'NOUN', 'ADP', 'ADJ', 'NOUN', 'ADP', 'DET', 'PROPN', 'ADP', 'PROPN', 'PROPN', 'ADP', 'PROPN', 'PUNCT', 'VERB', 'PROPN', 'PROPN', 'PROPN', 'PUNCT']]\n"
     ]
    }
   ],
   "source": [
    "X_data = []\n",
    "y_data = []\n",
    "\n",
    "for sentence in sentences:\n",
    "    parsed_sentence = []\n",
    "    sentence_labels = []\n",
    "    for token in sentence:\n",
    "        if type(token[\"id\"]) == int:\n",
    "            parsed_sentence.append(token[\"form\"])\n",
    "            sentence_labels.append(token[\"upostag\"])\n",
    "    X_data.append(\" \".join(parsed_sentence))\n",
    "    y_data.append(sentence_labels)\n",
    "\n",
    "\n",
    "print(f\"Sentences: {X_data[:5]}\")\n",
    "print(f\"Class labels: {y_data[:5]}\")"
   ]
  }
 ],
 "metadata": {
  "kernelspec": {
   "display_name": "nlu_venv",
   "language": "python",
   "name": "python3"
  },
  "language_info": {
   "codemirror_mode": {
    "name": "ipython",
    "version": 3
   },
   "file_extension": ".py",
   "mimetype": "text/x-python",
   "name": "python",
   "nbconvert_exporter": "python",
   "pygments_lexer": "ipython3",
   "version": "3.10.8"
  }
 },
 "nbformat": 4,
 "nbformat_minor": 2
}
