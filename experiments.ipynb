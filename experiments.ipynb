{
 "cells": [
  {
   "cell_type": "markdown",
   "metadata": {},
   "source": [
    "# POS Tagging with LSTM\n",
    "\n",
    "We use the dataset from the [UD English EWT](https://github.com/UniversalDependencies/UD_English-EWT) to train a POS tagger with an LSTM model in English.\n"
   ]
  },
  {
   "cell_type": "markdown",
   "metadata": {},
   "source": [
    "## Data Preparation\n",
    "\n",
    "First, we load the three datasets: train, validation, and test. We use the `conllu` library to parse the datasets.\n"
   ]
  },
  {
   "cell_type": "code",
   "execution_count": 1,
   "metadata": {},
   "outputs": [
    {
     "data": {
      "text/plain": [
       "[TokenList<Al, -, Zaman, :, American, forces, killed, Shaikh, Abdullah, al, -, Ani, ,, the, preacher, at, the, mosque, in, the, town, of, Qaim, ,, near, the, Syrian, border, ., metadata={newdoc id: \"weblog-juancole.com_juancole_20051126063000_ENG_20051126_063000\", sent_id: \"weblog-juancole.com_juancole_20051126063000_ENG_20051126_063000-0001\", newpar id: \"weblog-juancole.com_juancole_20051126063000_ENG_20051126_063000-p0001\", text: \"Al-Zaman : American forces killed Shaikh Abdullah al-Ani, the preacher at the mosque in the town of Qaim, near the Syrian border.\"}>, TokenList<[, This, killing, of, a, respected, cleric, will, be, causing, us, trouble, for, years, to, come, ., ], metadata={sent_id: \"weblog-juancole.com_juancole_20051126063000_ENG_20051126_063000-0002\", text: \"[This killing of a respected cleric will be causing us trouble for years to come.]\"}>]"
      ]
     },
     "execution_count": 1,
     "metadata": {},
     "output_type": "execute_result"
    }
   ],
   "source": [
    "from conllu import parse\n",
    "\n",
    "train_filename = \"data/english/en_ewt-ud-train.conllu\"\n",
    "test_filename = \"data/english/en_ewt-ud-test.conllu\"\n",
    "val_filename = \"data/english/en_ewt-ud-dev.conllu\"\n",
    "\n",
    "\n",
    "def get_fields(line):\n",
    "    words = line.split(\"\\t\")\n",
    "    if len(words) < 4:\n",
    "        return None\n",
    "    return words[1], words[3], line\n",
    "\n",
    "\n",
    "with open(train_filename, \"r\", encoding=\"utf-8\") as file:\n",
    "    train_sentences = parse(file.read())\n",
    "with open(test_filename, \"r\", encoding=\"utf-8\") as file:\n",
    "    test_sentences = parse(file.read())\n",
    "with open(val_filename, \"r\", encoding=\"utf-8\") as file:\n",
    "    val_sentences = parse(file.read())\n",
    "\n",
    "# See the first two sentences as a token list with metadata\n",
    "train_sentences[:2]"
   ]
  },
  {
   "cell_type": "markdown",
   "metadata": {},
   "source": [
    "We preprocess all the datasets by getting only the words and the POS tags. We put all the sentences in a list and all the POS tags in another list of lists. By doing this, we build the 3 datasets to work with the LSTM model.\n"
   ]
  },
  {
   "cell_type": "code",
   "execution_count": 2,
   "metadata": {},
   "outputs": [
    {
     "name": "stdout",
     "output_type": "stream",
     "text": [
      "Sentences: The MoI in Iraq is equivalent to the US FBI , so this would be like having J. Edgar Hoover unwittingly employ at a high level members of the Weathermen bombers back in the 1960s .\n",
      "Class labels: ['DET', 'PROPN', 'ADP', 'PROPN', 'AUX', 'ADJ', 'ADP', 'DET', 'PROPN', 'PROPN', 'PUNCT', 'ADV', 'PRON', 'AUX', 'AUX', 'SCONJ', 'VERB', 'PROPN', 'PROPN', 'PROPN', 'ADV', 'VERB', 'ADP', 'DET', 'ADJ', 'NOUN', 'NOUN', 'ADP', 'DET', 'PROPN', 'NOUN', 'ADV', 'ADP', 'DET', 'NOUN', 'PUNCT']\n"
     ]
    }
   ],
   "source": [
    "def preprocess_sentences(sentences):\n",
    "    X_data = []\n",
    "    y_data = []\n",
    "    for sentence in sentences:\n",
    "        parsed_sentence = []\n",
    "        sentence_labels = []\n",
    "        for token in sentence:\n",
    "            if type(token[\"id\"]) == int:\n",
    "                parsed_sentence.append(token[\"form\"])\n",
    "                sentence_labels.append(token[\"upostag\"])\n",
    "        X_data.append(\" \".join(parsed_sentence))\n",
    "        y_data.append(sentence_labels)\n",
    "\n",
    "    return X_data, y_data\n",
    "\n",
    "\n",
    "X_train, y_train = preprocess_sentences(train_sentences)\n",
    "X_test, y_test = preprocess_sentences(test_sentences)\n",
    "X_val, y_val = preprocess_sentences(val_sentences)\n",
    "\n",
    "print(f\"Sentences: {X_train[4]}\")\n",
    "print(f\"Class labels: {y_train[4]}\")"
   ]
  },
  {
   "cell_type": "markdown",
   "metadata": {},
   "source": [
    "### Data Exploration\n",
    "\n",
    "We need to make some decisions regarding the model's parameters. For example, we should define the maximum sentence length in the dataset and the size of the vocabulary. Below, we present some statistics about the dataset. It is important to note that this analysis is based solely on the training dataset, as we should not use the validation or test sets for this purpose. Using information from those sets to inform model design could lead to biased results.\n",
    "\n",
    "#### Maximum Sentence Length\n",
    "\n",
    "First, we calculate the number of classes and order it by alphabetical order. We obtain 17 different classes (as we expected, because we are following the [Universal POS tags](https://universaldependencies.org/u/pos/index.html) standard). Also, we build a python dictionary to map the POS tags to integers. This dictionary will be used to convert the POS tags to integers and vice versa.\n"
   ]
  },
  {
   "cell_type": "code",
   "execution_count": 3,
   "metadata": {},
   "outputs": [
    {
     "name": "stdout",
     "output_type": "stream",
     "text": [
      "Number of classes: 17\n",
      "Class names: ['ADJ', 'ADP', 'ADV', 'AUX', 'CCONJ', 'DET', 'INTJ', 'NOUN', 'NUM', 'PART', 'PRON', 'PROPN', 'PUNCT', 'SCONJ', 'SYM', 'VERB', 'X']\n",
      "Class number for \"ADJ\": 0\n"
     ]
    }
   ],
   "source": [
    "# Flatten y_data and convert to a set to get unique labels\n",
    "class_names = sorted(list({label for sublist in y_train for label in sublist}))\n",
    "num_classes = len(class_names)\n",
    "print(f\"Number of classes: {num_classes}\")\n",
    "print(f\"Class names: {class_names}\")\n",
    "\n",
    "# Create a dictionary mapping class names to class numbers (classes are ordered alphabetically)\n",
    "classes = dict(zip(class_names, range(num_classes)))\n",
    "# For example, class 0 is \"ADJ\"\n",
    "print(f\"Class number for \\\"ADJ\\\": {classes['ADJ']}\")"
   ]
  },
  {
   "cell_type": "markdown",
   "metadata": {},
   "source": [
    "We should make a decission about the maximum length of the sentences. We observe that the average length of the sentences is aproximately 16 words and the standard deviation is 12.4. Also, we observe that there are not a lot of sentences with more than 100 words (only 0.04% of the sentences).\n"
   ]
  },
  {
   "cell_type": "code",
   "execution_count": 4,
   "metadata": {},
   "outputs": [
    {
     "name": "stdout",
     "output_type": "stream",
     "text": [
      "Max sentence length: 159\n",
      "Mean sentence length: 16.31\n",
      "Standard deviation of sentence length: 12.4\n"
     ]
    },
    {
     "data": {
      "image/png": "[encoded data removed]",
      "text/plain": [
       "<Figure size 640x480 with 1 Axes>"
      ]
     },
     "metadata": {},
     "output_type": "display_data"
    }
   ],
   "source": [
    "import numpy as np\n",
    "import matplotlib.pyplot as plt\n",
    "\n",
    "# Calculate the maximum length of the sentences\n",
    "sentence_num_words = [len(sentence.split()) for sentence in X_train]\n",
    "max_len = max(sentence_num_words)\n",
    "print(f\"Max sentence length: {round(max_len, 2)}\")\n",
    "\n",
    "mean_len = np.mean(sentence_num_words)\n",
    "std_len = np.std(sentence_num_words)\n",
    "print(f\"Mean sentence length: {round(mean_len, 2)}\")\n",
    "print(f\"Standard deviation of sentence length: {round(std_len, 2)}\")\n",
    "\n",
    "# Build an histogram of the number of words in the sentences\n",
    "plt.hist(sentence_num_words, bins=50)\n",
    "plt.xlabel(\"Sentence length\")\n",
    "plt.ylabel(\"Frequency\")\n",
    "plt.title(\"Sentence length histogram\")\n",
    "plt.show()"
   ]
  },
  {
   "cell_type": "code",
   "execution_count": 5,
   "metadata": {},
   "outputs": [
    {
     "name": "stdout",
     "output_type": "stream",
     "text": [
      "Number of sentences over 100 words: 5\n",
      "Percentage of sentences over 100 words: 0.04%\n",
      "\n",
      "Sentence 6090 has more than 100 words (102). Sentence: \"That is what is about to happen with Judge Samuel Alito , in my opinion , because he has one tragic flaw - a very serious blind spot in his thinking - which makes him completely unacceptable for the position of Supreme Court Justice : He does not really agree with the system of \" Checks and Balances \" built into the Constitution , and he is ready to start tearing it down in order to follow the \" Unitary Executive Theory , \" which calls for vastly - increased Presidential Power at the expense of Congress and the Supreme Court .\"\n",
      "Sentence 6470 has more than 100 words (104). Sentence: \"\" I do not feel it has changed the US citizens which is what was needed , even now the majority want \" Gas \" despite the fact they are polluting the world more than any other country in the world and refuse to stop , perhaps this natural disaster , which let 's face it looks like a product of Global Warming , will change their views , why not pick things up with your hands and walk with your legs , other people in the world do it , \" Gas \" is not the be all and end all ! \"\"\n",
      "Sentence 6724 has more than 100 words (102). Sentence: \"<< \" I have told you , friend , \" said the curate , \" that this is done to divert our idle thoughts ; and as in well - ordered states games of CHESS , fives , and billiards are allowed for the diversion of those who do not care , or are not obliged , or are unable to work , so books of this kind are allowed to be printed , on the supposition that , what indeed is the truth , there can be nobody so ignorant as to take any of them for true stories ; >>\"\n",
      "Sentence 6779 has more than 100 words (159). Sentence: \"Antichrist John Lennon wanted to compete with Jesus Christ , and so he grew a beard and started to make a bogus role of Christ together with Yoko Ono at the Amsterdam Hilton hotel proclaiming \" Peace \" , being then when he was visited by the Canadian journalist who ridiculized and admonished him wanting to know about what Lennon meant when he wrote in the lyrics of \" The ballad of John and Yoko \" : \" the way things are going , they 're going to crucify me ... \" , The CURSE OF GOD upon John Lennon carried on with all type of miseries and distresses which made Lennon give the interview to the \" Rolling Stone \" magazine ( today condensed in the \" Lennon remembers \" book ) where he speaks about how bad thing were going for him blaming \" whatever is up there \" for it ( referring to God ) .\"\n",
      "Sentence 7506 has more than 100 words (135). Sentence: \"my name is Josalyn Leainne Creek and i 'm 19 years old and i graduated from high in May adn of this year and i love animals and i 'm great at working and i had drama in my last job which was mcallister 's deli and i ', a mormon and i hvae changed to be a better person that pwople are wanting to hirier and i 'm willing to work whenever you need me but i go to church on every sunday and i have a doctor 's appointment this thursday at 2;30 and i hope you h=guys hirier me because i work very hard and i do nt care about how much you guys pay and i 've been looking for a job ever since i have graduated and i hate drama\"\n"
     ]
    }
   ],
   "source": [
    "max_sentence_num_words = 100\n",
    "sentences_over_max_length = [i for i, num_words in enumerate(sentence_num_words) if num_words > max_sentence_num_words]\n",
    "print(f\"Number of sentences over {max_sentence_num_words} words: {len(sentences_over_max_length)}\")\n",
    "print(\n",
    "    f\"Percentage of sentences over {max_sentence_num_words} words: {len(sentences_over_max_length) / len(X_train) * 100:.2f}%\\n\"\n",
    ")\n",
    "\n",
    "for i in sentences_over_max_length:\n",
    "    print(\n",
    "        f'Sentence {i} has more than {max_sentence_num_words} words ({sentence_num_words[i]}). Sentence: \"{X_train[i]}\"'\n",
    "    )"
   ]
  },
  {
   "cell_type": "markdown",
   "metadata": {},
   "source": [
    "As there are only few sentences with more than 100 words, we decide to set the maximum length of the sentences to 100. We will pad the sentences with zeros if they are shorter than 100 words and we will truncate them if they are longer than 100 words. To truncate them we have to options:\n",
    "\n",
    "- Truncate the sentences from the end of the sentence.\n",
    "- Locate the last punctuation mark before the token 100 and truncate the sentence from there.\n"
   ]
  },
  {
   "cell_type": "code",
   "execution_count": 6,
   "metadata": {},
   "outputs": [
    {
     "name": "stdout",
     "output_type": "stream",
     "text": [
      "Last punctuation mark in sentence 6090: 88\n",
      "Last punctuation mark in sentence 6470: 93\n",
      "Last punctuation mark in sentence 6724: 84\n",
      "Last punctuation mark in sentence 6779: 92\n",
      "Last punctuation mark in sentence 7506: -1\n"
     ]
    }
   ],
   "source": [
    "def locate_last_punctuation_mark(sentences_class_labels, limit=None):\n",
    "    if limit is not None:\n",
    "        sentences_class_labels = sentences_class_labels[:limit]\n",
    "    for i, label in enumerate(reversed(sentences_class_labels)):\n",
    "        if label == \"PUNCT\":\n",
    "            return len(sentences_class_labels) - i - 1\n",
    "    return -1\n",
    "\n",
    "\n",
    "for i in sentences_over_max_length:\n",
    "    print(f\"Last punctuation mark in sentence {i}: {locate_last_punctuation_mark(y_train[i], limit=100)}\")"
   ]
  },
  {
   "cell_type": "markdown",
   "metadata": {},
   "source": [
    "As not all the sentences that overlap the 100 words limit have a punctuation mark at the 100th token, we decide to truncate the sentences from the last punctuation mark before the 100th token, in case there is one. If there is no punctuation mark before the 100th token, we truncate the sentence from the 100th token.\n"
   ]
  },
  {
   "cell_type": "code",
   "execution_count": 7,
   "metadata": {},
   "outputs": [
    {
     "name": "stdout",
     "output_type": "stream",
     "text": [
      "Lenght of truncated sentence 6090: 89\n",
      "Lenght of truncated sentence 6470: 94\n",
      "Lenght of truncated sentence 6724: 85\n",
      "Lenght of truncated sentence 6779: 93\n",
      "Lenght of truncated sentence 7506: 100\n"
     ]
    }
   ],
   "source": [
    "def truncate_sentence(sentence, sentence_class_labels, max_sentence_length=100):\n",
    "    last_punctuation_mark = locate_last_punctuation_mark(sentence_class_labels, limit=max_sentence_length)\n",
    "    sentence = sentence.split()[:max_sentence_length]\n",
    "    sentence_class_labels = sentence_class_labels[:max_sentence_length]\n",
    "    if last_punctuation_mark != -1:\n",
    "        sentence = sentence[: last_punctuation_mark + 1]\n",
    "        sentence_class_labels = sentence_class_labels[: last_punctuation_mark + 1]\n",
    "    return \" \".join(sentence), sentence_class_labels\n",
    "\n",
    "\n",
    "for i in sentences_over_max_length:\n",
    "    X_train[i], y_train[i] = truncate_sentence(X_train[i], y_train[i], max_sentence_length=max_sentence_num_words)\n",
    "    print(f\"Lenght of truncated sentence {i}: {len(X_train[i].split())}\")"
   ]
  },
  {
   "cell_type": "markdown",
   "metadata": {},
   "source": [
    "We have to do the same with validation and test datasets. We will use the same maximum length for all the datasets.\n"
   ]
  },
  {
   "cell_type": "code",
   "execution_count": 8,
   "metadata": {},
   "outputs": [
    {
     "name": "stdout",
     "output_type": "stream",
     "text": [
      "Number of sentences over 100 words in the validation set: 0\n",
      "Number of sentences over 100 words in the validation set: 0\n"
     ]
    }
   ],
   "source": [
    "sentences_over_max_length_val = [\n",
    "    i for i, sentence in enumerate(X_val) if len(sentence.split()) > max_sentence_num_words\n",
    "]\n",
    "print(\n",
    "    f\"Number of sentences over {max_sentence_num_words} words in the validation set: {len(sentences_over_max_length_val)}\"\n",
    ")\n",
    "\n",
    "sentences_over_max_length_test = [\n",
    "    i for i, sentence in enumerate(X_test) if len(sentence.split()) > max_sentence_num_words\n",
    "]\n",
    "\n",
    "print(\n",
    "    f\"Number of sentences over {max_sentence_num_words} words in the validation set: {len(sentences_over_max_length_val)}\"\n",
    ")"
   ]
  },
  {
   "cell_type": "code",
   "execution_count": 9,
   "metadata": {},
   "outputs": [],
   "source": [
    "def adjust_sentences_length(X_data, y_data, max_sentence_length=100):\n",
    "    for i in range(len(X_data)):\n",
    "        if len(X_data[i].split()) > max_sentence_length:\n",
    "            X_data[i], y_data[i] = truncate_sentence(X_data[i], y_data[i], max_sentence_length=max_sentence_length)\n",
    "    return\n",
    "\n",
    "\n",
    "adjust_sentences_length(X_train, y_train, max_sentence_length=max_sentence_num_words)\n",
    "adjust_sentences_length(X_test, y_test, max_sentence_length=max_sentence_num_words)\n",
    "adjust_sentences_length(X_val, y_val, max_sentence_length=max_sentence_num_words)"
   ]
  },
  {
   "cell_type": "markdown",
   "metadata": {},
   "source": [
    "Vexo que os signos de puntuacion non son puntos que rematan frases, deberíamos comprobar isto. Non creo que sexa un problema nin lle preste atencion Catala ao avaliar isto.\n"
   ]
  },
  {
   "cell_type": "code",
   "execution_count": 10,
   "metadata": {},
   "outputs": [
    {
     "name": "stdout",
     "output_type": "stream",
     "text": [
      "Last punctuation mark in sentence 6090: -\n",
      "Last punctuation mark in sentence 6470: \"\n",
      "Last punctuation mark in sentence 6724: ,\n",
      "Last punctuation mark in sentence 6779: ,\n"
     ]
    }
   ],
   "source": [
    "for i in sentences_over_max_length:\n",
    "    index_last_punctuation_mark = locate_last_punctuation_mark(y_train[i], limit=None)\n",
    "    if index_last_punctuation_mark != -1:\n",
    "        print(f\"Last punctuation mark in sentence {i}: {X_train[i].split()[index_last_punctuation_mark]}\")"
   ]
  },
  {
   "cell_type": "markdown",
   "metadata": {},
   "source": [
    "#### Vocabulary Size\n"
   ]
  },
  {
   "cell_type": "markdown",
   "metadata": {},
   "source": [
    "We calculated the number of unique words in the training and test sets, which are 19,674 and 5,629, respectively. Notably, many words present in the training set do not appear in the test set. This suggests that it may not be necessary to include all the words from the training set in the vocabulary, as this likely won't impact the model's performance. To determine the optimal vocabulary size, we also analyzed the frequency distribution of words in the training set. We found that only 9,868 words appear more than once in the training set, while the remaining 9,806 words appear only once. This suggests that we could set the vocabulary size to 10,000 without losing much information.\n"
   ]
  },
  {
   "cell_type": "code",
   "execution_count": 11,
   "metadata": {},
   "outputs": [
    {
     "name": "stdout",
     "output_type": "stream",
     "text": [
      "Number of unique tokens: 19671\n",
      "Number of unique tokens: 5629\n"
     ]
    }
   ],
   "source": [
    "X_plain_train = {token for sentence in X_train for token in sentence.split()}\n",
    "print(f\"Number of unique tokens: {len(X_plain_train)}\")\n",
    "\n",
    "X_plain_test = {token for sentence in X_test for token in sentence.split()}\n",
    "print(f\"Number of unique tokens: {len(X_plain_test)}\")"
   ]
  },
  {
   "cell_type": "code",
   "execution_count": 12,
   "metadata": {},
   "outputs": [
    {
     "name": "stdout",
     "output_type": "stream",
     "text": [
      "Number of words with more than 1 occurrence: 9868\n",
      "Number of words with more than 2 occurrences: 6727\n",
      "Number of words with more than 3 occurrences: 5142\n"
     ]
    }
   ],
   "source": [
    "def calculate_word_frequency(sentences):\n",
    "    frequencies = dict()\n",
    "\n",
    "    for sentence in sentences:\n",
    "        words = sentence.split()\n",
    "        for word in words:\n",
    "            if word in frequencies:\n",
    "                frequencies[word] += 1\n",
    "            else:\n",
    "                frequencies[word] = 1\n",
    "    return frequencies\n",
    "\n",
    "\n",
    "frequencies = calculate_word_frequency(X_train)\n",
    "# We count the number of words with more than 1, 2 and 3 occurrences\n",
    "num_words_gt_1 = sum(1 for word, freq in frequencies.items() if freq > 1)\n",
    "num_words_gt_2 = sum(1 for word, freq in frequencies.items() if freq > 2)\n",
    "num_words_gt_3 = sum(1 for word, freq in frequencies.items() if freq > 3)\n",
    "\n",
    "print(f\"Number of words with more than 1 occurrence: {num_words_gt_1}\")\n",
    "print(f\"Number of words with more than 2 occurrences: {num_words_gt_2}\")\n",
    "print(f\"Number of words with more than 3 occurrences: {num_words_gt_3}\")"
   ]
  },
  {
   "cell_type": "markdown",
   "metadata": {},
   "source": [
    "## Model Design\n"
   ]
  },
  {
   "cell_type": "code",
   "execution_count": 31,
   "metadata": {},
   "outputs": [],
   "source": [
    "X_train, y_train = preprocess_sentences(train_sentences)\n",
    "X_test, y_test = preprocess_sentences(test_sentences)\n",
    "X_val, y_val = preprocess_sentences(val_sentences)\n",
    "\n",
    "max_sentence_num_words = 128\n",
    "sentences_over_max_length = [i for i, num_words in enumerate(sentence_num_words) if num_words > max_sentence_num_words]\n",
    "\n",
    "for i in sentences_over_max_length:\n",
    "    X_train[i], y_train[i] = truncate_sentence(X_train[i], y_train[i], max_sentence_length=max_sentence_num_words)\n",
    "\n",
    "# Map labels\n",
    "unique_tags = sorted(set(tag for sublist in y_train for tag in sublist))\n",
    "tag_to_index = {tag: idx for idx, tag in enumerate(unique_tags)}\n",
    "num_tags = len(tag_to_index)\n",
    "\n",
    "vocabulary_size = 10000"
   ]
  },
  {
   "cell_type": "code",
   "execution_count": 32,
   "metadata": {},
   "outputs": [],
   "source": [
    "import tensorflow as tf\n",
    "\n",
    "\n",
    "# Convert labels into numbers\n",
    "y_train_indexed = [[tag_to_index[tag] for tag in sublist] for sublist in y_train]\n",
    "# Add padding to the labels\n",
    "y_train = tf.keras.preprocessing.sequence.pad_sequences(y_train_indexed, padding=\"post\", maxlen=max_sentence_num_words)\n",
    "y_val_indexed = [[tag_to_index[tag] for tag in sublist] for sublist in y_val]\n",
    "y_val = tf.keras.preprocessing.sequence.pad_sequences(y_val_indexed, padding=\"post\", maxlen=max_sentence_num_words)\n",
    "\n",
    "# TextVectorization\n",
    "text_vectorizer = tf.keras.layers.TextVectorization(\n",
    "    output_mode=\"int\", max_tokens=vocabulary_size, output_sequence_length=max_sentence_num_words\n",
    ")\n",
    "text_vectorizer.adapt(X_train)"
   ]
  },
  {
   "cell_type": "code",
   "execution_count": 33,
   "metadata": {},
   "outputs": [
    {
     "name": "stdout",
     "output_type": "stream",
     "text": [
      "Model: \"model_2\"\n",
      "_________________________________________________________________\n",
      " Layer (type)                Output Shape              Param #   \n",
      "=================================================================\n",
      " input_3 (InputLayer)        [(None, 1)]               0         \n",
      "                                                                 \n",
      " text_vectorization_3 (Text  (None, 128)               0         \n",
      " Vectorization)                                                  \n",
      "                                                                 \n",
      " embedding_2 (Embedding)     (None, 128, 50)           500000    \n",
      "                                                                 \n",
      " lstm_2 (LSTM)               (None, 128, 64)           29440     \n",
      "                                                                 \n",
      " time_distributed_2 (TimeDi  (None, 128, 17)           1105      \n",
      " stributed)                                                      \n",
      "                                                                 \n",
      "=================================================================\n",
      "Total params: 530545 (2.02 MB)\n",
      "Trainable params: 530545 (2.02 MB)\n",
      "Non-trainable params: 0 (0.00 Byte)\n",
      "_________________________________________________________________\n"
     ]
    }
   ],
   "source": [
    "input_layer = tf.keras.layers.Input(shape=(1,), dtype=tf.string)\n",
    "x = text_vectorizer(input_layer)\n",
    "x = tf.keras.layers.Embedding(input_dim=len(text_vectorizer.get_vocabulary()), output_dim=50, mask_zero=True)(x)\n",
    "x = tf.keras.layers.LSTM(units=64, return_sequences=True)(x)\n",
    "x = tf.keras.layers.TimeDistributed(tf.keras.layers.Dense(num_tags, activation=\"softmax\"))(x)\n",
    "model = tf.keras.Model(inputs=input_layer, outputs=x)\n",
    "model.summary()"
   ]
  },
  {
   "cell_type": "code",
   "execution_count": 34,
   "metadata": {},
   "outputs": [],
   "source": [
    "model.compile(optimizer=\"adam\", loss=\"sparse_categorical_crossentropy\", metrics=[\"accuracy\"])"
   ]
  },
  {
   "cell_type": "code",
   "execution_count": 35,
   "metadata": {},
   "outputs": [
    {
     "name": "stdout",
     "output_type": "stream",
     "text": [
      "Epoch 1/25\n",
      "25/25 [==============================] - 12s 361ms/step - loss: 2.7596 - accuracy: 0.1953 - val_loss: 2.6448 - val_accuracy: 0.2017\n",
      "Epoch 2/25\n",
      "25/25 [==============================] - 11s 421ms/step - loss: 2.5662 - accuracy: 0.2005 - val_loss: 2.5182 - val_accuracy: 0.2193\n",
      "Epoch 3/25\n",
      "25/25 [==============================] - 11s 435ms/step - loss: 2.4565 - accuracy: 0.2295 - val_loss: 2.3797 - val_accuracy: 0.2632\n",
      "Epoch 4/25\n",
      "25/25 [==============================] - 11s 430ms/step - loss: 2.2735 - accuracy: 0.2850 - val_loss: 2.1468 - val_accuracy: 0.3300\n",
      "Epoch 5/25\n",
      "25/25 [==============================] - 10s 421ms/step - loss: 2.0501 - accuracy: 0.3638 - val_loss: 1.9227 - val_accuracy: 0.4241\n",
      "Epoch 6/25\n",
      "25/25 [==============================] - 10s 421ms/step - loss: 1.8552 - accuracy: 0.4319 - val_loss: 1.7459 - val_accuracy: 0.4821\n",
      "Epoch 7/25\n",
      "25/25 [==============================] - 10s 415ms/step - loss: 1.6975 - accuracy: 0.4788 - val_loss: 1.6122 - val_accuracy: 0.5185\n",
      "Epoch 8/25\n",
      "25/25 [==============================] - 11s 424ms/step - loss: 1.5632 - accuracy: 0.5158 - val_loss: 1.5002 - val_accuracy: 0.5446\n",
      "Epoch 9/25\n",
      "25/25 [==============================] - 10s 414ms/step - loss: 1.4567 - accuracy: 0.5441 - val_loss: 1.4271 - val_accuracy: 0.5621\n",
      "Epoch 10/25\n",
      "25/25 [==============================] - 10s 397ms/step - loss: 1.3778 - accuracy: 0.5623 - val_loss: 1.3794 - val_accuracy: 0.5639\n",
      "Epoch 11/25\n",
      "25/25 [==============================] - 11s 457ms/step - loss: 1.3143 - accuracy: 0.5751 - val_loss: 1.3456 - val_accuracy: 0.5719\n",
      "Epoch 12/25\n",
      "25/25 [==============================] - 10s 416ms/step - loss: 1.2598 - accuracy: 0.5878 - val_loss: 1.3275 - val_accuracy: 0.5777\n",
      "Epoch 13/25\n",
      "25/25 [==============================] - 10s 412ms/step - loss: 1.2106 - accuracy: 0.5992 - val_loss: 1.3057 - val_accuracy: 0.5788\n",
      "Epoch 14/25\n",
      "25/25 [==============================] - 10s 418ms/step - loss: 1.1696 - accuracy: 0.6100 - val_loss: 1.3048 - val_accuracy: 0.5817\n",
      "Epoch 15/25\n",
      "25/25 [==============================] - 11s 423ms/step - loss: 1.1273 - accuracy: 0.6222 - val_loss: 1.2834 - val_accuracy: 0.5841\n",
      "Epoch 16/25\n",
      "25/25 [==============================] - 10s 407ms/step - loss: 1.0926 - accuracy: 0.6327 - val_loss: 1.2847 - val_accuracy: 0.5861\n",
      "Epoch 17/25\n",
      "25/25 [==============================] - 12s 486ms/step - loss: 1.0590 - accuracy: 0.6431 - val_loss: 1.2757 - val_accuracy: 0.5827\n",
      "Epoch 18/25\n",
      "25/25 [==============================] - 12s 480ms/step - loss: 1.0278 - accuracy: 0.6526 - val_loss: 1.2847 - val_accuracy: 0.5883\n",
      "Epoch 19/25\n",
      "25/25 [==============================] - 10s 407ms/step - loss: 0.9970 - accuracy: 0.6630 - val_loss: 1.2853 - val_accuracy: 0.5852\n",
      "Epoch 20/25\n",
      "25/25 [==============================] - 11s 430ms/step - loss: 0.9706 - accuracy: 0.6709 - val_loss: 1.2949 - val_accuracy: 0.5864\n",
      "Epoch 21/25\n",
      "25/25 [==============================] - 11s 446ms/step - loss: 0.9471 - accuracy: 0.6786 - val_loss: 1.2916 - val_accuracy: 0.5867\n",
      "Epoch 22/25\n",
      "25/25 [==============================] - 10s 407ms/step - loss: 0.9227 - accuracy: 0.6872 - val_loss: 1.2968 - val_accuracy: 0.5829\n",
      "Epoch 23/25\n",
      "25/25 [==============================] - 10s 409ms/step - loss: 0.9015 - accuracy: 0.6945 - val_loss: 1.3071 - val_accuracy: 0.5849\n",
      "Epoch 24/25\n",
      "25/25 [==============================] - 10s 410ms/step - loss: 0.8821 - accuracy: 0.7019 - val_loss: 1.3172 - val_accuracy: 0.5844\n",
      "Epoch 25/25\n",
      "25/25 [==============================] - 10s 411ms/step - loss: 0.8672 - accuracy: 0.7055 - val_loss: 1.3191 - val_accuracy: 0.5837\n"
     ]
    }
   ],
   "source": [
    "import numpy as np\n",
    "\n",
    "history = model.fit(\n",
    "    np.array(X_train), y_train, batch_size=512, epochs=25, validation_data=(np.array(X_val), y_val), verbose=True\n",
    ")"
   ]
  }
 ],
 "metadata": {
  "kernelspec": {
   "display_name": "nlu_venv",
   "language": "python",
   "name": "python3"
  },
  "language_info": {
   "codemirror_mode": {
    "name": "ipython",
    "version": 3
   },
   "file_extension": ".py",
   "mimetype": "text/x-python",
   "name": "python",
   "nbconvert_exporter": "python",
   "pygments_lexer": "ipython3",
   "version": "3.10.8"
  }
 },
 "nbformat": 4,
 "nbformat_minor": 2
}
