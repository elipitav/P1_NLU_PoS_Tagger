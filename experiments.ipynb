{
 "cells": [
  {
   "cell_type": "markdown",
   "metadata": {},
   "source": [
    "# POS Tagging with LSTM\n",
    "\n",
    "We use the dataset from the [UD English EWT](https://github.com/UniversalDependencies/UD_English-EWT) to train a POS tagger with an LSTM model.\n",
    "\n",
    "First, we load the three datasets: train, validation, and test. We use the `conllu` library to parse the datasets.\n"
   ]
  },
  {
   "cell_type": "code",
   "execution_count": 1,
   "metadata": {},
   "outputs": [
    {
     "data": {
      "text/plain": [
       "[TokenList<Al, -, Zaman, :, American, forces, killed, Shaikh, Abdullah, al, -, Ani, ,, the, preacher, at, the, mosque, in, the, town, of, Qaim, ,, near, the, Syrian, border, ., metadata={newdoc id: \"weblog-juancole.com_juancole_20051126063000_ENG_20051126_063000\", sent_id: \"weblog-juancole.com_juancole_20051126063000_ENG_20051126_063000-0001\", newpar id: \"weblog-juancole.com_juancole_20051126063000_ENG_20051126_063000-p0001\", text: \"Al-Zaman : American forces killed Shaikh Abdullah al-Ani, the preacher at the mosque in the town of Qaim, near the Syrian border.\"}>, TokenList<[, This, killing, of, a, respected, cleric, will, be, causing, us, trouble, for, years, to, come, ., ], metadata={sent_id: \"weblog-juancole.com_juancole_20051126063000_ENG_20051126_063000-0002\", text: \"[This killing of a respected cleric will be causing us trouble for years to come.]\"}>]"
      ]
     },
     "execution_count": 1,
     "metadata": {},
     "output_type": "execute_result"
    }
   ],
   "source": [
    "from conllu import parse\n",
    "\n",
    "train_filename = \"data/english/en_ewt-ud-train.conllu\"\n",
    "test_filename = \"data/english/en_ewt-ud-test.conllu\"\n",
    "val_filename = \"data/english/en_ewt-ud-dev.conllu\"\n",
    "\n",
    "\n",
    "def get_fields(line):\n",
    "    words = line.split(\"\\t\")\n",
    "    if len(words) < 4:\n",
    "        return None\n",
    "    return words[1], words[3], line\n",
    "\n",
    "\n",
    "with open(train_filename, \"r\", encoding=\"utf-8\") as file:\n",
    "    train_sentences = parse(file.read())\n",
    "with open(test_filename, \"r\", encoding=\"utf-8\") as file:\n",
    "    test_sentences = parse(file.read())\n",
    "with open(val_filename, \"r\", encoding=\"utf-8\") as file:\n",
    "    val_sentences = parse(file.read())\n",
    "\n",
    "train_sentences[:2]"
   ]
  },
  {
   "cell_type": "markdown",
   "metadata": {},
   "source": [
    "We preprocess all the datasets by getting only the words and the POS tags. We put all the sentences in a list and all the POS tags in another list of lists.\n"
   ]
  },
  {
   "cell_type": "code",
   "execution_count": 2,
   "metadata": {},
   "outputs": [
    {
     "name": "stdout",
     "output_type": "stream",
     "text": [
      "Sentences: You wonder if he was manipulating the market with his bombing targets .\n",
      "Class labels: ['PRON', 'VERB', 'SCONJ', 'PRON', 'AUX', 'VERB', 'DET', 'NOUN', 'ADP', 'PRON', 'NOUN', 'NOUN', 'PUNCT']\n"
     ]
    }
   ],
   "source": [
    "def preprocess_sentences(sentences):\n",
    "    X_data = []\n",
    "    y_data = []\n",
    "    for sentence in sentences:\n",
    "        parsed_sentence = []\n",
    "        sentence_labels = []\n",
    "        for token in sentence:\n",
    "            if type(token[\"id\"]) == int:\n",
    "                parsed_sentence.append(token[\"form\"])\n",
    "                sentence_labels.append(token[\"upostag\"])\n",
    "        X_data.append(\" \".join(parsed_sentence))\n",
    "        y_data.append(sentence_labels)\n",
    "\n",
    "    return X_data, y_data\n",
    "\n",
    "\n",
    "X_train, y_train = preprocess_sentences(train_sentences)\n",
    "X_test, y_test = preprocess_sentences(test_sentences)\n",
    "X_val, y_val = preprocess_sentences(val_sentences)\n",
    "\n",
    "print(f\"Sentences: {X_train[6]}\")\n",
    "print(f\"Class labels: {y_train[6]}\")"
   ]
  },
  {
   "cell_type": "markdown",
   "metadata": {},
   "source": [
    "We calculate the number of classes and order it by alphabetical order. We obtain 17 different classes (as we expected, because we are following the [Universal POS tags](https://universaldependencies.org/u/pos/index.html) standard).\n"
   ]
  },
  {
   "cell_type": "code",
   "execution_count": 3,
   "metadata": {},
   "outputs": [
    {
     "name": "stdout",
     "output_type": "stream",
     "text": [
      "Number of classes: 17\n",
      "Class names: ['ADJ', 'ADP', 'ADV', 'AUX', 'CCONJ', 'DET', 'INTJ', 'NOUN', 'NUM', 'PART', 'PRON', 'PROPN', 'PUNCT', 'SCONJ', 'SYM', 'VERB', 'X']\n"
     ]
    }
   ],
   "source": [
    "# Flatten y_data and convert to a set to get unique labels\n",
    "class_names = sorted(list({label for sublist in y_train for label in sublist}))\n",
    "num_classes = len(class_names)\n",
    "print(f\"Number of classes: {num_classes}\")\n",
    "print(f\"Class names: {class_names}\")\n",
    "\n",
    "# Create a dictionary mapping class names to class numbers\n",
    "classes = dict(zip(class_names, range(num_classes)))"
   ]
  },
  {
   "cell_type": "markdown",
   "metadata": {},
   "source": [
    "We calculate some statistics to decide which parameters we have to use when designing. We observe that the average length of the sentences is aproximately 16 words and the standard deviation is 12.4. Also, we observe that there are not a lot of sentences with more than 100 words.\n"
   ]
  },
  {
   "cell_type": "code",
   "execution_count": 6,
   "metadata": {},
   "outputs": [
    {
     "name": "stdout",
     "output_type": "stream",
     "text": [
      "Max sentence length: 159\n",
      "Mean sentence length: 16.31\n",
      "Standard deviation of sentence length: 12.4\n"
     ]
    },
    {
     "data": {
      "image/png": "[encoded data removed]",
      "text/plain": [
       "<Figure size 640x480 with 1 Axes>"
      ]
     },
     "metadata": {},
     "output_type": "display_data"
    }
   ],
   "source": [
    "import numpy as np\n",
    "import matplotlib.pyplot as plt\n",
    "\n",
    "# Calculate the maximum length of the sentences\n",
    "sentence_num_words = [len(sentence.split()) for sentence in X_train]\n",
    "max_len = max(sentence_num_words)\n",
    "print(f\"Max sentence length: {round(max_len, 2)}\")\n",
    "\n",
    "mean_len = np.mean(sentence_num_words)\n",
    "std_len = np.std(sentence_num_words)\n",
    "print(f\"Mean sentence length: {round(mean_len, 2)}\")\n",
    "print(f\"Standard deviation of sentence length: {round(std_len, 2)}\")\n",
    "\n",
    "# Build an histogram of the number of words in the sentences\n",
    "plt.hist(sentence_num_words, bins=50)\n",
    "plt.xlabel(\"Sentence length\")\n",
    "plt.ylabel(\"Frequency\")\n",
    "plt.title(\"Sentence length histogram\")\n",
    "plt.show()"
   ]
  },
  {
   "cell_type": "markdown",
   "metadata": {},
   "source": [
    "We calculate how many different words we have in the train set and in the test set: 19674 and 5629, respectively.\n"
   ]
  },
  {
   "cell_type": "code",
   "execution_count": 7,
   "metadata": {},
   "outputs": [
    {
     "name": "stdout",
     "output_type": "stream",
     "text": [
      "Number of unique tokens: 19674\n",
      "Number of unique tokens: 5629\n"
     ]
    }
   ],
   "source": [
    "X_plain_train = {token for sentence in X_train for token in sentence.split()}\n",
    "print(f\"Number of unique tokens: {len(X_plain_train)}\")\n",
    "\n",
    "X_plain_test = {token for sentence in X_test for token in sentence.split()}\n",
    "print(f\"Number of unique tokens: {len(X_plain_test)}\")"
   ]
  },
  {
   "cell_type": "code",
   "execution_count": 8,
   "metadata": {},
   "outputs": [
    {
     "name": "stdout",
     "output_type": "stream",
     "text": [
      "WARNING:tensorflow:From c:\\Users\\User\\Desktop\\Anton\\Universidade\\7_Curso\\0_Materias\\NLU\\Practicas\\nlu_venv\\lib\\site-packages\\keras\\src\\losses.py:2976: The name tf.losses.sparse_softmax_cross_entropy is deprecated. Please use tf.compat.v1.losses.sparse_softmax_cross_entropy instead.\n",
      "\n",
      "WARNING:tensorflow:From c:\\Users\\User\\Desktop\\Anton\\Universidade\\7_Curso\\0_Materias\\NLU\\Practicas\\nlu_venv\\lib\\site-packages\\keras\\src\\backend.py:873: The name tf.get_default_graph is deprecated. Please use tf.compat.v1.get_default_graph instead.\n",
      "\n"
     ]
    },
    {
     "ename": "AttributeError",
     "evalue": "'TextVectorization' object has no attribute 'fit_on_texts'",
     "output_type": "error",
     "traceback": [
      "\u001b[1;31m---------------------------------------------------------------------------\u001b[0m",
      "\u001b[1;31mAttributeError\u001b[0m                            Traceback (most recent call last)",
      "Cell \u001b[1;32mIn[8], line 9\u001b[0m\n\u001b[0;32m      7\u001b[0m vocab_size \u001b[38;5;241m=\u001b[39m \u001b[38;5;241m1000\u001b[39m  \u001b[38;5;66;03m# Number of unique words\u001b[39;00m\n\u001b[0;32m      8\u001b[0m tokenizer \u001b[38;5;241m=\u001b[39m TextVectorization(output_mode\u001b[38;5;241m=\u001b[39m\u001b[38;5;124m\"\u001b[39m\u001b[38;5;124mint\u001b[39m\u001b[38;5;124m\"\u001b[39m, max_tokens\u001b[38;5;241m=\u001b[39mvocab_size, output_sequence_length\u001b[38;5;241m=\u001b[39mmax_len)\n\u001b[1;32m----> 9\u001b[0m \u001b[43mtokenizer\u001b[49m\u001b[38;5;241;43m.\u001b[39;49m\u001b[43mfit_on_texts\u001b[49m(X_train)\n\u001b[0;32m     11\u001b[0m \u001b[38;5;66;03m# Convert text to sequences\u001b[39;00m\n\u001b[0;32m     12\u001b[0m X_train \u001b[38;5;241m=\u001b[39m tokenizer\u001b[38;5;241m.\u001b[39mtexts_to_sequences(X_train)\n",
      "\u001b[1;31mAttributeError\u001b[0m: 'TextVectorization' object has no attribute 'fit_on_texts'"
     ]
    }
   ],
   "source": [
    "from tensorflow.keras.models import Sequential\n",
    "from tensorflow.keras.layers import Embedding, LSTM, Dense\n",
    "from tensorflow.keras.layers import TextVectorization\n",
    "from tensorflow.keras.preprocessing.sequence import pad_sequences\n",
    "\n",
    "# Step 2: Text tokenization\n",
    "vocab_size = 1000  # Number of unique words\n",
    "tokenizer = TextVectorization(output_mode=\"int\", max_tokens=vocab_size, output_sequence_length=max_len)\n",
    "tokenizer.fit_on_texts(X_train)\n",
    "\n",
    "# Convert text to sequences\n",
    "X_train = tokenizer.texts_to_sequences(X_train)\n",
    "\n",
    "\n",
    "y_train = pad_sequences(y_train, maxlen=max_len, padding=\"post\", value=0)\n",
    "\n",
    "# Step 3: Define the model\n",
    "embedding_dim = 50  # Dimension of the embedding vector\n",
    "\n",
    "model = Sequential()\n",
    "# Embedding layer\n",
    "model.add(Embedding(input_dim=vocab_size, output_dim=embedding_dim, input_length=max_len))\n",
    "# LSTM layer\n",
    "model.add(LSTM(units=embedding_dim))\n",
    "# Output layer\n",
    "model.add(Dense(num_classes, activation=\"softmax\"))\n",
    "\n",
    "# Step 4: Compile the model\n",
    "model.compile(optimizer=\"adam\", loss=\"categorical_crossentropy\", metrics=[\"accuracy\"])"
   ]
  }
 ],
 "metadata": {
  "kernelspec": {
   "display_name": "nlu_venv",
   "language": "python",
   "name": "python3"
  },
  "language_info": {
   "codemirror_mode": {
    "name": "ipython",
    "version": 3
   },
   "file_extension": ".py",
   "mimetype": "text/x-python",
   "name": "python",
   "nbconvert_exporter": "python",
   "pygments_lexer": "ipython3",
   "version": "3.10.8"
  }
 },
 "nbformat": 4,
 "nbformat_minor": 2
}
