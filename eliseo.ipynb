{
 "cells": [
  {
   "cell_type": "code",
   "execution_count": 2,
   "metadata": {},
   "outputs": [],
   "source": [
    "import conllu"
   ]
  },
  {
   "cell_type": "code",
   "execution_count": 3,
   "metadata": {},
   "outputs": [],
   "source": [
    "# Open the .conllu file\n",
    "with open('Dataset/English/en_ewt-ud-dev.conllu', 'r', encoding='utf-8') as f:\n",
    "    # Parse the file\n",
    "    data = conllu.parse(f.read())"
   ]
  },
  {
   "cell_type": "code",
   "execution_count": 31,
   "metadata": {},
   "outputs": [
    {
     "name": "stdout",
     "output_type": "stream",
     "text": [
      "<class 'int'> 1 He\n",
      "<class 'int'> 2 could\n",
      "<class 'int'> 3 be\n",
      "<class 'int'> 4 killed\n",
      "<class 'int'> 5 years\n",
      "<class 'int'> 6 ago\n",
      "<class 'int'> 7 and\n",
      "<class 'int'> 8 the\n",
      "<class 'int'> 9 israelians\n",
      "<class 'int'> 10 have\n",
      "<class 'int'> 11 all\n",
      "<class 'int'> 12 the\n",
      "<class 'int'> 13 reasons\n",
      "<class 'int'> 14 ,\n",
      "<class 'int'> 15 since\n",
      "<class 'int'> 16 he\n",
      "<class 'int'> 17 founded\n",
      "<class 'int'> 18 and\n",
      "<class 'int'> 19 he\n",
      "<class 'int'> 20 is\n",
      "<class 'int'> 21 the\n",
      "<class 'int'> 22 spiritual\n",
      "<class 'int'> 23 leader\n",
      "<class 'int'> 24 of\n",
      "<class 'int'> 25 Hamas\n",
      "<class 'int'> 26 ,\n",
      "<class 'int'> 27 but\n",
      "<class 'int'> 28 they\n",
      "<class 'tuple'> (29, '-', 30) didn't\n",
      "didn't\n",
      "<class 'int'> 29 did\n",
      "<class 'int'> 30 n't\n",
      "<class 'int'> 31 .\n"
     ]
    }
   ],
   "source": [
    "for token in data[6]:\n",
    "    print(f\"{type(token['id'])} {token['id']} {token['form']}\")\n",
    "    if type(token[\"id\"]) != int:\n",
    "        print(token)"
   ]
  },
  {
   "cell_type": "code",
   "execution_count": 9,
   "metadata": {},
   "outputs": [
    {
     "name": "stdout",
     "output_type": "stream",
     "text": [
      "Bush PROPN\n",
      "nominated VERB\n",
      "Jennifer PROPN\n",
      "M. PROPN\n",
      "Anderson PROPN\n",
      "for ADP\n",
      "a DET\n",
      "15 NUM\n",
      "- PUNCT\n",
      "year NOUN\n",
      "term NOUN\n",
      "as ADP\n",
      "associate ADJ\n",
      "judge NOUN\n",
      "of ADP\n",
      "the DET\n",
      "Superior ADJ\n",
      "Court PROPN\n",
      "of ADP\n",
      "the DET\n",
      "District PROPN\n",
      "of ADP\n",
      "Columbia PROPN\n",
      ", PUNCT\n",
      "replacing VERB\n",
      "Steffen PROPN\n",
      "W. PROPN\n",
      "Graae PROPN\n",
      ". PUNCT\n"
     ]
    }
   ],
   "source": [
    "for token in data[2]:\n",
    "    print(token[\"form\"], token[\"upos\"])"
   ]
  },
  {
   "cell_type": "code",
   "execution_count": null,
   "metadata": {},
   "outputs": [],
   "source": []
  }
 ],
 "metadata": {
  "kernelspec": {
   "display_name": "nlu",
   "language": "python",
   "name": "python3"
  },
  "language_info": {
   "codemirror_mode": {
    "name": "ipython",
    "version": 3
   },
   "file_extension": ".py",
   "mimetype": "text/x-python",
   "name": "python",
   "nbconvert_exporter": "python",
   "pygments_lexer": "ipython3",
   "version": "3.11.10"
  }
 },
 "nbformat": 4,
 "nbformat_minor": 2
}
