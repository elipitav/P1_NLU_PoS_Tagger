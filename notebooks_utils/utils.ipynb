{
 "cells": [
  {
   "cell_type": "markdown",
   "metadata": {
    "id": "_va5zRB7aCMT"
   },
   "source": [
    "# **Useful functions for your lab assigments**\n",
    "\n"
   ]
  },
  {
   "cell_type": "markdown",
   "metadata": {
    "id": "PL19eRkPbg8T"
   },
   "source": [
    "**numpy.argmax: Returns the indices of the maximum values along an axis. See: https://numpy.org/doc/stable/reference/generated/numpy.argmax.html**"
   ]
  },
  {
   "cell_type": "code",
   "execution_count": null,
   "metadata": {
    "colab": {
     "base_uri": "https://localhost:8080/"
    },
    "executionInfo": {
     "elapsed": 19,
     "status": "ok",
     "timestamp": 1647851741617,
     "user": {
      "displayName": "David Vilares",
      "photoUrl": "https://lh3.googleusercontent.com/a-/AOh14GgY5xJ7OGo_6cJeWxW5f0lKNDH9mjhvhND7UBDuyw=s64",
      "userId": "14796473427498895857"
     },
     "user_tz": -60
    },
    "id": "YEbmKUJBZ--a",
    "outputId": "9d1ee2e7-3820-4f2b-b1a0-a39adc89a9ec"
   },
   "outputs": [],
   "source": [
    "import numpy as np\n",
    "array = np.random.rand(10)\n",
    "print (\"Sample array\")\n",
    "print (array)\n",
    "idxmax = np.argmax(array)\n",
    "print (\"Index {} has the highest value ({}) of the array\".format(idxmax, array[idxmax]))"
   ]
  },
  {
   "cell_type": "markdown",
   "metadata": {
    "id": "RF_ZtTdiBafZ"
   },
   "source": [
    "**tqdm - Helps estimate the computation time of a loop**"
   ]
  },
  {
   "cell_type": "code",
   "execution_count": null,
   "metadata": {
    "colab": {
     "base_uri": "https://localhost:8080/"
    },
    "executionInfo": {
     "elapsed": 5336,
     "status": "ok",
     "timestamp": 1647851762822,
     "user": {
      "displayName": "David Vilares",
      "photoUrl": "https://lh3.googleusercontent.com/a-/AOh14GgY5xJ7OGo_6cJeWxW5f0lKNDH9mjhvhND7UBDuyw=s64",
      "userId": "14796473427498895857"
     },
     "user_tz": -60
    },
    "id": "-pZMrAt7B1_5",
    "outputId": "0746f33d-0d1f-426d-8616-24ea99da65f8"
   },
   "outputs": [],
   "source": [
    "import tqdm\n",
    "import time\n",
    "\n",
    "for i in tqdm.tqdm(range(1000)):\n",
    "  time.sleep(0.005)"
   ]
  },
  {
   "cell_type": "code",
   "execution_count": null,
   "metadata": {},
   "outputs": [],
   "source": []
  }
 ],
 "metadata": {
  "colab": {
   "authorship_tag": "ABX9TyMKJ2L6cxqmuUVCZKTZQw7k",
   "provenance": []
  },
  "kernelspec": {
   "display_name": "Python 3 (ipykernel)",
   "language": "python",
   "name": "python3"
  },
  "language_info": {
   "codemirror_mode": {
    "name": "ipython",
    "version": 3
   },
   "file_extension": ".py",
   "mimetype": "text/x-python",
   "name": "python",
   "nbconvert_exporter": "python",
   "pygments_lexer": "ipython3",
   "version": "3.11.9"
  }
 },
 "nbformat": 4,
 "nbformat_minor": 4
}
