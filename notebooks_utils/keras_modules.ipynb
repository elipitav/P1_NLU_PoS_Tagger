{
 "cells": [
  {
   "attachments": {},
   "cell_type": "markdown",
   "metadata": {
    "id": "ymx3lVwVFerM"
   },
   "source": [
    "**Some relevant Tensorflow and Keras modules that we will be using for our LSTM model:**\n",
    "\n",
    "- https://www.tensorflow.org/api_docs/python/tf/keras/Sequential\n",
    "- https://www.tensorflow.org/api_docs/python/tf/keras/layers/Embedding \n",
    "- https://www.tensorflow.org/api_docs/python/tf/keras/layers/Dense\n",
    "- https://www.tensorflow.org/api_docs/python/tf/keras/layers/Flatten\n",
    "- https://www.tensorflow.org/api_docs/python/tf/keras/layers/LSTM\n",
    "- https://www.tensorflow.org/api_docs/python/tf/keras/utils/to_categorical\n",
    "- https://www.tensorflow.org/api_docs/python/tf/keras/preprocessing/sequence/pad_sequences\n",
    "- https://www.tensorflow.org/api_docs/python/tf/keras/layers/TimeDistributed\n",
    "- https://www.tensorflow.org/api_docs/python/tf/data/Dataset\n"
   ]
  },
  {
   "attachments": {},
   "cell_type": "markdown",
   "metadata": {
    "id": "a9MYjOxXIImO"
   },
   "source": [
    "**Keras modules required to create our LSTM model**\n",
    "\n",
    "\n"
   ]
  },
  {
   "cell_type": "code",
   "execution_count": null,
   "metadata": {
    "colab": {
     "base_uri": "https://localhost:8080/"
    },
    "executionInfo": {
     "elapsed": 1433,
     "status": "ok",
     "timestamp": 1677056720539,
     "user": {
      "displayName": "David V",
      "userId": "14796473427498895857"
     },
     "user_tz": -60
    },
    "id": "yIZghlwaD3pL",
    "outputId": "9ed3c659-cdbd-4d55-d1e4-4886788b53cb"
   },
   "outputs": [],
   "source": [
    "from tensorflow.keras import Sequential\n",
    "from tensorflow.keras.layers import Embedding, Dense, LSTM, TimeDistributed\n",
    "from tensorflow.keras.utils import to_categorical\n",
    "from tensorflow.keras.preprocessing.sequence import pad_sequences\n",
    "\n",
    "\n",
    "dummy_num_words = 100\n",
    "dummy_nlabels = 50\n",
    "dummy_emb_dim = 20\n",
    "dummy_max_seq_length = 64\n",
    "lstm_out_dim = 128\n",
    "\n",
    "model = Sequential()\n",
    "model.add(Embedding(dummy_num_words, dummy_emb_dim, input_length=dummy_max_seq_length, mask_zero=True))\n",
    "model.add(LSTM(lstm_out_dim, return_sequences=True))\n",
    "model.add(TimeDistributed(Dense(dummy_nlabels, activation='softmax')))\n",
    "\n",
    "model.summary()\n",
    "\n"
   ]
  },
  {
   "attachments": {},
   "cell_type": "markdown",
   "metadata": {
    "id": "mKbvEr48Puet"
   },
   "source": [
    "**We can save the model after training is finished** (ignore the WARNING for this specific example)"
   ]
  },
  {
   "cell_type": "code",
   "execution_count": null,
   "metadata": {
    "colab": {
     "base_uri": "https://localhost:8080/"
    },
    "executionInfo": {
     "elapsed": 230,
     "status": "ok",
     "timestamp": 1677056750228,
     "user": {
      "displayName": "David V",
      "userId": "14796473427498895857"
     },
     "user_tz": -60
    },
    "id": "TWQnZ-lMPxyV",
    "outputId": "b3ef31e4-ed82-4043-e258-4a222934e3de"
   },
   "outputs": [],
   "source": [
    "model.save(\"dummy_model.h5\")"
   ]
  },
  {
   "attachments": {},
   "cell_type": "markdown",
   "metadata": {
    "id": "5_fpp3lbRyxH"
   },
   "source": [
    "**We also can load the model to use it anytime later**"
   ]
  },
  {
   "cell_type": "code",
   "execution_count": null,
   "metadata": {
    "colab": {
     "base_uri": "https://localhost:8080/"
    },
    "executionInfo": {
     "elapsed": 2098,
     "status": "ok",
     "timestamp": 1677056758678,
     "user": {
      "displayName": "David V",
      "userId": "14796473427498895857"
     },
     "user_tz": -60
    },
    "id": "d_wStL7xSQ2O",
    "outputId": "35f310b4-6b8d-43a1-f2d7-bc30bd513bff"
   },
   "outputs": [],
   "source": [
    "import tensorflow\n",
    "model = tensorflow.keras.models.load_model(\"dummy_model.h5\")\n",
    "\n",
    "model.summary()"
   ]
  },
  {
   "attachments": {},
   "cell_type": "markdown",
   "metadata": {
    "id": "DsAMaShdIqd1"
   },
   "source": [
    "**pad_sequences: pads contexts that have less than max_seq_length words. For instance:**"
   ]
  },
  {
   "cell_type": "code",
   "execution_count": null,
   "metadata": {
    "colab": {
     "base_uri": "https://localhost:8080/"
    },
    "executionInfo": {
     "elapsed": 185,
     "status": "ok",
     "timestamp": 1677056763454,
     "user": {
      "displayName": "David V",
      "userId": "14796473427498895857"
     },
     "user_tz": -60
    },
    "id": "w2PwevctIP5U",
    "outputId": "0df52499-423a-479e-aa69-41a1c7e8d6e3"
   },
   "outputs": [],
   "source": [
    "sequences = [[],[1],[3,2],[4,5,7,8]]\n",
    "pad_sequences(sequences)"
   ]
  },
  {
   "attachments": {},
   "cell_type": "markdown",
   "metadata": {
    "id": "oOaYVm_jGgPW"
   },
   "source": [
    "**to_categorical: transforms a set of discrete classes into their one-hot representation**\n"
   ]
  },
  {
   "cell_type": "code",
   "execution_count": null,
   "metadata": {
    "colab": {
     "base_uri": "https://localhost:8080/"
    },
    "executionInfo": {
     "elapsed": 9,
     "status": "ok",
     "timestamp": 1677055217551,
     "user": {
      "displayName": "David V",
      "userId": "14796473427498895857"
     },
     "user_tz": -60
    },
    "id": "Q5eXyFwmGfvg",
    "outputId": "37d1ea25-5ce2-4bbd-a2cb-551a307be9ca"
   },
   "outputs": [],
   "source": [
    "import tensorflow\n",
    "discrete_classes = [0, 1, 2, 3, 0, 4, 5, 3, 3, 3]\n",
    "print (\"Discrete classes:\", discrete_classes)\n",
    "categorical_classes = tensorflow.keras.utils.to_categorical(discrete_classes, num_classes=len(set(discrete_classes)))\n",
    "print (\"Categorical classes:\")\n",
    "print (categorical_classes)"
   ]
  },
  {
   "attachments": {},
   "cell_type": "markdown",
   "metadata": {
    "id": "sEpuDLRCpf8D"
   },
   "source": [
    "**Create a set of samples using [tf.data.Dataset](https://www.tensorflow.org/api_docs/python/tf/data/Dataset) and use it to train any keras model**"
   ]
  },
  {
   "cell_type": "code",
   "execution_count": null,
   "metadata": {
    "colab": {
     "base_uri": "https://localhost:8080/"
    },
    "executionInfo": {
     "elapsed": 517,
     "status": "ok",
     "timestamp": 1677061989377,
     "user": {
      "displayName": "David V",
      "userId": "14796473427498895857"
     },
     "user_tz": -60
    },
    "id": "Co6Ayq9wpxRz",
    "outputId": "a07047f4-c5ae-44b6-d102-4f17fd918d18"
   },
   "outputs": [],
   "source": [
    "import tensorflow as tf\n",
    "import numpy as np\n",
    "from tensorflow.keras.models import Sequential\n",
    "from tensorflow.keras.layers import Dense\n",
    "\n",
    "#Dummy training data, three possible inputs and their corresponding outputs\n",
    "X = [[0,0,1],[0,1,0],[1,0,0]]\n",
    "y = [0,0,1]\n",
    "\n",
    "weights = [0.5,0.5, 1.25]\n",
    "\n",
    "dummy_batch_size=1\n",
    "use_weights=False\n",
    "\n",
    "if use_weights:\n",
    "  dataset = tf.data.Dataset.from_tensor_slices((X, y, weights))\n",
    "  dataset = dataset.batch(dummy_batch_size)\n",
    "else:\n",
    "  dataset = tf.data.Dataset.from_tensor_slices((X, y))\n",
    "  dataset = dataset.batch(dummy_batch_size)\n",
    "\n",
    "# Define the logistic regression model\n",
    "model = Sequential()\n",
    "model.add(Dense(1, input_dim=3, activation='sigmoid'))\n",
    "\n",
    "# Compile the model with binary crossentropy loss and Adam optimizer\n",
    "model.compile(loss='binary_crossentropy', optimizer='adam', metrics=['accuracy'], weighted_metrics=[])\n",
    "\n",
    "# Train the model on the input and output data\n",
    "model.fit(dataset, epochs=1, verbose=1)\n",
    "\n",
    "# Evaluate the model on the same input data (here we do no respect the train/dev methodology, but it's just for illustrative purposes)\n",
    "loss, accuracy = model.evaluate(dataset, verbose=0)\n",
    "\n",
    "print (\"Final loss/accuracy\", loss, accuracy)"
   ]
  },
  {
   "cell_type": "code",
   "execution_count": null,
   "metadata": {},
   "outputs": [],
   "source": []
  }
 ],
 "metadata": {
  "colab": {
   "authorship_tag": "ABX9TyNcLEKQVLsuDXa5HdMaXbee",
   "provenance": []
  },
  "kernelspec": {
   "display_name": "Python 3 (ipykernel)",
   "language": "python",
   "name": "python3"
  },
  "language_info": {
   "codemirror_mode": {
    "name": "ipython",
    "version": 3
   },
   "file_extension": ".py",
   "mimetype": "text/x-python",
   "name": "python",
   "nbconvert_exporter": "python",
   "pygments_lexer": "ipython3",
   "version": "3.11.9"
  }
 },
 "nbformat": 4,
 "nbformat_minor": 4
}
