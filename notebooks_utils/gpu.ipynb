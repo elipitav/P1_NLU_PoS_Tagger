{
 "cells": [
  {
   "cell_type": "markdown",
   "metadata": {
    "id": "h4o_INDOLM8j"
   },
   "source": [
    "# **How to set GPU suppport in Colab**\n",
    "\n",
    "Go to Edit -> Notebook Settings -> Hardware accelerator (set GPU or TPU)\n"
   ]
  },
  {
   "cell_type": "code",
   "execution_count": null,
   "metadata": {
    "colab": {
     "base_uri": "https://localhost:8080/"
    },
    "executionInfo": {
     "elapsed": 8116,
     "status": "ok",
     "timestamp": 1677055123453,
     "user": {
      "displayName": "David V",
      "userId": "14796473427498895857"
     },
     "user_tz": -60
    },
    "id": "NSXKIlMNIz5l",
    "outputId": "7ab33a7b-bc1a-48cb-9df1-fc6aa5c49f21"
   },
   "outputs": [],
   "source": [
    "import tensorflow\n",
    "import keras \n",
    "from tensorflow.python.client import device_lib\n",
    "\n",
    "print (\"Current tensorflow version: \", tensorflow.__version__)\n",
    "print (\"Current keras version: \", keras.__version__)\n",
    "print (\"Available resources: \", device_lib.list_local_devices())"
   ]
  },
  {
   "cell_type": "code",
   "execution_count": null,
   "metadata": {},
   "outputs": [],
   "source": []
  }
 ],
 "metadata": {
  "accelerator": "GPU",
  "colab": {
   "authorship_tag": "ABX9TyOXhXp53mfsNduH+UjahKTe",
   "provenance": []
  },
  "kernelspec": {
   "display_name": "Python 3 (ipykernel)",
   "language": "python",
   "name": "python3"
  },
  "language_info": {
   "codemirror_mode": {
    "name": "ipython",
    "version": 3
   },
   "file_extension": ".py",
   "mimetype": "text/x-python",
   "name": "python",
   "nbconvert_exporter": "python",
   "pygments_lexer": "ipython3",
   "version": "3.11.9"
  }
 },
 "nbformat": 4,
 "nbformat_minor": 4
}
